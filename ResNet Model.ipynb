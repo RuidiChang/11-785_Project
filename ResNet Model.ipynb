{
  "cells": [
    {
      "cell_type": "markdown",
      "metadata": {
        "id": "UlOJKHMkoSrS"
      },
      "source": [
        "## Import libraries and read in data"
      ]
    },
    {
      "cell_type": "code",
      "execution_count": null,
      "metadata": {
        "_cell_guid": "b1076dfc-b9ad-4769-8c92-a6c4dae69d19",
        "_uuid": "8f2839f25d086af736a60e9eeb907d3b93b6e0e5",
        "execution": {
          "iopub.execute_input": "2021-07-17T11:51:02.540676Z",
          "iopub.status.busy": "2021-07-17T11:51:02.540234Z",
          "iopub.status.idle": "2021-07-17T11:51:07.159837Z",
          "shell.execute_reply": "2021-07-17T11:51:07.158478Z",
          "shell.execute_reply.started": "2021-07-17T11:51:02.540584Z"
        },
        "id": "DH70Fbg1oSrS"
      },
      "outputs": [],
      "source": [
        "import numpy as np\n",
        "import pandas as pd \n",
        "import matplotlib.pyplot as plt\n",
        "import cv2\n",
        "import seaborn as sns\n",
        "from sklearn.model_selection import train_test_split\n",
        "from typing import List\n",
        "import torch\n",
        "import torchvision\n",
        "import torchvision.transforms as transforms\n",
        "import torch.nn as nn\n",
        "import torch.nn.functional as F\n",
        "#import pytorch_lightning as pl\n",
        "from torch.utils.data import DataLoader, Dataset\n",
        "from torchvision import transforms\n",
        "import PIL\n",
        "from PIL import Image, ImageDraw\n",
        "import torchvision.models as models\n",
        "\n",
        "#from pytorch_lightning.callbacks import EarlyStopping\n",
        "#from pytorch_lightning.loggers import WandbLogger  \n",
        "\n",
        "\n",
        "import os"
      ]
    },
    {
      "cell_type": "code",
      "source": [
        "from google.colab import drive\n",
        "drive.mount('/content/drive/')"
      ],
      "metadata": {
        "colab": {
          "base_uri": "https://localhost:8080/"
        },
        "id": "bYa4uQ5d9b2X",
        "outputId": "c170cb1c-691d-4686-c853-caf726bcb174"
      },
      "execution_count": null,
      "outputs": [
        {
          "output_type": "stream",
          "name": "stdout",
          "text": [
            "Mounted at /content/drive/\n"
          ]
        }
      ]
    },
    {
      "cell_type": "code",
      "source": [
        "!unzip -qo 'drive/MyDrive/Copy of archive' -d '/content/data'"
      ],
      "metadata": {
        "id": "84d6y3RU9gQy"
      },
      "execution_count": null,
      "outputs": []
    },
    {
      "cell_type": "code",
      "execution_count": null,
      "metadata": {
        "execution": {
          "iopub.execute_input": "2021-07-17T11:51:07.162170Z",
          "iopub.status.busy": "2021-07-17T11:51:07.161794Z",
          "iopub.status.idle": "2021-07-17T11:51:07.585351Z",
          "shell.execute_reply": "2021-07-17T11:51:07.584183Z",
          "shell.execute_reply.started": "2021-07-17T11:51:07.162133Z"
        },
        "colab": {
          "base_uri": "https://localhost:8080/"
        },
        "id": "dek7RyiQoSrT",
        "outputId": "ddd32269-cb0f-445b-b641-fe193112345d"
      },
      "outputs": [
        {
          "output_type": "stream",
          "name": "stdout",
          "text": [
            "Total samples: 23708\n",
            "26_1_3_20170104232120449.jpg.chip.jpg\n"
          ]
        }
      ],
      "source": [
        "path = \"/content/data/UTKFace/\"\n",
        "files = os.listdir(path)\n",
        "print(\"Total samples:\", len(files))\n",
        "print(files[0])"
      ]
    },
    {
      "cell_type": "markdown",
      "metadata": {
        "id": "4hbAdNk_oSrT"
      },
      "source": [
        "We can extract the needed labels (age and gender) from the file names. The first number in the file name is age, the second number is gender (0 for male, 1 for female)."
      ]
    },
    {
      "cell_type": "code",
      "execution_count": null,
      "metadata": {
        "execution": {
          "iopub.execute_input": "2021-07-17T11:51:07.590849Z",
          "iopub.status.busy": "2021-07-17T11:51:07.590537Z",
          "iopub.status.idle": "2021-07-17T11:53:13.370432Z",
          "shell.execute_reply": "2021-07-17T11:53:13.369126Z",
          "shell.execute_reply.started": "2021-07-17T11:51:07.590819Z"
        },
        "id": "NE4KdnvboSrU"
      },
      "outputs": [],
      "source": [
        "import cv2\n",
        "images = []\n",
        "ages = []\n",
        "genders = []\n",
        "for file in files:\n",
        "    image = cv2.imread(path+file,0)\n",
        "    image = cv2.resize(image,dsize=(124,124))\n",
        "    image = image.reshape((image.shape[0],image.shape[1],1))\n",
        "    images.append(image)\n",
        "    split_var = file.split('_')\n",
        "    ages.append(split_var[0])\n",
        "    genders.append(int(split_var[1]) )"
      ]
    },
    {
      "cell_type": "markdown",
      "metadata": {
        "id": "xMFwDLYXoSrU"
      },
      "source": [
        "Now let's put everything into a dataframe and check for missing values."
      ]
    },
    {
      "cell_type": "code",
      "execution_count": null,
      "metadata": {
        "execution": {
          "iopub.execute_input": "2021-07-17T11:53:13.372341Z",
          "iopub.status.busy": "2021-07-17T11:53:13.372017Z",
          "iopub.status.idle": "2021-07-17T11:53:13.434561Z",
          "shell.execute_reply": "2021-07-17T11:53:13.433468Z",
          "shell.execute_reply.started": "2021-07-17T11:53:13.372311Z"
        },
        "colab": {
          "base_uri": "https://localhost:8080/"
        },
        "id": "ezQfsYBioSrU",
        "outputId": "8cfdec70-fb3f-41a8-8e44-b3dc44dab4ff"
      },
      "outputs": [
        {
          "output_type": "execute_result",
          "data": {
            "text/plain": [
              "                                img_file  gender  age\n",
              "0  26_1_3_20170104232120449.jpg.chip.jpg       1   26\n",
              "1  23_1_1_20170114033629976.jpg.chip.jpg       1   23\n",
              "2  60_0_0_20170111201620287.jpg.chip.jpg       0   60\n",
              "3  55_0_3_20170119202724469.jpg.chip.jpg       0   55\n",
              "4   1_1_3_20161220143357382.jpg.chip.jpg       1    1"
            ],
            "text/html": [
              "\n",
              "  <div id=\"df-9cfba664-c3cd-44c2-91e6-6fcf5b1f025d\">\n",
              "    <div class=\"colab-df-container\">\n",
              "      <div>\n",
              "<style scoped>\n",
              "    .dataframe tbody tr th:only-of-type {\n",
              "        vertical-align: middle;\n",
              "    }\n",
              "\n",
              "    .dataframe tbody tr th {\n",
              "        vertical-align: top;\n",
              "    }\n",
              "\n",
              "    .dataframe thead th {\n",
              "        text-align: right;\n",
              "    }\n",
              "</style>\n",
              "<table border=\"1\" class=\"dataframe\">\n",
              "  <thead>\n",
              "    <tr style=\"text-align: right;\">\n",
              "      <th></th>\n",
              "      <th>img_file</th>\n",
              "      <th>gender</th>\n",
              "      <th>age</th>\n",
              "    </tr>\n",
              "  </thead>\n",
              "  <tbody>\n",
              "    <tr>\n",
              "      <th>0</th>\n",
              "      <td>26_1_3_20170104232120449.jpg.chip.jpg</td>\n",
              "      <td>1</td>\n",
              "      <td>26</td>\n",
              "    </tr>\n",
              "    <tr>\n",
              "      <th>1</th>\n",
              "      <td>23_1_1_20170114033629976.jpg.chip.jpg</td>\n",
              "      <td>1</td>\n",
              "      <td>23</td>\n",
              "    </tr>\n",
              "    <tr>\n",
              "      <th>2</th>\n",
              "      <td>60_0_0_20170111201620287.jpg.chip.jpg</td>\n",
              "      <td>0</td>\n",
              "      <td>60</td>\n",
              "    </tr>\n",
              "    <tr>\n",
              "      <th>3</th>\n",
              "      <td>55_0_3_20170119202724469.jpg.chip.jpg</td>\n",
              "      <td>0</td>\n",
              "      <td>55</td>\n",
              "    </tr>\n",
              "    <tr>\n",
              "      <th>4</th>\n",
              "      <td>1_1_3_20161220143357382.jpg.chip.jpg</td>\n",
              "      <td>1</td>\n",
              "      <td>1</td>\n",
              "    </tr>\n",
              "  </tbody>\n",
              "</table>\n",
              "</div>\n",
              "      <button class=\"colab-df-convert\" onclick=\"convertToInteractive('df-9cfba664-c3cd-44c2-91e6-6fcf5b1f025d')\"\n",
              "              title=\"Convert this dataframe to an interactive table.\"\n",
              "              style=\"display:none;\">\n",
              "        \n",
              "  <svg xmlns=\"http://www.w3.org/2000/svg\" height=\"24px\"viewBox=\"0 0 24 24\"\n",
              "       width=\"24px\">\n",
              "    <path d=\"M0 0h24v24H0V0z\" fill=\"none\"/>\n",
              "    <path d=\"M18.56 5.44l.94 2.06.94-2.06 2.06-.94-2.06-.94-.94-2.06-.94 2.06-2.06.94zm-11 1L8.5 8.5l.94-2.06 2.06-.94-2.06-.94L8.5 2.5l-.94 2.06-2.06.94zm10 10l.94 2.06.94-2.06 2.06-.94-2.06-.94-.94-2.06-.94 2.06-2.06.94z\"/><path d=\"M17.41 7.96l-1.37-1.37c-.4-.4-.92-.59-1.43-.59-.52 0-1.04.2-1.43.59L10.3 9.45l-7.72 7.72c-.78.78-.78 2.05 0 2.83L4 21.41c.39.39.9.59 1.41.59.51 0 1.02-.2 1.41-.59l7.78-7.78 2.81-2.81c.8-.78.8-2.07 0-2.86zM5.41 20L4 18.59l7.72-7.72 1.47 1.35L5.41 20z\"/>\n",
              "  </svg>\n",
              "      </button>\n",
              "      \n",
              "  <style>\n",
              "    .colab-df-container {\n",
              "      display:flex;\n",
              "      flex-wrap:wrap;\n",
              "      gap: 12px;\n",
              "    }\n",
              "\n",
              "    .colab-df-convert {\n",
              "      background-color: #E8F0FE;\n",
              "      border: none;\n",
              "      border-radius: 50%;\n",
              "      cursor: pointer;\n",
              "      display: none;\n",
              "      fill: #1967D2;\n",
              "      height: 32px;\n",
              "      padding: 0 0 0 0;\n",
              "      width: 32px;\n",
              "    }\n",
              "\n",
              "    .colab-df-convert:hover {\n",
              "      background-color: #E2EBFA;\n",
              "      box-shadow: 0px 1px 2px rgba(60, 64, 67, 0.3), 0px 1px 3px 1px rgba(60, 64, 67, 0.15);\n",
              "      fill: #174EA6;\n",
              "    }\n",
              "\n",
              "    [theme=dark] .colab-df-convert {\n",
              "      background-color: #3B4455;\n",
              "      fill: #D2E3FC;\n",
              "    }\n",
              "\n",
              "    [theme=dark] .colab-df-convert:hover {\n",
              "      background-color: #434B5C;\n",
              "      box-shadow: 0px 1px 3px 1px rgba(0, 0, 0, 0.15);\n",
              "      filter: drop-shadow(0px 1px 2px rgba(0, 0, 0, 0.3));\n",
              "      fill: #FFFFFF;\n",
              "    }\n",
              "  </style>\n",
              "\n",
              "      <script>\n",
              "        const buttonEl =\n",
              "          document.querySelector('#df-9cfba664-c3cd-44c2-91e6-6fcf5b1f025d button.colab-df-convert');\n",
              "        buttonEl.style.display =\n",
              "          google.colab.kernel.accessAllowed ? 'block' : 'none';\n",
              "\n",
              "        async function convertToInteractive(key) {\n",
              "          const element = document.querySelector('#df-9cfba664-c3cd-44c2-91e6-6fcf5b1f025d');\n",
              "          const dataTable =\n",
              "            await google.colab.kernel.invokeFunction('convertToInteractive',\n",
              "                                                     [key], {});\n",
              "          if (!dataTable) return;\n",
              "\n",
              "          const docLinkHtml = 'Like what you see? Visit the ' +\n",
              "            '<a target=\"_blank\" href=https://colab.research.google.com/notebooks/data_table.ipynb>data table notebook</a>'\n",
              "            + ' to learn more about interactive tables.';\n",
              "          element.innerHTML = '';\n",
              "          dataTable['output_type'] = 'display_data';\n",
              "          await google.colab.output.renderOutput(dataTable, element);\n",
              "          const docLink = document.createElement('div');\n",
              "          docLink.innerHTML = docLinkHtml;\n",
              "          element.appendChild(docLink);\n",
              "        }\n",
              "      </script>\n",
              "    </div>\n",
              "  </div>\n",
              "  "
            ]
          },
          "metadata": {},
          "execution_count": 6
        }
      ],
      "source": [
        "data = {'img_file': files, 'gender': genders, 'age': ages}\n",
        "df = pd.DataFrame(data=data)\n",
        "df['age'] = df['age'].astype(int)\n",
        "df.head()"
      ]
    },
    {
      "cell_type": "code",
      "execution_count": null,
      "metadata": {
        "execution": {
          "iopub.execute_input": "2021-07-17T11:53:13.436212Z",
          "iopub.status.busy": "2021-07-17T11:53:13.435858Z",
          "iopub.status.idle": "2021-07-17T11:53:13.450068Z",
          "shell.execute_reply": "2021-07-17T11:53:13.448956Z",
          "shell.execute_reply.started": "2021-07-17T11:53:13.436178Z"
        },
        "colab": {
          "base_uri": "https://localhost:8080/"
        },
        "id": "Y3MuNTtwoSrU",
        "outputId": "2dc9629e-404b-4545-bbbf-5d0d9cf5b2b0"
      },
      "outputs": [
        {
          "output_type": "execute_result",
          "data": {
            "text/plain": [
              "img_file    0\n",
              "gender      0\n",
              "age         0\n",
              "dtype: int64"
            ]
          },
          "metadata": {},
          "execution_count": 7
        }
      ],
      "source": [
        "df.isnull().sum()"
      ]
    },
    {
      "cell_type": "markdown",
      "metadata": {
        "id": "tViJjZc_oSrU"
      },
      "source": [
        "## EDA & Preprocessing"
      ]
    },
    {
      "cell_type": "markdown",
      "metadata": {
        "id": "Onj7k_CqoSrU"
      },
      "source": [
        "Let's start with some simpe EDA and preprocessing: look at some of the images, split age into age groups and look at the age and gender distribution.\n",
        "\n",
        "First, let's create a dictionary for genders where 0 is male, and 1 is female and print some examples."
      ]
    },
    {
      "cell_type": "code",
      "execution_count": null,
      "metadata": {
        "execution": {
          "iopub.execute_input": "2021-07-17T11:53:13.451630Z",
          "iopub.status.busy": "2021-07-17T11:53:13.451312Z",
          "iopub.status.idle": "2021-07-17T11:53:13.461882Z",
          "shell.execute_reply": "2021-07-17T11:53:13.460389Z",
          "shell.execute_reply.started": "2021-07-17T11:53:13.451601Z"
        },
        "id": "wH5liaVRoSrV"
      },
      "outputs": [],
      "source": [
        "gender_map = {\n",
        "    0: \"Male\",\n",
        "    1: \"Female\"\n",
        "}"
      ]
    },
    {
      "cell_type": "code",
      "execution_count": null,
      "metadata": {
        "execution": {
          "iopub.execute_input": "2021-07-17T11:53:13.465631Z",
          "iopub.status.busy": "2021-07-17T11:53:13.465251Z",
          "iopub.status.idle": "2021-07-17T11:53:13.478623Z",
          "shell.execute_reply": "2021-07-17T11:53:13.477306Z",
          "shell.execute_reply.started": "2021-07-17T11:53:13.465600Z"
        },
        "id": "mCtYJKPKoSrV"
      },
      "outputs": [],
      "source": [
        "def show_images(df: pd.DataFrame) -> None:\n",
        "    fig,ax = plt.subplots(2,5)\n",
        "    fig.set_size_inches(10, 6)\n",
        "    k =0\n",
        "    for i in range(2):\n",
        "        for j in range(5):\n",
        "            image = cv2.imread(path+df.img_file[k],0)\n",
        "            image = cv2.resize(image,dsize=(64,64))\n",
        "            #image = image.reshape((image.shape[0],image.shape[1],1))\n",
        "            \n",
        "            ax[i,j].imshow(image , cmap='gray')\n",
        "            ax[i,j].set_title(f'{gender_map[df.gender[k]]}, {df.age[k]}')\n",
        "            k = k+1;\n",
        "            \n",
        "    plt.tight_layout()"
      ]
    },
    {
      "cell_type": "code",
      "execution_count": null,
      "metadata": {
        "execution": {
          "iopub.execute_input": "2021-07-17T11:53:13.480909Z",
          "iopub.status.busy": "2021-07-17T11:53:13.480474Z",
          "iopub.status.idle": "2021-07-17T11:53:15.126181Z",
          "shell.execute_reply": "2021-07-17T11:53:15.125334Z",
          "shell.execute_reply.started": "2021-07-17T11:53:13.480872Z"
        },
        "colab": {
          "base_uri": "https://localhost:8080/"
        },
        "id": "MvEBUDJZoSrV",
        "outputId": "f07276a6-a634-478e-f857-5c91e52de47c"
      },
      "outputs": [
        {
          "output_type": "display_data",
          "data": {
            "text/plain": [
              "<Figure size 720x432 with 10 Axes>"
            ],
            "image/png": "[encoded data removed]"
          },
          "metadata": {
            "needs_background": "light"
          }
        }
      ],
      "source": [
        "show_images(df)"
      ]
    },
    {
      "cell_type": "markdown",
      "metadata": {
        "id": "P74yXdvMoSrV"
      },
      "source": [
        "From the first look, the training data seems to be quite diverse, as it includes people of different races, genders and ages. Let's see how many samples there are for both genders."
      ]
    },
    {
      "cell_type": "code",
      "execution_count": null,
      "metadata": {
        "execution": {
          "iopub.execute_input": "2021-07-17T11:53:15.127597Z",
          "iopub.status.busy": "2021-07-17T11:53:15.127207Z",
          "iopub.status.idle": "2021-07-17T11:53:15.284616Z",
          "shell.execute_reply": "2021-07-17T11:53:15.283697Z",
          "shell.execute_reply.started": "2021-07-17T11:53:15.127563Z"
        },
        "colab": {
          "base_uri": "https://localhost:8080/"
        },
        "id": "3C4weB37oSrV",
        "outputId": "5bd66aa6-04d1-4957-dd26-1edb082ecde7"
      },
      "outputs": [
        {
          "output_type": "stream",
          "name": "stderr",
          "text": [
            "/usr/local/lib/python3.8/dist-packages/seaborn/_decorators.py:36: FutureWarning: Pass the following variable as a keyword arg: x. From version 0.12, the only valid positional argument will be `data`, and passing other arguments without an explicit keyword will result in an error or misinterpretation.\n",
            "  warnings.warn(\n"
          ]
        },
        {
          "output_type": "display_data",
          "data": {
            "text/plain": [
              "<Figure size 576x288 with 1 Axes>"
            ],
            "image/png": "[encoded data removed]"
          },
          "metadata": {
            "needs_background": "light"
          }
        }
      ],
      "source": [
        "plt.figure(figsize=(8,4))\n",
        "ax = sns.countplot(df.gender, alpha=0.8)\n",
        "plt.title(\"Gender Count\")\n",
        "plt.ylabel('Gender Count', fontsize=12)\n",
        "plt.xlabel('Gender', fontsize=12)\n",
        "\n",
        "positions = (0, 1)\n",
        "labels = (\"Male\", \"Female\")\n",
        "plt.xticks(positions, labels)\n",
        "\n",
        "#adding the text labels\n",
        "labels = df.gender.value_counts().sort_index()\n",
        "rects = ax.patches\n",
        "for rect, label in zip(rects, labels):\n",
        "    height = rect.get_height()\n",
        "    ax.text(rect.get_x() + rect.get_width()/2, height + 5, label, ha='center', va='bottom')\n",
        "\n",
        "plt.show()"
      ]
    },
    {
      "cell_type": "markdown",
      "metadata": {
        "id": "AJMDXOSgoSrV"
      },
      "source": [
        "As we can see, the difference between female and male samples is not that big. Let's see how the age distribution looks. First, we need to find the range of ages and split the ages into age bins."
      ]
    },
    {
      "cell_type": "code",
      "execution_count": null,
      "metadata": {
        "execution": {
          "iopub.execute_input": "2021-07-17T11:53:15.286182Z",
          "iopub.status.busy": "2021-07-17T11:53:15.285894Z",
          "iopub.status.idle": "2021-07-17T11:53:15.293380Z",
          "shell.execute_reply": "2021-07-17T11:53:15.292126Z",
          "shell.execute_reply.started": "2021-07-17T11:53:15.286154Z"
        },
        "colab": {
          "base_uri": "https://localhost:8080/"
        },
        "id": "64FGaltBoSrW",
        "outputId": "4f9d9e88-925b-4d3b-9576-19035dc9ca9e"
      },
      "outputs": [
        {
          "output_type": "stream",
          "name": "stdout",
          "text": [
            "Max age:  116\n",
            "Min age:  1\n"
          ]
        }
      ],
      "source": [
        "print(\"Max age: \", df['age'].max())\n",
        "print(\"Min age: \", df['age'].min())"
      ]
    },
    {
      "cell_type": "code",
      "execution_count": null,
      "metadata": {
        "execution": {
          "iopub.execute_input": "2021-07-17T11:53:15.295745Z",
          "iopub.status.busy": "2021-07-17T11:53:15.295266Z",
          "iopub.status.idle": "2021-07-17T11:53:15.317698Z",
          "shell.execute_reply": "2021-07-17T11:53:15.316420Z",
          "shell.execute_reply.started": "2021-07-17T11:53:15.295675Z"
        },
        "colab": {
          "base_uri": "https://localhost:8080/"
        },
        "id": "3kuBD3D4oSrW",
        "outputId": "63ec38ca-abfc-48c7-ee61-d79e48525fd0"
      },
      "outputs": [
        {
          "output_type": "execute_result",
          "data": {
            "text/plain": [
              "                                img_file  gender  age bin\n",
              "0  26_1_3_20170104232120449.jpg.chip.jpg       1   26  20\n",
              "1  23_1_1_20170114033629976.jpg.chip.jpg       1   23  20\n",
              "2  60_0_0_20170111201620287.jpg.chip.jpg       0   60  50\n",
              "3  55_0_3_20170119202724469.jpg.chip.jpg       0   55  50\n",
              "4   1_1_3_20161220143357382.jpg.chip.jpg       1    1   0"
            ],
            "text/html": [
              "\n",
              "  <div id=\"df-1113ef0b-b327-45e9-974f-5ef66eb74f2e\">\n",
              "    <div class=\"colab-df-container\">\n",
              "      <div>\n",
              "<style scoped>\n",
              "    .dataframe tbody tr th:only-of-type {\n",
              "        vertical-align: middle;\n",
              "    }\n",
              "\n",
              "    .dataframe tbody tr th {\n",
              "        vertical-align: top;\n",
              "    }\n",
              "\n",
              "    .dataframe thead th {\n",
              "        text-align: right;\n",
              "    }\n",
              "</style>\n",
              "<table border=\"1\" class=\"dataframe\">\n",
              "  <thead>\n",
              "    <tr style=\"text-align: right;\">\n",
              "      <th></th>\n",
              "      <th>img_file</th>\n",
              "      <th>gender</th>\n",
              "      <th>age</th>\n",
              "      <th>bin</th>\n",
              "    </tr>\n",
              "  </thead>\n",
              "  <tbody>\n",
              "    <tr>\n",
              "      <th>0</th>\n",
              "      <td>26_1_3_20170104232120449.jpg.chip.jpg</td>\n",
              "      <td>1</td>\n",
              "      <td>26</td>\n",
              "      <td>20</td>\n",
              "    </tr>\n",
              "    <tr>\n",
              "      <th>1</th>\n",
              "      <td>23_1_1_20170114033629976.jpg.chip.jpg</td>\n",
              "      <td>1</td>\n",
              "      <td>23</td>\n",
              "      <td>20</td>\n",
              "    </tr>\n",
              "    <tr>\n",
              "      <th>2</th>\n",
              "      <td>60_0_0_20170111201620287.jpg.chip.jpg</td>\n",
              "      <td>0</td>\n",
              "      <td>60</td>\n",
              "      <td>50</td>\n",
              "    </tr>\n",
              "    <tr>\n",
              "      <th>3</th>\n",
              "      <td>55_0_3_20170119202724469.jpg.chip.jpg</td>\n",
              "      <td>0</td>\n",
              "      <td>55</td>\n",
              "      <td>50</td>\n",
              "    </tr>\n",
              "    <tr>\n",
              "      <th>4</th>\n",
              "      <td>1_1_3_20161220143357382.jpg.chip.jpg</td>\n",
              "      <td>1</td>\n",
              "      <td>1</td>\n",
              "      <td>0</td>\n",
              "    </tr>\n",
              "  </tbody>\n",
              "</table>\n",
              "</div>\n",
              "      <button class=\"colab-df-convert\" onclick=\"convertToInteractive('df-1113ef0b-b327-45e9-974f-5ef66eb74f2e')\"\n",
              "              title=\"Convert this dataframe to an interactive table.\"\n",
              "              style=\"display:none;\">\n",
              "        \n",
              "  <svg xmlns=\"http://www.w3.org/2000/svg\" height=\"24px\"viewBox=\"0 0 24 24\"\n",
              "       width=\"24px\">\n",
              "    <path d=\"M0 0h24v24H0V0z\" fill=\"none\"/>\n",
              "    <path d=\"M18.56 5.44l.94 2.06.94-2.06 2.06-.94-2.06-.94-.94-2.06-.94 2.06-2.06.94zm-11 1L8.5 8.5l.94-2.06 2.06-.94-2.06-.94L8.5 2.5l-.94 2.06-2.06.94zm10 10l.94 2.06.94-2.06 2.06-.94-2.06-.94-.94-2.06-.94 2.06-2.06.94z\"/><path d=\"M17.41 7.96l-1.37-1.37c-.4-.4-.92-.59-1.43-.59-.52 0-1.04.2-1.43.59L10.3 9.45l-7.72 7.72c-.78.78-.78 2.05 0 2.83L4 21.41c.39.39.9.59 1.41.59.51 0 1.02-.2 1.41-.59l7.78-7.78 2.81-2.81c.8-.78.8-2.07 0-2.86zM5.41 20L4 18.59l7.72-7.72 1.47 1.35L5.41 20z\"/>\n",
              "  </svg>\n",
              "      </button>\n",
              "      \n",
              "  <style>\n",
              "    .colab-df-container {\n",
              "      display:flex;\n",
              "      flex-wrap:wrap;\n",
              "      gap: 12px;\n",
              "    }\n",
              "\n",
              "    .colab-df-convert {\n",
              "      background-color: #E8F0FE;\n",
              "      border: none;\n",
              "      border-radius: 50%;\n",
              "      cursor: pointer;\n",
              "      display: none;\n",
              "      fill: #1967D2;\n",
              "      height: 32px;\n",
              "      padding: 0 0 0 0;\n",
              "      width: 32px;\n",
              "    }\n",
              "\n",
              "    .colab-df-convert:hover {\n",
              "      background-color: #E2EBFA;\n",
              "      box-shadow: 0px 1px 2px rgba(60, 64, 67, 0.3), 0px 1px 3px 1px rgba(60, 64, 67, 0.15);\n",
              "      fill: #174EA6;\n",
              "    }\n",
              "\n",
              "    [theme=dark] .colab-df-convert {\n",
              "      background-color: #3B4455;\n",
              "      fill: #D2E3FC;\n",
              "    }\n",
              "\n",
              "    [theme=dark] .colab-df-convert:hover {\n",
              "      background-color: #434B5C;\n",
              "      box-shadow: 0px 1px 3px 1px rgba(0, 0, 0, 0.15);\n",
              "      filter: drop-shadow(0px 1px 2px rgba(0, 0, 0, 0.3));\n",
              "      fill: #FFFFFF;\n",
              "    }\n",
              "  </style>\n",
              "\n",
              "      <script>\n",
              "        const buttonEl =\n",
              "          document.querySelector('#df-1113ef0b-b327-45e9-974f-5ef66eb74f2e button.colab-df-convert');\n",
              "        buttonEl.style.display =\n",
              "          google.colab.kernel.accessAllowed ? 'block' : 'none';\n",
              "\n",
              "        async function convertToInteractive(key) {\n",
              "          const element = document.querySelector('#df-1113ef0b-b327-45e9-974f-5ef66eb74f2e');\n",
              "          const dataTable =\n",
              "            await google.colab.kernel.invokeFunction('convertToInteractive',\n",
              "                                                     [key], {});\n",
              "          if (!dataTable) return;\n",
              "\n",
              "          const docLinkHtml = 'Like what you see? Visit the ' +\n",
              "            '<a target=\"_blank\" href=https://colab.research.google.com/notebooks/data_table.ipynb>data table notebook</a>'\n",
              "            + ' to learn more about interactive tables.';\n",
              "          element.innerHTML = '';\n",
              "          dataTable['output_type'] = 'display_data';\n",
              "          await google.colab.output.renderOutput(dataTable, element);\n",
              "          const docLink = document.createElement('div');\n",
              "          docLink.innerHTML = docLinkHtml;\n",
              "          element.appendChild(docLink);\n",
              "        }\n",
              "      </script>\n",
              "    </div>\n",
              "  </div>\n",
              "  "
            ]
          },
          "metadata": {},
          "execution_count": 13
        }
      ],
      "source": [
        "df['bin'] = pd.cut(df['age'], bins = [0,10,20,30,40,50,60,70,80,90,100,110,120],\n",
        "                   labels = ['0', '10', '20', '30', '40', '50', '60', '70', '80', '90', '100', '110'])\n",
        "df.head()"
      ]
    },
    {
      "cell_type": "code",
      "execution_count": null,
      "metadata": {
        "execution": {
          "iopub.execute_input": "2021-07-17T11:53:15.320024Z",
          "iopub.status.busy": "2021-07-17T11:53:15.319488Z",
          "iopub.status.idle": "2021-07-17T11:53:15.579525Z",
          "shell.execute_reply": "2021-07-17T11:53:15.578553Z",
          "shell.execute_reply.started": "2021-07-17T11:53:15.319975Z"
        },
        "colab": {
          "base_uri": "https://localhost:8080/"
        },
        "id": "GdidGcoboSrW",
        "outputId": "224a77f8-ca08-4f7a-8b96-9f966fca44db"
      },
      "outputs": [
        {
          "output_type": "stream",
          "name": "stderr",
          "text": [
            "/usr/local/lib/python3.8/dist-packages/seaborn/_decorators.py:36: FutureWarning: Pass the following variable as a keyword arg: x. From version 0.12, the only valid positional argument will be `data`, and passing other arguments without an explicit keyword will result in an error or misinterpretation.\n",
            "  warnings.warn(\n"
          ]
        },
        {
          "output_type": "display_data",
          "data": {
            "text/plain": [
              "<Figure size 576x288 with 1 Axes>"
            ],
            "image/png": "[encoded data removed]"
          },
          "metadata": {
            "needs_background": "light"
          }
        }
      ],
      "source": [
        "plt.figure(figsize=(8,4))\n",
        "ax = sns.countplot(df.bin, alpha=0.8)\n",
        "plt.title(\"Age Count by Group\")\n",
        "plt.ylabel('Age Count', fontsize=12)\n",
        "plt.xlabel('Age Group', fontsize=12)\n",
        "\n",
        "#adding the text labels\n",
        "rects = ax.patches\n",
        "labels = df.bin.value_counts().sort_index()\n",
        "for rect, label in zip(rects, labels):\n",
        "    height = rect.get_height()\n",
        "    ax.text(rect.get_x() + rect.get_width()/2, height + 5, label, ha='center', va='bottom')\n",
        "\n",
        "plt.show()"
      ]
    },
    {
      "cell_type": "markdown",
      "metadata": {
        "id": "PnVq4NMqoSrW"
      },
      "source": [
        "As we can see, the age classes are more imbalanced. The majority of people are between 20 and 40 years old. There are only 540 people that are older than 80. Let's see if how the age distribution looks for each gender."
      ]
    },
    {
      "cell_type": "code",
      "execution_count": null,
      "metadata": {
        "execution": {
          "iopub.execute_input": "2021-07-17T11:53:15.581310Z",
          "iopub.status.busy": "2021-07-17T11:53:15.580994Z",
          "iopub.status.idle": "2021-07-17T11:53:15.883485Z",
          "shell.execute_reply": "2021-07-17T11:53:15.882720Z",
          "shell.execute_reply.started": "2021-07-17T11:53:15.581249Z"
        },
        "colab": {
          "base_uri": "https://localhost:8080/"
        },
        "id": "UQcXdjTooSrW",
        "outputId": "d394b3b6-9d9d-434f-e778-ef48ecb3fbf4"
      },
      "outputs": [
        {
          "output_type": "display_data",
          "data": {
            "text/plain": [
              "<Figure size 576x288 with 1 Axes>"
            ],
            "image/png": "[encoded data removed]"
          },
          "metadata": {
            "needs_background": "light"
          }
        }
      ],
      "source": [
        "plt.figure(figsize=(8,4))\n",
        "ax = sns.countplot(df.bin, alpha=0.8, hue=df.gender)\n",
        "plt.title(\"Age Count by Group and Gender\")\n",
        "plt.ylabel('Age Count', fontsize=12)\n",
        "plt.xlabel('Age Group', fontsize=12)\n",
        "plt.legend(labels=[\"Male\",\"Female\"])\n",
        "plt.show()"
      ]
    },
    {
      "cell_type": "markdown",
      "metadata": {
        "id": "etv3Z1CLoSrW"
      },
      "source": [
        "As we can see, the majority of people in their 0s,10s and 20s are women and the majority of people older than 30 are men. Let's split the data into train and validation sets"
      ]
    },
    {
      "cell_type": "code",
      "execution_count": null,
      "metadata": {
        "execution": {
          "iopub.execute_input": "2021-07-17T11:53:15.885023Z",
          "iopub.status.busy": "2021-07-17T11:53:15.884651Z",
          "iopub.status.idle": "2021-07-17T11:53:15.916157Z",
          "shell.execute_reply": "2021-07-17T11:53:15.915080Z",
          "shell.execute_reply.started": "2021-07-17T11:53:15.884992Z"
        },
        "colab": {
          "base_uri": "https://localhost:8080/"
        },
        "id": "kUfi3qh2oSrW",
        "outputId": "f24afa31-84d2-43e3-b7a3-66fee1e38c67"
      },
      "outputs": [
        {
          "output_type": "stream",
          "name": "stdout",
          "text": [
            "Samples in training set: 18966\n",
            "Samples in testing set: 4742\n"
          ]
        }
      ],
      "source": [
        "train, test = train_test_split(files, test_size=0.2, random_state=14,shuffle=True)\n",
        "#train, val = train_test_split(files, test_size=0.2, random_state=14)\n",
        "print(\"Samples in training set:\",len(train))\n",
        "#print(\"Samples in validation set:\",len(val))\n",
        "print(\"Samples in testing set:\",len(test))"
      ]
    },
    {
      "cell_type": "markdown",
      "metadata": {
        "id": "7WE3yKRFoSrX"
      },
      "source": [
        "## Modeling"
      ]
    },
    {
      "cell_type": "markdown",
      "metadata": {
        "id": "CfZlUhPJoSrX"
      },
      "source": [
        "Now let's define the image transformations (image resize, center crop, normalize, convert to tensor)."
      ]
    },
    {
      "cell_type": "code",
      "execution_count": null,
      "metadata": {
        "execution": {
          "iopub.execute_input": "2021-07-17T11:53:15.917964Z",
          "iopub.status.busy": "2021-07-17T11:53:15.917586Z",
          "iopub.status.idle": "2021-07-17T11:53:15.923218Z",
          "shell.execute_reply": "2021-07-17T11:53:15.922036Z",
          "shell.execute_reply.started": "2021-07-17T11:53:15.917928Z"
        },
        "id": "cH2Dals6oSrX"
      },
      "outputs": [],
      "source": [
        "preprocess = transforms.Compose([\n",
        "   transforms.Resize(200),\n",
        "   transforms.ToTensor(),\n",
        "   transforms.Normalize(\n",
        "       mean=[0.485, 0.456, 0.406],\n",
        "       std=[0.229, 0.224, 0.225]\n",
        "   )\n",
        "])"
      ]
    },
    {
      "cell_type": "markdown",
      "metadata": {
        "id": "AYHFRZR8oSrX"
      },
      "source": [
        "Now let's create a custom dataset that applies the transformations to the images and deals with the labels."
      ]
    },
    {
      "cell_type": "code",
      "source": [
        "path = \"/content/data/UTKFace/\"\n",
        "files = os.listdir(path)\n",
        "print(\"Total samples:\", len(files))\n",
        "print(files[3])\n",
        "split_varr=files[3].split('_')"
      ],
      "metadata": {
        "colab": {
          "base_uri": "https://localhost:8080/"
        },
        "id": "-97bnc77xYW6",
        "outputId": "2d8c2e3f-7b31-43e5-c2f9-8e999ffde063"
      },
      "execution_count": null,
      "outputs": [
        {
          "output_type": "stream",
          "name": "stdout",
          "text": [
            "Total samples: 23708\n",
            "55_0_3_20170119202724469.jpg.chip.jpg\n"
          ]
        }
      ]
    },
    {
      "cell_type": "code",
      "source": [
        "split_varr"
      ],
      "metadata": {
        "colab": {
          "base_uri": "https://localhost:8080/"
        },
        "id": "ywyk9YySxzGg",
        "outputId": "11b04e3f-fd07-4cce-d0a6-541c00787d36"
      },
      "execution_count": null,
      "outputs": [
        {
          "output_type": "execute_result",
          "data": {
            "text/plain": [
              "['55', '0', '3', '20170119202724469.jpg.chip.jpg']"
            ]
          },
          "metadata": {},
          "execution_count": 19
        }
      ]
    },
    {
      "cell_type": "code",
      "execution_count": null,
      "metadata": {
        "execution": {
          "iopub.execute_input": "2021-07-17T11:53:15.925030Z",
          "iopub.status.busy": "2021-07-17T11:53:15.924656Z",
          "iopub.status.idle": "2021-07-17T11:53:15.940165Z",
          "shell.execute_reply": "2021-07-17T11:53:15.938676Z",
          "shell.execute_reply.started": "2021-07-17T11:53:15.924997Z"
        },
        "id": "1RXEmF0moSrX"
      },
      "outputs": [],
      "source": [
        "\n",
        "class MultiTaskDataset(Dataset):\n",
        "    def __init__(self, path: str, files: list, tfms):\n",
        "    #def __init__(self, path: str, files: list):\n",
        "        self.files = files\n",
        "        self.path = path\n",
        "        self.tfms = tfms\n",
        "\n",
        "\n",
        "    def __len__(self): \n",
        "        return len(self.files)\n",
        "    \n",
        "    def __getitem__(self, idx: int):\n",
        "        img_file = self.files[idx]\n",
        "        img = PIL.Image.open(self.path + img_file).convert('RGB')\n",
        "        img = self.tfms(img)\n",
        "        \n",
        "        split_var = self.files[idx].split('_')\n",
        "        age = int(split_var[0])\n",
        "        #age = torch.tensor(age, dtype=torch.float32)\n",
        "        # age = torch.tensor(age, dtype=torch.int64)\n",
        "        age = torch.tensor(age-1,dtype=torch.int64)\n",
        "        #gender = torch.tensor(int(split_var[1]), dtype=torch.int64)\n",
        "        gender = torch.tensor(int(split_var[1]))\n",
        "        #gender=torch.tensor(gender,dtype=torch.int64)\n",
        "\n",
        "        #return img, age.log_()/4.75, gender, img_file\n",
        "        return img, age, gender, img_file\n"
      ]
    },
    {
      "cell_type": "code",
      "source": [
        "config = {\n",
        "    'batch_size': 256, # Increase this if your GPU can handle it.  // i think 512 is best for now, originally 64\n",
        "    'lr': 0.001,\n",
        "    'epochs': 150, \n",
        "}"
      ],
      "metadata": {
        "id": "PF6UDIZLZMLX"
      },
      "execution_count": null,
      "outputs": []
    },
    {
      "cell_type": "code",
      "execution_count": null,
      "metadata": {
        "execution": {
          "iopub.execute_input": "2021-07-17T11:53:15.942021Z",
          "iopub.status.busy": "2021-07-17T11:53:15.941557Z",
          "iopub.status.idle": "2021-07-17T11:53:15.957156Z",
          "shell.execute_reply": "2021-07-17T11:53:15.955784Z",
          "shell.execute_reply.started": "2021-07-17T11:53:15.941984Z"
        },
        "id": "G3R5dGmtoSrX"
      },
      "outputs": [],
      "source": [
        "train_ds = MultiTaskDataset(path, train, preprocess)\n",
        "#valid_ds = MultiTaskDataset(path, val, preprocess)\n",
        "test_ds = MultiTaskDataset(path, test, preprocess)\n",
        "# train_ds = MultiTaskDataset(path, train)\n",
        "# valid_ds = MultiTaskDataset(path, val)\n",
        "# test_ds = MultiTaskDataset(path, test)"
      ]
    },
    {
      "cell_type": "code",
      "source": [
        "train_ds[10][1]"
      ],
      "metadata": {
        "colab": {
          "base_uri": "https://localhost:8080/"
        },
        "id": "OGHcXAG0oshJ",
        "outputId": "eae2e30b-9cbb-42b7-8d93-f19604846815"
      },
      "execution_count": null,
      "outputs": [
        {
          "output_type": "execute_result",
          "data": {
            "text/plain": [
              "tensor(34)"
            ]
          },
          "metadata": {},
          "execution_count": 23
        }
      ]
    },
    {
      "cell_type": "code",
      "source": [
        "train_loader = torch.utils.data.DataLoader(train_ds, batch_size = config['batch_size'], \n",
        "                                           shuffle = True,num_workers = 2)\n",
        "#val_loader = torch.utils.data.DataLoader(valid_ds, batch_size = config['batch_size'], \n",
        "#                                         shuffle = False, num_workers = 2)\n",
        "test_loader = torch.utils.data.DataLoader(test_ds, batch_size = config['batch_size'], \n",
        "                                          shuffle = True,num_workers = 2)"
      ],
      "metadata": {
        "id": "20-Es4RuZCFM"
      },
      "execution_count": null,
      "outputs": []
    },
    {
      "cell_type": "code",
      "source": [
        "#print(\"Number of classes: \", len(train_dataset.classes))\n",
        "print(\"No. of train images: \", train_ds.__len__())\n",
        "print(\"Shape of image: \", train_ds[100][0].shape)\n",
        "print(\"Batch size: \", config['batch_size'])\n",
        "print(\"Train batches: \", train_loader.__len__())\n",
        "print(\"Val batches: \", test_loader.__len__())"
      ],
      "metadata": {
        "colab": {
          "base_uri": "https://localhost:8080/"
        },
        "id": "15t4fNGZZCyj",
        "outputId": "35bab09e-3f2a-4af8-99d1-654d54f996ea"
      },
      "execution_count": null,
      "outputs": [
        {
          "output_type": "stream",
          "name": "stdout",
          "text": [
            "No. of train images:  18966\n",
            "Shape of image:  torch.Size([3, 200, 200])\n",
            "Batch size:  256\n",
            "Train batches:  75\n",
            "Val batches:  19\n"
          ]
        }
      ]
    },
    {
      "cell_type": "markdown",
      "metadata": {
        "id": "BdT_qUMAoSrX"
      },
      "source": [
        "Now we can begin the modeling part. We are going to apply [transfer learning](https://pytorch-lightning.readthedocs.io/en/stable/advanced/transfer_learning.html) using ResNet34. We’ll pack everything in [LightningModule](https://pytorch-lightning.readthedocs.io/en/stable/common/lightning_module.html). This is a multi-task learning task, because we have to predict the age and gender based on the input image. Predicting age is a regression problem with a single output, predicting gender is a classification problem with two outputs. With that in mind, we can create the model."
      ]
    },
    {
      "cell_type": "code",
      "source": [
        "# resnet34\n",
        "# resnet block\n",
        "class ResBlock(nn.Module):\n",
        "    def __init__(self, in_channel,out_channel, stride=1, downsample=None):\n",
        "        super().__init__()\n",
        "        self.conv1 = nn.Conv2d(in_channel, out_channel, kernel_size=3, stride=stride, padding=1, bias=False)\n",
        "        self.bn1 = nn.BatchNorm2d(out_channel)\n",
        "        self.relu1 = nn.ReLU()\n",
        "        self.conv2 = nn.Conv2d(out_channel, out_channel, kernel_size=3, stride=1, padding=1, bias=False)\n",
        "        self.bn2 = nn.BatchNorm2d(out_channel)\n",
        "        self.stride = stride\n",
        "        self.relu2 = nn.ReLU()\n",
        "        self.downsample = downsample\n",
        "\n",
        "\n",
        "    def forward(self, x):\n",
        "        shortcut = x\n",
        "        out = self.conv1(x)\n",
        "        out = self.bn1(out)\n",
        "        out = self.relu1(out)\n",
        "\n",
        "        out = self.conv2(out)\n",
        "        out = self.bn2(out)\n",
        "\n",
        "        if self.downsample is not None:\n",
        "          shortcut = self.downsample(x)\n",
        "        \n",
        "        out += shortcut\n",
        "        out = self.relu2(out)\n",
        "\n",
        "        return out"
      ],
      "metadata": {
        "id": "vy6NmDtnXpvs"
      },
      "execution_count": null,
      "outputs": []
    },
    {
      "cell_type": "code",
      "source": [
        "# resnet34\n",
        "# resnet block\n",
        "class BasicBlock(nn.Module):\n",
        "    def __init__(self, in_channel,out_channel, stride=1, downsample=None):\n",
        "        super().__init__()\n",
        "        self.conv1 = nn.Conv2d(in_channel, out_channel, kernel_size=3, stride=stride, padding=1, bias=False)\n",
        "        self.bn1 = nn.BatchNorm2d(out_channel)\n",
        "        self.relu1 = nn.ReLU()\n",
        "        self.conv2 = nn.Conv2d(out_channel, out_channel, kernel_size=3, stride=1, padding=1, bias=False)\n",
        "        self.bn2 = nn.BatchNorm2d(out_channel)\n",
        "        self.stride = stride\n",
        "        self.relu2 = nn.ReLU()\n",
        "        self.downsample = downsample\n",
        "\n",
        "\n",
        "    def forward(self, x):\n",
        "        shortcut = x\n",
        "        out = self.conv1(x)\n",
        "        out = self.bn1(out)\n",
        "        out = self.relu1(out)\n",
        "\n",
        "        out = self.conv2(out)\n",
        "        out = self.bn2(out)\n",
        "\n",
        "        if self.downsample is not None:\n",
        "          shortcut = self.downsample(x)\n",
        "        \n",
        "        out += shortcut\n",
        "        out = self.relu2(out)\n",
        "\n",
        "        return out"
      ],
      "metadata": {
        "id": "hZ0g0vtq0H9b"
      },
      "execution_count": null,
      "outputs": []
    },
    {
      "cell_type": "code",
      "source": [
        "from torch.nn.modules.activation import ReLU\n",
        "class Network_AGE(nn.Module):\n",
        "    def __init__(self, block, num_classes=116):\n",
        "        super().__init__()\n",
        "        self.conv1 = nn.Conv2d(3, 64, kernel_size=7, stride=2, padding=3, bias=False) \n",
        "        self.bn1 = nn.BatchNorm2d(64)\n",
        "        self.relu = nn.ReLU()\n",
        "        self.maxpool = nn.MaxPool2d(3, 2, 1)\n",
        "        self.in_channel = 64\n",
        "        self.layer1 = nn.Sequential(\n",
        "            block(64, 64),\n",
        "            block(64, 64),\n",
        "            block(64, 64)\n",
        "        )       \n",
        "        self.layer2 = self._make_layer(block, 128, 4, stride=2)\n",
        "        self.layer3 = self._make_layer(block, 256, 6, stride=2)\n",
        "        self.layer4 = self._make_layer(block, 512, 3, stride=2)\n",
        "        self.avgpool = nn.AdaptiveAvgPool2d((1,1))\n",
        "        self.cls_layer = nn.Linear(512, num_classes)\n",
        "    \n",
        "    def _make_layer(self, block, outchannel, blocks, stride=1):\n",
        "        downsample = None\n",
        "        if stride != 1 or self.in_channel != outchannel:\n",
        "            downsample = nn.Sequential(\n",
        "                nn.Conv2d(self.in_channel, outchannel, 1, stride, bias=False),\n",
        "                nn.BatchNorm2d(outchannel),\n",
        "            )\n",
        "        layers = []\n",
        "        layers.append(block(self.in_channel, outchannel, stride, downsample))\n",
        "        self.in_channel = outchannel\n",
        "\n",
        "        for i in range(1, blocks):\n",
        "            layers.append(block(self.in_channel, outchannel))\n",
        "        return nn.Sequential(*layers)\n",
        "\n",
        "    \n",
        "    def forward(self, x, return_feats=False):\n",
        "        x = self.conv1(x)\n",
        "        x = self.bn1(x)\n",
        "        x = self.relu(x)\n",
        "        x = self.maxpool(x)\n",
        "\n",
        "        x = self.layer1(x)\n",
        "        x = self.layer2(x)\n",
        "        x = self.layer3(x)\n",
        "\n",
        "        x = self.layer4(x)\n",
        "\n",
        "        x = self.avgpool(x)\n",
        "        x = torch.flatten(x, 1)     # convert 1 X 1 to vector\n",
        "        x = self.cls_layer(x)\n",
        "\n",
        "        return x\n",
        "\n"
      ],
      "metadata": {
        "id": "sgIWdAN3XxTM"
      },
      "execution_count": null,
      "outputs": []
    },
    {
      "cell_type": "code",
      "source": [
        "from torch.nn.modules.activation import ReLU\n",
        "class Network_GENDER(nn.Module):\n",
        "    def __init__(self, block, num_classes=2):\n",
        "        super().__init__()\n",
        "        self.conv1 = nn.Conv2d(3, 64, kernel_size=7, stride=2, padding=3, bias=False) # TODO: Conv group 1\n",
        "        self.bn1 = nn.BatchNorm2d(64)\n",
        "        self.relu = nn.ReLU()\n",
        "        self.maxpool = nn.MaxPool2d(3, 2, 1)\n",
        "        self.in_channel = 64\n",
        "        self.layer1 = nn.Sequential(\n",
        "            block(64, 64),\n",
        "            block(64, 64),\n",
        "            block(64, 64)\n",
        "        )       \n",
        "        self.layer2 = self._make_layer(block, 128, 4, stride=2)\n",
        "        self.layer3 = self._make_layer(block, 256, 6, stride=2)\n",
        "        #self.linear = nn.Linear(512, 512)\n",
        "        #self.dropout = nn.Dropout(0.2)\n",
        "        self.layer4 = self._make_layer(block, 512, 3, stride=2)\n",
        "\n",
        "\n",
        "        self.avgpool = nn.AdaptiveAvgPool2d((1,1))\n",
        "        self.cls_layer = nn.Linear(512, num_classes)\n",
        "    \n",
        "    def _make_layer(self, block, outchannel, blocks, stride=1):\n",
        "        downsample = None\n",
        "        if stride != 1 or self.in_channel != outchannel:\n",
        "            downsample = nn.Sequential(\n",
        "                nn.Conv2d(self.in_channel, outchannel, 1, stride, bias=False),\n",
        "                nn.BatchNorm2d(outchannel),\n",
        "            )\n",
        "        layers = []\n",
        "        layers.append(block(self.in_channel, outchannel, stride, downsample))\n",
        "        self.in_channel = outchannel\n",
        "\n",
        "        for i in range(1, blocks):\n",
        "            layers.append(block(self.in_channel, outchannel))\n",
        "        return nn.Sequential(*layers)\n",
        "\n",
        "    \n",
        "    def forward(self, x, return_feats=False):\n",
        "        x = self.conv1(x)\n",
        "        x = self.bn1(x)\n",
        "        x = self.relu(x)\n",
        "        x = self.maxpool(x)\n",
        "\n",
        "        x = self.layer1(x)\n",
        "        x = self.layer2(x)\n",
        "        x = self.layer3(x)\n",
        "        #x = self.linear(x)\n",
        "        #x = self.dropout(x)\n",
        "        x = self.layer4(x)\n",
        "\n",
        "        x = self.avgpool(x)\n",
        "        x = torch.flatten(x, 1)     # convert 1 X 1 to vector\n",
        "        x = self.cls_layer(x)\n",
        "\n",
        "        return x\n",
        "\n"
      ],
      "metadata": {
        "id": "wC86oerLXxQm"
      },
      "execution_count": null,
      "outputs": []
    },
    {
      "cell_type": "code",
      "source": [
        "model_age=Network_AGE(ResBlock)\n",
        "model_age.cuda()\n",
        "model_gender=Network_GENDER(ResBlock)\n",
        "model_gender.cuda()"
      ],
      "metadata": {
        "colab": {
          "base_uri": "https://localhost:8080/"
        },
        "id": "6ysO4Rq-XxOA",
        "outputId": "ad366134-2326-49cb-d9f8-306342ebefd8"
      },
      "execution_count": null,
      "outputs": [
        {
          "output_type": "execute_result",
          "data": {
            "text/plain": [
              "Network_GENDER(\n",
              "  (conv1): Conv2d(3, 64, kernel_size=(7, 7), stride=(2, 2), padding=(3, 3), bias=False)\n",
              "  (bn1): BatchNorm2d(64, eps=1e-05, momentum=0.1, affine=True, track_running_stats=True)\n",
              "  (relu): ReLU()\n",
              "  (maxpool): MaxPool2d(kernel_size=3, stride=2, padding=1, dilation=1, ceil_mode=False)\n",
              "  (layer1): Sequential(\n",
              "    (0): ResBlock(\n",
              "      (conv1): Conv2d(64, 64, kernel_size=(3, 3), stride=(1, 1), padding=(1, 1), bias=False)\n",
              "      (bn1): BatchNorm2d(64, eps=1e-05, momentum=0.1, affine=True, track_running_stats=True)\n",
              "      (relu1): ReLU()\n",
              "      (conv2): Conv2d(64, 64, kernel_size=(3, 3), stride=(1, 1), padding=(1, 1), bias=False)\n",
              "      (bn2): BatchNorm2d(64, eps=1e-05, momentum=0.1, affine=True, track_running_stats=True)\n",
              "      (relu2): ReLU()\n",
              "    )\n",
              "    (1): ResBlock(\n",
              "      (conv1): Conv2d(64, 64, kernel_size=(3, 3), stride=(1, 1), padding=(1, 1), bias=False)\n",
              "      (bn1): BatchNorm2d(64, eps=1e-05, momentum=0.1, affine=True, track_running_stats=True)\n",
              "      (relu1): ReLU()\n",
              "      (conv2): Conv2d(64, 64, kernel_size=(3, 3), stride=(1, 1), padding=(1, 1), bias=False)\n",
              "      (bn2): BatchNorm2d(64, eps=1e-05, momentum=0.1, affine=True, track_running_stats=True)\n",
              "      (relu2): ReLU()\n",
              "    )\n",
              "    (2): ResBlock(\n",
              "      (conv1): Conv2d(64, 64, kernel_size=(3, 3), stride=(1, 1), padding=(1, 1), bias=False)\n",
              "      (bn1): BatchNorm2d(64, eps=1e-05, momentum=0.1, affine=True, track_running_stats=True)\n",
              "      (relu1): ReLU()\n",
              "      (conv2): Conv2d(64, 64, kernel_size=(3, 3), stride=(1, 1), padding=(1, 1), bias=False)\n",
              "      (bn2): BatchNorm2d(64, eps=1e-05, momentum=0.1, affine=True, track_running_stats=True)\n",
              "      (relu2): ReLU()\n",
              "    )\n",
              "  )\n",
              "  (layer2): Sequential(\n",
              "    (0): ResBlock(\n",
              "      (conv1): Conv2d(64, 128, kernel_size=(3, 3), stride=(2, 2), padding=(1, 1), bias=False)\n",
              "      (bn1): BatchNorm2d(128, eps=1e-05, momentum=0.1, affine=True, track_running_stats=True)\n",
              "      (relu1): ReLU()\n",
              "      (conv2): Conv2d(128, 128, kernel_size=(3, 3), stride=(1, 1), padding=(1, 1), bias=False)\n",
              "      (bn2): BatchNorm2d(128, eps=1e-05, momentum=0.1, affine=True, track_running_stats=True)\n",
              "      (relu2): ReLU()\n",
              "      (downsample): Sequential(\n",
              "        (0): Conv2d(64, 128, kernel_size=(1, 1), stride=(2, 2), bias=False)\n",
              "        (1): BatchNorm2d(128, eps=1e-05, momentum=0.1, affine=True, track_running_stats=True)\n",
              "      )\n",
              "    )\n",
              "    (1): ResBlock(\n",
              "      (conv1): Conv2d(128, 128, kernel_size=(3, 3), stride=(1, 1), padding=(1, 1), bias=False)\n",
              "      (bn1): BatchNorm2d(128, eps=1e-05, momentum=0.1, affine=True, track_running_stats=True)\n",
              "      (relu1): ReLU()\n",
              "      (conv2): Conv2d(128, 128, kernel_size=(3, 3), stride=(1, 1), padding=(1, 1), bias=False)\n",
              "      (bn2): BatchNorm2d(128, eps=1e-05, momentum=0.1, affine=True, track_running_stats=True)\n",
              "      (relu2): ReLU()\n",
              "    )\n",
              "    (2): ResBlock(\n",
              "      (conv1): Conv2d(128, 128, kernel_size=(3, 3), stride=(1, 1), padding=(1, 1), bias=False)\n",
              "      (bn1): BatchNorm2d(128, eps=1e-05, momentum=0.1, affine=True, track_running_stats=True)\n",
              "      (relu1): ReLU()\n",
              "      (conv2): Conv2d(128, 128, kernel_size=(3, 3), stride=(1, 1), padding=(1, 1), bias=False)\n",
              "      (bn2): BatchNorm2d(128, eps=1e-05, momentum=0.1, affine=True, track_running_stats=True)\n",
              "      (relu2): ReLU()\n",
              "    )\n",
              "    (3): ResBlock(\n",
              "      (conv1): Conv2d(128, 128, kernel_size=(3, 3), stride=(1, 1), padding=(1, 1), bias=False)\n",
              "      (bn1): BatchNorm2d(128, eps=1e-05, momentum=0.1, affine=True, track_running_stats=True)\n",
              "      (relu1): ReLU()\n",
              "      (conv2): Conv2d(128, 128, kernel_size=(3, 3), stride=(1, 1), padding=(1, 1), bias=False)\n",
              "      (bn2): BatchNorm2d(128, eps=1e-05, momentum=0.1, affine=True, track_running_stats=True)\n",
              "      (relu2): ReLU()\n",
              "    )\n",
              "  )\n",
              "  (layer3): Sequential(\n",
              "    (0): ResBlock(\n",
              "      (conv1): Conv2d(128, 256, kernel_size=(3, 3), stride=(2, 2), padding=(1, 1), bias=False)\n",
              "      (bn1): BatchNorm2d(256, eps=1e-05, momentum=0.1, affine=True, track_running_stats=True)\n",
              "      (relu1): ReLU()\n",
              "      (conv2): Conv2d(256, 256, kernel_size=(3, 3), stride=(1, 1), padding=(1, 1), bias=False)\n",
              "      (bn2): BatchNorm2d(256, eps=1e-05, momentum=0.1, affine=True, track_running_stats=True)\n",
              "      (relu2): ReLU()\n",
              "      (downsample): Sequential(\n",
              "        (0): Conv2d(128, 256, kernel_size=(1, 1), stride=(2, 2), bias=False)\n",
              "        (1): BatchNorm2d(256, eps=1e-05, momentum=0.1, affine=True, track_running_stats=True)\n",
              "      )\n",
              "    )\n",
              "    (1): ResBlock(\n",
              "      (conv1): Conv2d(256, 256, kernel_size=(3, 3), stride=(1, 1), padding=(1, 1), bias=False)\n",
              "      (bn1): BatchNorm2d(256, eps=1e-05, momentum=0.1, affine=True, track_running_stats=True)\n",
              "      (relu1): ReLU()\n",
              "      (conv2): Conv2d(256, 256, kernel_size=(3, 3), stride=(1, 1), padding=(1, 1), bias=False)\n",
              "      (bn2): BatchNorm2d(256, eps=1e-05, momentum=0.1, affine=True, track_running_stats=True)\n",
              "      (relu2): ReLU()\n",
              "    )\n",
              "    (2): ResBlock(\n",
              "      (conv1): Conv2d(256, 256, kernel_size=(3, 3), stride=(1, 1), padding=(1, 1), bias=False)\n",
              "      (bn1): BatchNorm2d(256, eps=1e-05, momentum=0.1, affine=True, track_running_stats=True)\n",
              "      (relu1): ReLU()\n",
              "      (conv2): Conv2d(256, 256, kernel_size=(3, 3), stride=(1, 1), padding=(1, 1), bias=False)\n",
              "      (bn2): BatchNorm2d(256, eps=1e-05, momentum=0.1, affine=True, track_running_stats=True)\n",
              "      (relu2): ReLU()\n",
              "    )\n",
              "    (3): ResBlock(\n",
              "      (conv1): Conv2d(256, 256, kernel_size=(3, 3), stride=(1, 1), padding=(1, 1), bias=False)\n",
              "      (bn1): BatchNorm2d(256, eps=1e-05, momentum=0.1, affine=True, track_running_stats=True)\n",
              "      (relu1): ReLU()\n",
              "      (conv2): Conv2d(256, 256, kernel_size=(3, 3), stride=(1, 1), padding=(1, 1), bias=False)\n",
              "      (bn2): BatchNorm2d(256, eps=1e-05, momentum=0.1, affine=True, track_running_stats=True)\n",
              "      (relu2): ReLU()\n",
              "    )\n",
              "    (4): ResBlock(\n",
              "      (conv1): Conv2d(256, 256, kernel_size=(3, 3), stride=(1, 1), padding=(1, 1), bias=False)\n",
              "      (bn1): BatchNorm2d(256, eps=1e-05, momentum=0.1, affine=True, track_running_stats=True)\n",
              "      (relu1): ReLU()\n",
              "      (conv2): Conv2d(256, 256, kernel_size=(3, 3), stride=(1, 1), padding=(1, 1), bias=False)\n",
              "      (bn2): BatchNorm2d(256, eps=1e-05, momentum=0.1, affine=True, track_running_stats=True)\n",
              "      (relu2): ReLU()\n",
              "    )\n",
              "    (5): ResBlock(\n",
              "      (conv1): Conv2d(256, 256, kernel_size=(3, 3), stride=(1, 1), padding=(1, 1), bias=False)\n",
              "      (bn1): BatchNorm2d(256, eps=1e-05, momentum=0.1, affine=True, track_running_stats=True)\n",
              "      (relu1): ReLU()\n",
              "      (conv2): Conv2d(256, 256, kernel_size=(3, 3), stride=(1, 1), padding=(1, 1), bias=False)\n",
              "      (bn2): BatchNorm2d(256, eps=1e-05, momentum=0.1, affine=True, track_running_stats=True)\n",
              "      (relu2): ReLU()\n",
              "    )\n",
              "  )\n",
              "  (layer4): Sequential(\n",
              "    (0): ResBlock(\n",
              "      (conv1): Conv2d(256, 512, kernel_size=(3, 3), stride=(2, 2), padding=(1, 1), bias=False)\n",
              "      (bn1): BatchNorm2d(512, eps=1e-05, momentum=0.1, affine=True, track_running_stats=True)\n",
              "      (relu1): ReLU()\n",
              "      (conv2): Conv2d(512, 512, kernel_size=(3, 3), stride=(1, 1), padding=(1, 1), bias=False)\n",
              "      (bn2): BatchNorm2d(512, eps=1e-05, momentum=0.1, affine=True, track_running_stats=True)\n",
              "      (relu2): ReLU()\n",
              "      (downsample): Sequential(\n",
              "        (0): Conv2d(256, 512, kernel_size=(1, 1), stride=(2, 2), bias=False)\n",
              "        (1): BatchNorm2d(512, eps=1e-05, momentum=0.1, affine=True, track_running_stats=True)\n",
              "      )\n",
              "    )\n",
              "    (1): ResBlock(\n",
              "      (conv1): Conv2d(512, 512, kernel_size=(3, 3), stride=(1, 1), padding=(1, 1), bias=False)\n",
              "      (bn1): BatchNorm2d(512, eps=1e-05, momentum=0.1, affine=True, track_running_stats=True)\n",
              "      (relu1): ReLU()\n",
              "      (conv2): Conv2d(512, 512, kernel_size=(3, 3), stride=(1, 1), padding=(1, 1), bias=False)\n",
              "      (bn2): BatchNorm2d(512, eps=1e-05, momentum=0.1, affine=True, track_running_stats=True)\n",
              "      (relu2): ReLU()\n",
              "    )\n",
              "    (2): ResBlock(\n",
              "      (conv1): Conv2d(512, 512, kernel_size=(3, 3), stride=(1, 1), padding=(1, 1), bias=False)\n",
              "      (bn1): BatchNorm2d(512, eps=1e-05, momentum=0.1, affine=True, track_running_stats=True)\n",
              "      (relu1): ReLU()\n",
              "      (conv2): Conv2d(512, 512, kernel_size=(3, 3), stride=(1, 1), padding=(1, 1), bias=False)\n",
              "      (bn2): BatchNorm2d(512, eps=1e-05, momentum=0.1, affine=True, track_running_stats=True)\n",
              "      (relu2): ReLU()\n",
              "    )\n",
              "  )\n",
              "  (avgpool): AdaptiveAvgPool2d(output_size=(1, 1))\n",
              "  (cls_layer): Linear(in_features=512, out_features=2, bias=True)\n",
              ")"
            ]
          },
          "metadata": {},
          "execution_count": 34
        }
      ]
    },
    {
      "cell_type": "code",
      "source": [
        "device = 'cuda' if torch.cuda.is_available() else 'cpu'\n",
        "print(\"Device: \", device)"
      ],
      "metadata": {
        "colab": {
          "base_uri": "https://localhost:8080/"
        },
        "id": "TaHNaowxOglL",
        "outputId": "a48a3c4b-3481-4c02-b220-1b73d7c14ce8"
      },
      "execution_count": null,
      "outputs": [
        {
          "output_type": "stream",
          "name": "stdout",
          "text": [
            "Device:  cuda\n"
          ]
        }
      ]
    },
    {
      "cell_type": "code",
      "source": [
        "# model template\n",
        "from torch.nn.modules.flatten import Flatten\n",
        "from torch.nn.modules.pooling import AdaptiveAvgPool2d\n",
        "from torch.nn.modules.activation import ReLU\n",
        "# class Network(torch.nn.Module):\n",
        "\n",
        "#     def __init__(self, num_classes=116):\n",
        "#         super().__init__()\n",
        "\n",
        "    \n",
        "#     def forward(self, x, return_feats=False):\n",
        "\n",
        "            \n",
        "# model = Network().to(device)\n"
      ],
      "metadata": {
        "id": "SVg61NFcOgiq"
      },
      "execution_count": null,
      "outputs": []
    },
    {
      "cell_type": "code",
      "source": [
        "import torch\n",
        "import torch.nn as  nn\n",
        "import torch.nn.functional as F\n",
        "\n",
        "\n",
        "class Bottleneck(nn.Module):\n",
        "    expansion = 4\n",
        "    def __init__(self, in_channels, out_channels, i_downsample=None, stride=1):\n",
        "        super(Bottleneck, self).__init__()\n",
        "        \n",
        "        self.conv1 = nn.Conv2d(in_channels, out_channels, kernel_size=1, stride=1, padding=0)\n",
        "        self.batch_norm1 = nn.BatchNorm2d(out_channels)\n",
        "        \n",
        "        self.conv2 = nn.Conv2d(out_channels, out_channels, kernel_size=3, stride=stride, padding=1)\n",
        "        self.batch_norm2 = nn.BatchNorm2d(out_channels)\n",
        "        \n",
        "        self.conv3 = nn.Conv2d(out_channels, out_channels*self.expansion, kernel_size=1, stride=1, padding=0)\n",
        "        self.batch_norm3 = nn.BatchNorm2d(out_channels*self.expansion)\n",
        "        \n",
        "        self.i_downsample = i_downsample\n",
        "        self.stride = stride\n",
        "        self.relu = nn.ReLU()\n",
        "        \n",
        "    def forward(self, x):\n",
        "        identity = x.clone()\n",
        "        x = self.relu(self.batch_norm1(self.conv1(x)))\n",
        "        \n",
        "        x = self.relu(self.batch_norm2(self.conv2(x)))\n",
        "        \n",
        "        x = self.conv3(x)\n",
        "        x = self.batch_norm3(x)\n",
        "        \n",
        "        #downsample if needed\n",
        "        if self.i_downsample is not None:\n",
        "            identity = self.i_downsample(identity)\n",
        "        #add identity\n",
        "        x+=identity\n",
        "        x=self.relu(x)\n",
        "        \n",
        "        return x\n",
        "\n",
        "class Block(nn.Module):\n",
        "    expansion = 1\n",
        "    def __init__(self, in_channels, out_channels, i_downsample=None, stride=1):\n",
        "        super(Block, self).__init__()\n",
        "       \n",
        "\n",
        "        self.conv1 = nn.Conv2d(in_channels, out_channels, kernel_size=3, padding=1, stride=stride, bias=False)\n",
        "        self.batch_norm1 = nn.BatchNorm2d(out_channels)\n",
        "        self.conv2 = nn.Conv2d(out_channels, out_channels, kernel_size=3, padding=1, stride=stride, bias=False)\n",
        "        self.batch_norm2 = nn.BatchNorm2d(out_channels)\n",
        "\n",
        "        self.i_downsample = i_downsample\n",
        "        self.stride = stride\n",
        "        self.relu = nn.ReLU()\n",
        "\n",
        "    def forward(self, x):\n",
        "      identity = x.clone()\n",
        "\n",
        "      x = self.relu(self.batch_norm2(self.conv1(x)))\n",
        "      x = self.batch_norm2(self.conv2(x))\n",
        "\n",
        "      if self.i_downsample is not None:\n",
        "          identity = self.i_downsample(identity)\n",
        "      print(x.shape)\n",
        "      print(identity.shape)\n",
        "      x += identity\n",
        "      x = self.relu(x)\n",
        "      return x\n",
        "\n",
        "\n",
        "        \n",
        "        \n",
        "class ResNet(nn.Module):\n",
        "    def __init__(self, ResBlock, layer_list, num_classes, num_channels=3):\n",
        "        super(ResNet, self).__init__()\n",
        "        self.in_channels = 64\n",
        "        \n",
        "        self.conv1 = nn.Conv2d(num_channels, 64, kernel_size=7, stride=2, padding=3, bias=False)\n",
        "        self.batch_norm1 = nn.BatchNorm2d(64)\n",
        "        self.relu = nn.ReLU()\n",
        "        self.max_pool = nn.MaxPool2d(kernel_size = 3, stride=2, padding=1)\n",
        "        \n",
        "        self.layer1 = self._make_layer(ResBlock, layer_list[0], planes=64)\n",
        "        self.layer2 = self._make_layer(ResBlock, layer_list[1], planes=128, stride=2)\n",
        "        self.layer3 = self._make_layer(ResBlock, layer_list[2], planes=256, stride=2)\n",
        "        self.layer4 = self._make_layer(ResBlock, layer_list[3], planes=512, stride=2)\n",
        "        \n",
        "        self.avgpool = nn.AdaptiveAvgPool2d((1,1))\n",
        "        self.fc = nn.Linear(512*ResBlock.expansion, num_classes)\n",
        "        \n",
        "    def forward(self, x):\n",
        "        x = self.relu(self.batch_norm1(self.conv1(x)))\n",
        "        x = self.max_pool(x)\n",
        "\n",
        "        x = self.layer1(x)\n",
        "        x = self.layer2(x)\n",
        "        x = self.layer3(x)\n",
        "        x = self.layer4(x)\n",
        "        \n",
        "        x = self.avgpool(x)\n",
        "        x = x.reshape(x.shape[0], -1)\n",
        "        x = self.fc(x)\n",
        "        \n",
        "        return x\n",
        "        \n",
        "    def _make_layer(self, ResBlock, blocks, planes, stride=1):\n",
        "        ii_downsample = None\n",
        "        layers = []\n",
        "        \n",
        "        if stride != 1 or self.in_channels != planes*ResBlock.expansion:\n",
        "            ii_downsample = nn.Sequential(\n",
        "                nn.Conv2d(self.in_channels, planes*ResBlock.expansion, kernel_size=1, stride=stride),\n",
        "                nn.BatchNorm2d(planes*ResBlock.expansion)\n",
        "            )\n",
        "            \n",
        "        layers.append(ResBlock(self.in_channels, planes, i_downsample=ii_downsample, stride=stride))\n",
        "        self.in_channels = planes*ResBlock.expansion\n",
        "        \n",
        "        for i in range(blocks-1):\n",
        "            layers.append(ResBlock(self.in_channels, planes))\n",
        "            \n",
        "        return nn.Sequential(*layers)\n",
        "\n",
        "        \n",
        "        \n",
        "def ResNet50(num_classes, channels=3):\n",
        "    return ResNet(Bottleneck, [3,4,6,3], num_classes, channels)\n",
        "    \n",
        "def ResNet101(num_classes, channels=3):\n",
        "    return ResNet(Bottleneck, [3,4,23,3], num_classes, channels)\n",
        "\n",
        "def ResNet152(num_classes, channels=3):\n",
        "    return ResNet(Bottleneck, [3,8,36,3], num_classes, channels)\n"
      ],
      "metadata": {
        "id": "ZgUnyh7s1DAT"
      },
      "execution_count": null,
      "outputs": []
    },
    {
      "cell_type": "code",
      "source": [
        "model=ResNet50(num_classes=116).to(device)"
      ],
      "metadata": {
        "id": "8ZMf_ijFauma"
      },
      "execution_count": null,
      "outputs": []
    },
    {
      "cell_type": "code",
      "source": [
        "#criterion_age = torch.nn.CrossEntropyLoss(label_smoothing=0.5)\n",
        "criterion_age = torch.nn.CrossEntropyLoss()\n",
        "criterion_gender=torch.nn.MSELoss()\n",
        "#criterion=torch.nn.TripletMarginLoss()\n",
        "\n",
        "# TODO: What loss do you need for a multi class classification problem?\n",
        "\n",
        "optimizer_age = torch.optim.SGD(model.parameters(), lr=config['lr'], momentum=0.9, weight_decay=1e-4)\n",
        "#optimizer_age = torch.optim.SGD(model_age.parameters(), lr=config['lr'], momentum=0.9, weight_decay=1e-4)\n",
        "##optimizer_gender = torch.optim.SGD(model_gender.parameters(), lr=config['lr'], momentum=0.9, weight_decay=1e-4)\n",
        "\n",
        "#scheduler=torch.optim.lr_scheduler.ReduceLROnPlateau(optimizer,mode='max',factor=0.6,patience=2,threshold=0.01,cooldown=0,eps=0.000000001)\n",
        "scheduler_age=torch.optim.lr_scheduler.ReduceLROnPlateau(optimizer_age, mode='max', factor=0.2, patience=3, threshold=0.0001)\n",
        "#scheduler_gender=torch.optim.lr_scheduler.ReduceLROnPlateau(optimizer_age, mode='max', factor=0.2, patience=3, threshold=0.0001)\n",
        "# You can try ReduceLRonPlateau, StepLR, MultistepLR, CosineAnnealing, etc.\n",
        "scaler = torch.cuda.amp.GradScaler() # Good news. We have FP16 (Mixed precision training) implemented for you\n",
        "# It is useful only in the case of compatible GPUs such as T4/V100"
      ],
      "metadata": {
        "id": "PC5zAO19aujS"
      },
      "execution_count": null,
      "outputs": []
    },
    {
      "cell_type": "code",
      "source": [
        "import torch\n",
        "from torchsummary import summary\n",
        "import torchvision #This library is used for image-based operations (Augmentations)\n",
        "import os\n",
        "import gc\n",
        "from tqdm import tqdm\n",
        "from PIL import Image\n",
        "import numpy as np\n",
        "import pandas as pd\n",
        "from sklearn.metrics import accuracy_score\n",
        "import glob\n",
        "#import wandb\n",
        "device = 'cuda' if torch.cuda.is_available() else 'cpu'\n",
        "print(\"Device: \", device)\n",
        "\n",
        "#import torchvision.transforms as ttf"
      ],
      "metadata": {
        "colab": {
          "base_uri": "https://localhost:8080/"
        },
        "id": "Zx8fzMOpblMM",
        "outputId": "559ae332-9ec9-41d0-c1f3-bb2fde363b5a"
      },
      "execution_count": null,
      "outputs": [
        {
          "output_type": "stream",
          "name": "stdout",
          "text": [
            "Device:  cuda\n"
          ]
        }
      ]
    },
    {
      "cell_type": "code",
      "source": [
        "def train_age(model, dataloader, optimizer, criterion):\n",
        "    \n",
        "    model.train()\n",
        "\n",
        "    # Progress Bar \n",
        "    batch_bar = tqdm(total=len(dataloader), dynamic_ncols=True, leave=False, position=0, desc='Train', ncols=5) \n",
        "    \n",
        "    num_correct = 0\n",
        "    total_loss = 0.\n",
        "\n",
        "    for i, (images, labels,another_label,fileName) in enumerate(dataloader):\n",
        "        \n",
        "        optimizer.zero_grad() # Zero gradients\n",
        "\n",
        "       # images, labels = images.to(device).type(torch.Tensor), labels.to(device).type(torch.Tensor)\n",
        "        #labels =labels.type(torch.LongTensor)   # casting to long\n",
        "        images, labels = images.to(device), labels.to(device)\n",
        "\n",
        "        #targets.type(torch.LongTensor)\n",
        "        \n",
        "        with torch.cuda.amp.autocast(): # This implements mixed precision. Thats it! \n",
        "            outputs = model(images)\n",
        "            loss = criterion(outputs, labels)\n",
        "\n",
        "        # Update no. of correct predictions & loss as we iterate\n",
        "        # num_correct += int((torch.argmax(outputs, axis=1) == labels).sum())\n",
        "\n",
        "        num_correct += int((torch.argmax(outputs, axis=1) == labels).sum())\n",
        "\n",
        "\n",
        "        total_loss += float(loss.item())\n",
        "        #total_loss += loss.item()\n",
        "\n",
        "        # tqdm lets you add some details so you can monitor training as you train.\n",
        "        batch_bar.set_postfix(\n",
        "            acc=\"{:.04f}%\".format(100 * num_correct / (config['batch_size']*(i + 1))),\n",
        "            loss=\"{:.04f}\".format(float(total_loss / (i + 1))),\n",
        "            num_correct=num_correct,\n",
        "            lr=\"{:.04f}\".format(float(optimizer.param_groups[0]['lr'])))\n",
        "        \n",
        "        scaler.scale(loss).backward() # This is a replacement for loss.backward()\n",
        "        scaler.step(optimizer) # This is a replacement for optimizer.step()\n",
        "        scaler.update() \n",
        "        # loss.backward()\n",
        "        # optimizer.step()\n",
        "\n",
        "        # TODO? Depending on your choice of scheduler,\n",
        "        # You may want to call some schdulers inside the train function. What are these?\n",
        "      \n",
        "        batch_bar.update() # Update tqdm bar\n",
        "\n",
        "    batch_bar.close() # You need this to close the tqdm bar\n",
        "\n",
        "    acc = 100 * num_correct / (config['batch_size']* len(dataloader))\n",
        "    total_loss = float(total_loss / len(dataloader))\n",
        "\n",
        "    return acc, total_loss"
      ],
      "metadata": {
        "id": "0zUk9WLDbcki"
      },
      "execution_count": null,
      "outputs": []
    },
    {
      "cell_type": "code",
      "source": [
        "def train_gender(model, dataloader, optimizer, criterion):\n",
        "    \n",
        "    model.train()\n",
        "\n",
        "    # Progress Bar \n",
        "    batch_bar = tqdm(total=len(dataloader), dynamic_ncols=True, leave=False, position=0, desc='Train', ncols=5) \n",
        "    \n",
        "    num_correct = 0\n",
        "    total_loss = 0\n",
        "\n",
        "    for i, (images, another_label,labels,fileName) in enumerate(dataloader):\n",
        "        \n",
        "        optimizer.zero_grad() # Zero gradients\n",
        "\n",
        "        #labels =labels.type(torch.LongTensor)   # casting to long\n",
        "        images, labels = images.to(device), labels.to(device)\n",
        "        \n",
        "        with torch.cuda.amp.autocast(): # This implements mixed precision. Thats it! \n",
        "            outputs = model(images)\n",
        "            loss = criterion(outputs, labels)\n",
        "\n",
        "        # Update no. of correct predictions & loss as we iterate\n",
        "        num_correct += int((torch.argmax(outputs, axis=1) == labels).sum())\n",
        "        total_loss += float(loss.item())\n",
        "\n",
        "        # tqdm lets you add some details so you can monitor training as you train.\n",
        "        batch_bar.set_postfix(\n",
        "            acc=\"{:.04f}%\".format(100 * num_correct / (config['batch_size']*(i + 1))),\n",
        "            loss=\"{:.04f}\".format(float(total_loss / (i + 1))),\n",
        "            num_correct=num_correct,\n",
        "            lr=\"{:.04f}\".format(float(optimizer.param_groups[0]['lr'])))\n",
        "        \n",
        "        # scaler.scale(loss).backward() # This is a replacement for loss.backward()\n",
        "        # scaler.step(optimizer) # This is a replacement for optimizer.step()\n",
        "        # scaler.update() \n",
        "        loss.backward()\n",
        "        optimizer.step()\n",
        "\n",
        "        # TODO? Depending on your choice of scheduler,\n",
        "        # You may want to call some schdulers inside the train function. What are these?\n",
        "      \n",
        "        batch_bar.update() # Update tqdm bar\n",
        "\n",
        "    batch_bar.close() # You need this to close the tqdm bar\n",
        "\n",
        "    acc = 100 * num_correct / (config['batch_size']* len(dataloader))\n",
        "    total_loss = float(total_loss / len(dataloader))\n",
        "\n",
        "    return acc, total_loss"
      ],
      "metadata": {
        "id": "nL72R5cUfxpt"
      },
      "execution_count": null,
      "outputs": []
    },
    {
      "cell_type": "code",
      "source": [
        "rangerange=0\n",
        "# age difference : 0, 5, 15"
      ],
      "metadata": {
        "id": "wB3R9elOljPJ"
      },
      "execution_count": null,
      "outputs": []
    },
    {
      "cell_type": "code",
      "source": [
        "\n",
        "def validate_age(model, dataloader, criterion):\n",
        "    model.eval()\n",
        "    batch_bar = tqdm(total=len(dataloader), dynamic_ncols=True, position=0, leave=False, desc='Val', ncols=5)\n",
        "\n",
        "    num_correct_1=0.0\n",
        "    num_correct_2=0.0\n",
        "    num_correct_3=0.0\n",
        "\n",
        "    num_correct = 0.0\n",
        "    total_loss = 0.0\n",
        "\n",
        "    for i, (images, labels,another_label,fileName) in enumerate(dataloader):\n",
        "        #labels =labels.type(torch.LongTensor)   # casting to long\n",
        "        # Move images to device\n",
        "        images, labels = images.to(device), labels.to(device)\n",
        "        \n",
        "        # Get model outputs\n",
        "        with torch.inference_mode():\n",
        "        #with torch.no_grad():\n",
        "            outputs = model(images)\n",
        "            loss = criterion(outputs, labels)\n",
        "\n",
        "        #num_correct += int((torch.argmax(outputs, axis=1) == labels).sum())\n",
        "\n",
        "        bool_1=(torch.argmax(outputs, axis=1) >= labels-rangerange)\n",
        "        bool_2=(torch.argmax(outputs, axis=1) <= labels+rangerange)\n",
        "        bool_3=bool_1+bool_2\n",
        "\n",
        "        #num_correct += int(((bool_1 and bool_2)==True).sum())\n",
        "        #num_correct += int(((bool_1+bool_2) == True).sum())\n",
        "        #num_correct += int((bool_3==True).sum())\n",
        "        \n",
        "        num_correct_1+= int((bool_1==True).sum())\n",
        "        num_correct_2+= int((bool_2==True).sum())\n",
        "        num_correct_3+= int((bool_3==True).sum())\n",
        "        \n",
        "        num_correct   = (num_correct_1+num_correct_2-num_correct_3)\n",
        "        #num_correct  += int((bool_3==True).sum())\n",
        "\n",
        "\n",
        "\n",
        "        #num_correct += int((torch.argmax(outputs, axis=1) == labels).sum())\n",
        "        # if (torch.argmax(outputs,axis=1)>=labels-5 and torch.argmax(outputs,axis=1)<=labels+5):\n",
        "        #   num_correct=num_correct+1\n",
        "        #print(labels)\n",
        "        # print(bool_1+bool_2)\n",
        "\n",
        "        total_loss += float(loss.item())\n",
        "\n",
        "        batch_bar.set_postfix(\n",
        "            acc=\"{:.04f}%\".format(100 * num_correct / (config['batch_size']*(i + 1))),\n",
        "            loss=\"{:.04f}\".format(float(total_loss / (i + 1))),\n",
        "            num_correct=num_correct)\n",
        "\n",
        "        batch_bar.update()\n",
        "        \n",
        "    batch_bar.close()\n",
        "    acc = 100 * num_correct / (config['batch_size']* len(dataloader))\n",
        "    total_loss = float(total_loss / len(dataloader))\n",
        "    return acc, total_loss"
      ],
      "metadata": {
        "id": "iL0hGgrdfNY_"
      },
      "execution_count": null,
      "outputs": []
    },
    {
      "cell_type": "code",
      "source": [
        "\n",
        "def validate_gender(model, dataloader, criterion):\n",
        "    model.eval()\n",
        "    batch_bar = tqdm(total=len(dataloader), dynamic_ncols=True, position=0, leave=False, desc='Val', ncols=5)\n",
        "\n",
        "    num_correct = 0.0\n",
        "    total_loss = 0.0\n",
        "\n",
        "    for i, (images, another_label,labels,fileName) in enumerate(dataloader):\n",
        "        #labels =labels.type(torch.LongTensor)   # casting to long\n",
        "        # Move images to device\n",
        "        images, labels = images.to(device), labels.to(device)\n",
        "        \n",
        "        # Get model outputs\n",
        "        with torch.inference_mode():\n",
        "        #with torch.no_grad():\n",
        "            outputs = model(images)\n",
        "            loss = criterion(outputs, labels)\n",
        "\n",
        "\n",
        "        num_correct += int((torch.argmax(outputs, axis=1) == labels).sum())\n",
        "        total_loss += float(loss.item())\n",
        "\n",
        "        batch_bar.set_postfix(\n",
        "            acc=\"{:.04f}%\".format(100 * num_correct / (config['batch_size']*(i + 1))),\n",
        "            loss=\"{:.04f}\".format(float(total_loss / (i + 1))),\n",
        "            num_correct=num_correct)\n",
        "\n",
        "        batch_bar.update()\n",
        "        \n",
        "    batch_bar.close()\n",
        "    acc = 100 * num_correct / (config['batch_size']* len(dataloader))\n",
        "    total_loss = float(total_loss / len(dataloader))\n",
        "    return acc, total_loss"
      ],
      "metadata": {
        "id": "egwHfnYgf7Oq"
      },
      "execution_count": null,
      "outputs": []
    },
    {
      "cell_type": "code",
      "source": [
        "import gc \n",
        "gc.collect()"
      ],
      "metadata": {
        "colab": {
          "base_uri": "https://localhost:8080/"
        },
        "id": "uKLU_BOYm_YD",
        "outputId": "4c563025-6991-439c-fc04-79b29bf97145"
      },
      "execution_count": null,
      "outputs": [
        {
          "output_type": "execute_result",
          "data": {
            "text/plain": [
              "21367"
            ]
          },
          "metadata": {},
          "execution_count": 36
        }
      ]
    },
    {
      "cell_type": "code",
      "source": [
        "#best_valacc = 0.00\n",
        "\n",
        "for epoch in range(config['epochs']):\n",
        "# for epoch in range(100):\n",
        "\n",
        "    curr_lr_age = float(optimizer_age.param_groups[0]['lr'])\n",
        "    #curr_lr_gender = float(optimizer_gender.param_groups[0]['lr'])\n",
        "\n",
        "    train_acc_age, train_loss_age = train_age(model, train_loader, optimizer_age, criterion_age)\n",
        "   #train_acc_age, train_loss_age = train_age(model_age, train_loader, optimizer_age, criterion_age)\n",
        "    #train_acc_gender, train_loss_gender = train_gender(model_gender, train_loader, optimizer_gender, criterion_gender)\n",
        "\n",
        "\n",
        "\n",
        "    print(\"\\nEpoch {}/{}: \\nTrain Acc {:.04f}%\\t Train Loss age {:.04f}\\t Learning Rate age {:.04f}\".format(\n",
        "        epoch + 1,\n",
        "        config['epochs'],\n",
        "        train_acc_age,\n",
        "        train_loss_age,\n",
        "        curr_lr_age))\n",
        "    \n",
        "    # print(\"\\nEpoch {}/{}: \\nTrain Acc {:.04f}%\\t Train Loss gender {:.04f}\\t Learning Rate gender {:.04f}\".format(\n",
        "    #     epoch + 1,\n",
        "    #     config['epochs'],\n",
        "    #     train_acc_gender,\n",
        "    #     train_loss_gender,\n",
        "    #     curr_lr_gender))\n",
        "    \n",
        "    val_acc_age, val_loss_age = validate_age(model, test_loader, criterion_age)\n",
        "    #val_acc_age, val_loss_age = validate_age(model_age, test_loader, criterion_age)\n",
        "    # val_acc_age, val_loss_age = validate_age(model_age, val_loader, criterion_age)\n",
        "    #val_acc_gender, val_loss_gender = validate_gender(model_gender, val_loader, criterion_gender)\n",
        "    \n",
        "    \n",
        "    scheduler_age.step(train_acc_age)\n",
        "    \n",
        "    #scheduler_age.step(val_acc_age)\n",
        "    #scheduler_gender.step(val_acc_gender)\n",
        "    \n",
        "    #scheduler.step()\n",
        "\n",
        "    print(\"Val Acc age {:.04f}%\\t Val Loss age {:.04f}\".format(val_acc_age, val_loss_age))\n"
      ],
      "metadata": {
        "colab": {
          "base_uri": "https://localhost:8080/",
          "height": 464
        },
        "id": "4y0yjPGcbcfX",
        "outputId": "df9d2518-3dc7-4a5b-8563-34f120b878ea"
      },
      "execution_count": null,
      "outputs": [
        {
          "output_type": "stream",
          "name": "stderr",
          "text": [
            "\rTrain:   0%|          | 0/75 [00:00<?, ?it/s]"
          ]
        },
        {
          "output_type": "error",
          "ename": "OutOfMemoryError",
          "evalue": "ignored",
          "traceback": [
            "\u001b[0;31m---------------------------------------------------------------------------\u001b[0m",
            "\u001b[0;31mOutOfMemoryError\u001b[0m                          Traceback (most recent call last)",
            "\u001b[0;32m<ipython-input-37-38ac541ef5fe>\u001b[0m in \u001b[0;36m<module>\u001b[0;34m\u001b[0m\n\u001b[1;32m      7\u001b[0m     \u001b[0;31m#curr_lr_gender = float(optimizer_gender.param_groups[0]['lr'])\u001b[0m\u001b[0;34m\u001b[0m\u001b[0;34m\u001b[0m\u001b[0;34m\u001b[0m\u001b[0m\n\u001b[1;32m      8\u001b[0m \u001b[0;34m\u001b[0m\u001b[0m\n\u001b[0;32m----> 9\u001b[0;31m     \u001b[0mtrain_acc_age\u001b[0m\u001b[0;34m,\u001b[0m \u001b[0mtrain_loss_age\u001b[0m \u001b[0;34m=\u001b[0m \u001b[0mtrain_age\u001b[0m\u001b[0;34m(\u001b[0m\u001b[0mmodel\u001b[0m\u001b[0;34m,\u001b[0m \u001b[0mtrain_loader\u001b[0m\u001b[0;34m,\u001b[0m \u001b[0moptimizer_age\u001b[0m\u001b[0;34m,\u001b[0m \u001b[0mcriterion_age\u001b[0m\u001b[0;34m)\u001b[0m\u001b[0;34m\u001b[0m\u001b[0;34m\u001b[0m\u001b[0m\n\u001b[0m\u001b[1;32m     10\u001b[0m    \u001b[0;31m#train_acc_age, train_loss_age = train_age(model_age, train_loader, optimizer_age, criterion_age)\u001b[0m\u001b[0;34m\u001b[0m\u001b[0;34m\u001b[0m\u001b[0;34m\u001b[0m\u001b[0m\n\u001b[1;32m     11\u001b[0m     \u001b[0;31m#train_acc_gender, train_loss_gender = train_gender(model_gender, train_loader, optimizer_gender, criterion_gender)\u001b[0m\u001b[0;34m\u001b[0m\u001b[0;34m\u001b[0m\u001b[0;34m\u001b[0m\u001b[0m\n",
            "\u001b[0;32m<ipython-input-31-eabb229e554d>\u001b[0m in \u001b[0;36mtrain_age\u001b[0;34m(model, dataloader, optimizer, criterion)\u001b[0m\n\u001b[1;32m     20\u001b[0m \u001b[0;34m\u001b[0m\u001b[0m\n\u001b[1;32m     21\u001b[0m         \u001b[0;32mwith\u001b[0m \u001b[0mtorch\u001b[0m\u001b[0;34m.\u001b[0m\u001b[0mcuda\u001b[0m\u001b[0;34m.\u001b[0m\u001b[0mamp\u001b[0m\u001b[0;34m.\u001b[0m\u001b[0mautocast\u001b[0m\u001b[0;34m(\u001b[0m\u001b[0;34m)\u001b[0m\u001b[0;34m:\u001b[0m \u001b[0;31m# This implements mixed precision. Thats it!\u001b[0m\u001b[0;34m\u001b[0m\u001b[0;34m\u001b[0m\u001b[0m\n\u001b[0;32m---> 22\u001b[0;31m             \u001b[0moutputs\u001b[0m \u001b[0;34m=\u001b[0m \u001b[0mmodel\u001b[0m\u001b[0;34m(\u001b[0m\u001b[0mimages\u001b[0m\u001b[0;34m)\u001b[0m\u001b[0;34m\u001b[0m\u001b[0;34m\u001b[0m\u001b[0m\n\u001b[0m\u001b[1;32m     23\u001b[0m             \u001b[0mloss\u001b[0m \u001b[0;34m=\u001b[0m \u001b[0mcriterion\u001b[0m\u001b[0;34m(\u001b[0m\u001b[0moutputs\u001b[0m\u001b[0;34m,\u001b[0m \u001b[0mlabels\u001b[0m\u001b[0;34m)\u001b[0m\u001b[0;34m\u001b[0m\u001b[0;34m\u001b[0m\u001b[0m\n\u001b[1;32m     24\u001b[0m \u001b[0;34m\u001b[0m\u001b[0m\n",
            "\u001b[0;32m/usr/local/lib/python3.8/dist-packages/torch/nn/modules/module.py\u001b[0m in \u001b[0;36m_call_impl\u001b[0;34m(self, *input, **kwargs)\u001b[0m\n\u001b[1;32m   1188\u001b[0m         if not (self._backward_hooks or self._forward_hooks or self._forward_pre_hooks or _global_backward_hooks\n\u001b[1;32m   1189\u001b[0m                 or _global_forward_hooks or _global_forward_pre_hooks):\n\u001b[0;32m-> 1190\u001b[0;31m             \u001b[0;32mreturn\u001b[0m \u001b[0mforward_call\u001b[0m\u001b[0;34m(\u001b[0m\u001b[0;34m*\u001b[0m\u001b[0minput\u001b[0m\u001b[0;34m,\u001b[0m \u001b[0;34m**\u001b[0m\u001b[0mkwargs\u001b[0m\u001b[0;34m)\u001b[0m\u001b[0;34m\u001b[0m\u001b[0;34m\u001b[0m\u001b[0m\n\u001b[0m\u001b[1;32m   1191\u001b[0m         \u001b[0;31m# Do not call functions when jit is used\u001b[0m\u001b[0;34m\u001b[0m\u001b[0;34m\u001b[0m\u001b[0;34m\u001b[0m\u001b[0m\n\u001b[1;32m   1192\u001b[0m         \u001b[0mfull_backward_hooks\u001b[0m\u001b[0;34m,\u001b[0m \u001b[0mnon_full_backward_hooks\u001b[0m \u001b[0;34m=\u001b[0m \u001b[0;34m[\u001b[0m\u001b[0;34m]\u001b[0m\u001b[0;34m,\u001b[0m \u001b[0;34m[\u001b[0m\u001b[0;34m]\u001b[0m\u001b[0;34m\u001b[0m\u001b[0;34m\u001b[0m\u001b[0m\n",
            "\u001b[0;32m<ipython-input-27-02111b56e18b>\u001b[0m in \u001b[0;36mforward\u001b[0;34m(self, x)\u001b[0m\n\u001b[1;32m     97\u001b[0m         \u001b[0mx\u001b[0m \u001b[0;34m=\u001b[0m \u001b[0mself\u001b[0m\u001b[0;34m.\u001b[0m\u001b[0mlayer2\u001b[0m\u001b[0;34m(\u001b[0m\u001b[0mx\u001b[0m\u001b[0;34m)\u001b[0m\u001b[0;34m\u001b[0m\u001b[0;34m\u001b[0m\u001b[0m\n\u001b[1;32m     98\u001b[0m         \u001b[0mx\u001b[0m \u001b[0;34m=\u001b[0m \u001b[0mself\u001b[0m\u001b[0;34m.\u001b[0m\u001b[0mlayer3\u001b[0m\u001b[0;34m(\u001b[0m\u001b[0mx\u001b[0m\u001b[0;34m)\u001b[0m\u001b[0;34m\u001b[0m\u001b[0;34m\u001b[0m\u001b[0m\n\u001b[0;32m---> 99\u001b[0;31m         \u001b[0mx\u001b[0m \u001b[0;34m=\u001b[0m \u001b[0mself\u001b[0m\u001b[0;34m.\u001b[0m\u001b[0mlayer4\u001b[0m\u001b[0;34m(\u001b[0m\u001b[0mx\u001b[0m\u001b[0;34m)\u001b[0m\u001b[0;34m\u001b[0m\u001b[0;34m\u001b[0m\u001b[0m\n\u001b[0m\u001b[1;32m    100\u001b[0m \u001b[0;34m\u001b[0m\u001b[0m\n\u001b[1;32m    101\u001b[0m         \u001b[0mx\u001b[0m \u001b[0;34m=\u001b[0m \u001b[0mself\u001b[0m\u001b[0;34m.\u001b[0m\u001b[0mavgpool\u001b[0m\u001b[0;34m(\u001b[0m\u001b[0mx\u001b[0m\u001b[0;34m)\u001b[0m\u001b[0;34m\u001b[0m\u001b[0;34m\u001b[0m\u001b[0m\n",
            "\u001b[0;32m/usr/local/lib/python3.8/dist-packages/torch/nn/modules/module.py\u001b[0m in \u001b[0;36m_call_impl\u001b[0;34m(self, *input, **kwargs)\u001b[0m\n\u001b[1;32m   1188\u001b[0m         if not (self._backward_hooks or self._forward_hooks or self._forward_pre_hooks or _global_backward_hooks\n\u001b[1;32m   1189\u001b[0m                 or _global_forward_hooks or _global_forward_pre_hooks):\n\u001b[0;32m-> 1190\u001b[0;31m             \u001b[0;32mreturn\u001b[0m \u001b[0mforward_call\u001b[0m\u001b[0;34m(\u001b[0m\u001b[0;34m*\u001b[0m\u001b[0minput\u001b[0m\u001b[0;34m,\u001b[0m \u001b[0;34m**\u001b[0m\u001b[0mkwargs\u001b[0m\u001b[0;34m)\u001b[0m\u001b[0;34m\u001b[0m\u001b[0;34m\u001b[0m\u001b[0m\n\u001b[0m\u001b[1;32m   1191\u001b[0m         \u001b[0;31m# Do not call functions when jit is used\u001b[0m\u001b[0;34m\u001b[0m\u001b[0;34m\u001b[0m\u001b[0;34m\u001b[0m\u001b[0m\n\u001b[1;32m   1192\u001b[0m         \u001b[0mfull_backward_hooks\u001b[0m\u001b[0;34m,\u001b[0m \u001b[0mnon_full_backward_hooks\u001b[0m \u001b[0;34m=\u001b[0m \u001b[0;34m[\u001b[0m\u001b[0;34m]\u001b[0m\u001b[0;34m,\u001b[0m \u001b[0;34m[\u001b[0m\u001b[0;34m]\u001b[0m\u001b[0;34m\u001b[0m\u001b[0;34m\u001b[0m\u001b[0m\n",
            "\u001b[0;32m/usr/local/lib/python3.8/dist-packages/torch/nn/modules/container.py\u001b[0m in \u001b[0;36mforward\u001b[0;34m(self, input)\u001b[0m\n\u001b[1;32m    202\u001b[0m     \u001b[0;32mdef\u001b[0m \u001b[0mforward\u001b[0m\u001b[0;34m(\u001b[0m\u001b[0mself\u001b[0m\u001b[0;34m,\u001b[0m \u001b[0minput\u001b[0m\u001b[0;34m)\u001b[0m\u001b[0;34m:\u001b[0m\u001b[0;34m\u001b[0m\u001b[0;34m\u001b[0m\u001b[0m\n\u001b[1;32m    203\u001b[0m         \u001b[0;32mfor\u001b[0m \u001b[0mmodule\u001b[0m \u001b[0;32min\u001b[0m \u001b[0mself\u001b[0m\u001b[0;34m:\u001b[0m\u001b[0;34m\u001b[0m\u001b[0;34m\u001b[0m\u001b[0m\n\u001b[0;32m--> 204\u001b[0;31m             \u001b[0minput\u001b[0m \u001b[0;34m=\u001b[0m \u001b[0mmodule\u001b[0m\u001b[0;34m(\u001b[0m\u001b[0minput\u001b[0m\u001b[0;34m)\u001b[0m\u001b[0;34m\u001b[0m\u001b[0;34m\u001b[0m\u001b[0m\n\u001b[0m\u001b[1;32m    205\u001b[0m         \u001b[0;32mreturn\u001b[0m \u001b[0minput\u001b[0m\u001b[0;34m\u001b[0m\u001b[0;34m\u001b[0m\u001b[0m\n\u001b[1;32m    206\u001b[0m \u001b[0;34m\u001b[0m\u001b[0m\n",
            "\u001b[0;32m/usr/local/lib/python3.8/dist-packages/torch/nn/modules/module.py\u001b[0m in \u001b[0;36m_call_impl\u001b[0;34m(self, *input, **kwargs)\u001b[0m\n\u001b[1;32m   1188\u001b[0m         if not (self._backward_hooks or self._forward_hooks or self._forward_pre_hooks or _global_backward_hooks\n\u001b[1;32m   1189\u001b[0m                 or _global_forward_hooks or _global_forward_pre_hooks):\n\u001b[0;32m-> 1190\u001b[0;31m             \u001b[0;32mreturn\u001b[0m \u001b[0mforward_call\u001b[0m\u001b[0;34m(\u001b[0m\u001b[0;34m*\u001b[0m\u001b[0minput\u001b[0m\u001b[0;34m,\u001b[0m \u001b[0;34m**\u001b[0m\u001b[0mkwargs\u001b[0m\u001b[0;34m)\u001b[0m\u001b[0;34m\u001b[0m\u001b[0;34m\u001b[0m\u001b[0m\n\u001b[0m\u001b[1;32m   1191\u001b[0m         \u001b[0;31m# Do not call functions when jit is used\u001b[0m\u001b[0;34m\u001b[0m\u001b[0;34m\u001b[0m\u001b[0;34m\u001b[0m\u001b[0m\n\u001b[1;32m   1192\u001b[0m         \u001b[0mfull_backward_hooks\u001b[0m\u001b[0;34m,\u001b[0m \u001b[0mnon_full_backward_hooks\u001b[0m \u001b[0;34m=\u001b[0m \u001b[0;34m[\u001b[0m\u001b[0;34m]\u001b[0m\u001b[0;34m,\u001b[0m \u001b[0;34m[\u001b[0m\u001b[0;34m]\u001b[0m\u001b[0;34m\u001b[0m\u001b[0;34m\u001b[0m\u001b[0m\n",
            "\u001b[0;32m<ipython-input-27-02111b56e18b>\u001b[0m in \u001b[0;36mforward\u001b[0;34m(self, x)\u001b[0m\n\u001b[1;32m     33\u001b[0m         \u001b[0;31m#downsample if needed\u001b[0m\u001b[0;34m\u001b[0m\u001b[0;34m\u001b[0m\u001b[0;34m\u001b[0m\u001b[0m\n\u001b[1;32m     34\u001b[0m         \u001b[0;32mif\u001b[0m \u001b[0mself\u001b[0m\u001b[0;34m.\u001b[0m\u001b[0mi_downsample\u001b[0m \u001b[0;32mis\u001b[0m \u001b[0;32mnot\u001b[0m \u001b[0;32mNone\u001b[0m\u001b[0;34m:\u001b[0m\u001b[0;34m\u001b[0m\u001b[0;34m\u001b[0m\u001b[0m\n\u001b[0;32m---> 35\u001b[0;31m             \u001b[0midentity\u001b[0m \u001b[0;34m=\u001b[0m \u001b[0mself\u001b[0m\u001b[0;34m.\u001b[0m\u001b[0mi_downsample\u001b[0m\u001b[0;34m(\u001b[0m\u001b[0midentity\u001b[0m\u001b[0;34m)\u001b[0m\u001b[0;34m\u001b[0m\u001b[0;34m\u001b[0m\u001b[0m\n\u001b[0m\u001b[1;32m     36\u001b[0m         \u001b[0;31m#add identity\u001b[0m\u001b[0;34m\u001b[0m\u001b[0;34m\u001b[0m\u001b[0;34m\u001b[0m\u001b[0m\n\u001b[1;32m     37\u001b[0m         \u001b[0mx\u001b[0m\u001b[0;34m+=\u001b[0m\u001b[0midentity\u001b[0m\u001b[0;34m\u001b[0m\u001b[0;34m\u001b[0m\u001b[0m\n",
            "\u001b[0;32m/usr/local/lib/python3.8/dist-packages/torch/nn/modules/module.py\u001b[0m in \u001b[0;36m_call_impl\u001b[0;34m(self, *input, **kwargs)\u001b[0m\n\u001b[1;32m   1188\u001b[0m         if not (self._backward_hooks or self._forward_hooks or self._forward_pre_hooks or _global_backward_hooks\n\u001b[1;32m   1189\u001b[0m                 or _global_forward_hooks or _global_forward_pre_hooks):\n\u001b[0;32m-> 1190\u001b[0;31m             \u001b[0;32mreturn\u001b[0m \u001b[0mforward_call\u001b[0m\u001b[0;34m(\u001b[0m\u001b[0;34m*\u001b[0m\u001b[0minput\u001b[0m\u001b[0;34m,\u001b[0m \u001b[0;34m**\u001b[0m\u001b[0mkwargs\u001b[0m\u001b[0;34m)\u001b[0m\u001b[0;34m\u001b[0m\u001b[0;34m\u001b[0m\u001b[0m\n\u001b[0m\u001b[1;32m   1191\u001b[0m         \u001b[0;31m# Do not call functions when jit is used\u001b[0m\u001b[0;34m\u001b[0m\u001b[0;34m\u001b[0m\u001b[0;34m\u001b[0m\u001b[0m\n\u001b[1;32m   1192\u001b[0m         \u001b[0mfull_backward_hooks\u001b[0m\u001b[0;34m,\u001b[0m \u001b[0mnon_full_backward_hooks\u001b[0m \u001b[0;34m=\u001b[0m \u001b[0;34m[\u001b[0m\u001b[0;34m]\u001b[0m\u001b[0;34m,\u001b[0m \u001b[0;34m[\u001b[0m\u001b[0;34m]\u001b[0m\u001b[0;34m\u001b[0m\u001b[0;34m\u001b[0m\u001b[0m\n",
            "\u001b[0;32m/usr/local/lib/python3.8/dist-packages/torch/nn/modules/container.py\u001b[0m in \u001b[0;36mforward\u001b[0;34m(self, input)\u001b[0m\n\u001b[1;32m    202\u001b[0m     \u001b[0;32mdef\u001b[0m \u001b[0mforward\u001b[0m\u001b[0;34m(\u001b[0m\u001b[0mself\u001b[0m\u001b[0;34m,\u001b[0m \u001b[0minput\u001b[0m\u001b[0;34m)\u001b[0m\u001b[0;34m:\u001b[0m\u001b[0;34m\u001b[0m\u001b[0;34m\u001b[0m\u001b[0m\n\u001b[1;32m    203\u001b[0m         \u001b[0;32mfor\u001b[0m \u001b[0mmodule\u001b[0m \u001b[0;32min\u001b[0m \u001b[0mself\u001b[0m\u001b[0;34m:\u001b[0m\u001b[0;34m\u001b[0m\u001b[0;34m\u001b[0m\u001b[0m\n\u001b[0;32m--> 204\u001b[0;31m             \u001b[0minput\u001b[0m \u001b[0;34m=\u001b[0m \u001b[0mmodule\u001b[0m\u001b[0;34m(\u001b[0m\u001b[0minput\u001b[0m\u001b[0;34m)\u001b[0m\u001b[0;34m\u001b[0m\u001b[0;34m\u001b[0m\u001b[0m\n\u001b[0m\u001b[1;32m    205\u001b[0m         \u001b[0;32mreturn\u001b[0m \u001b[0minput\u001b[0m\u001b[0;34m\u001b[0m\u001b[0;34m\u001b[0m\u001b[0m\n\u001b[1;32m    206\u001b[0m \u001b[0;34m\u001b[0m\u001b[0m\n",
            "\u001b[0;32m/usr/local/lib/python3.8/dist-packages/torch/nn/modules/module.py\u001b[0m in \u001b[0;36m_call_impl\u001b[0;34m(self, *input, **kwargs)\u001b[0m\n\u001b[1;32m   1188\u001b[0m         if not (self._backward_hooks or self._forward_hooks or self._forward_pre_hooks or _global_backward_hooks\n\u001b[1;32m   1189\u001b[0m                 or _global_forward_hooks or _global_forward_pre_hooks):\n\u001b[0;32m-> 1190\u001b[0;31m             \u001b[0;32mreturn\u001b[0m \u001b[0mforward_call\u001b[0m\u001b[0;34m(\u001b[0m\u001b[0;34m*\u001b[0m\u001b[0minput\u001b[0m\u001b[0;34m,\u001b[0m \u001b[0;34m**\u001b[0m\u001b[0mkwargs\u001b[0m\u001b[0;34m)\u001b[0m\u001b[0;34m\u001b[0m\u001b[0;34m\u001b[0m\u001b[0m\n\u001b[0m\u001b[1;32m   1191\u001b[0m         \u001b[0;31m# Do not call functions when jit is used\u001b[0m\u001b[0;34m\u001b[0m\u001b[0;34m\u001b[0m\u001b[0;34m\u001b[0m\u001b[0m\n\u001b[1;32m   1192\u001b[0m         \u001b[0mfull_backward_hooks\u001b[0m\u001b[0;34m,\u001b[0m \u001b[0mnon_full_backward_hooks\u001b[0m \u001b[0;34m=\u001b[0m \u001b[0;34m[\u001b[0m\u001b[0;34m]\u001b[0m\u001b[0;34m,\u001b[0m \u001b[0;34m[\u001b[0m\u001b[0;34m]\u001b[0m\u001b[0;34m\u001b[0m\u001b[0;34m\u001b[0m\u001b[0m\n",
            "\u001b[0;32m/usr/local/lib/python3.8/dist-packages/torch/nn/modules/conv.py\u001b[0m in \u001b[0;36mforward\u001b[0;34m(self, input)\u001b[0m\n\u001b[1;32m    461\u001b[0m \u001b[0;34m\u001b[0m\u001b[0m\n\u001b[1;32m    462\u001b[0m     \u001b[0;32mdef\u001b[0m \u001b[0mforward\u001b[0m\u001b[0;34m(\u001b[0m\u001b[0mself\u001b[0m\u001b[0;34m,\u001b[0m \u001b[0minput\u001b[0m\u001b[0;34m:\u001b[0m \u001b[0mTensor\u001b[0m\u001b[0;34m)\u001b[0m \u001b[0;34m->\u001b[0m \u001b[0mTensor\u001b[0m\u001b[0;34m:\u001b[0m\u001b[0;34m\u001b[0m\u001b[0;34m\u001b[0m\u001b[0m\n\u001b[0;32m--> 463\u001b[0;31m         \u001b[0;32mreturn\u001b[0m \u001b[0mself\u001b[0m\u001b[0;34m.\u001b[0m\u001b[0m_conv_forward\u001b[0m\u001b[0;34m(\u001b[0m\u001b[0minput\u001b[0m\u001b[0;34m,\u001b[0m \u001b[0mself\u001b[0m\u001b[0;34m.\u001b[0m\u001b[0mweight\u001b[0m\u001b[0;34m,\u001b[0m \u001b[0mself\u001b[0m\u001b[0;34m.\u001b[0m\u001b[0mbias\u001b[0m\u001b[0;34m)\u001b[0m\u001b[0;34m\u001b[0m\u001b[0;34m\u001b[0m\u001b[0m\n\u001b[0m\u001b[1;32m    464\u001b[0m \u001b[0;34m\u001b[0m\u001b[0m\n\u001b[1;32m    465\u001b[0m \u001b[0;32mclass\u001b[0m \u001b[0mConv3d\u001b[0m\u001b[0;34m(\u001b[0m\u001b[0m_ConvNd\u001b[0m\u001b[0;34m)\u001b[0m\u001b[0;34m:\u001b[0m\u001b[0;34m\u001b[0m\u001b[0;34m\u001b[0m\u001b[0m\n",
            "\u001b[0;32m/usr/local/lib/python3.8/dist-packages/torch/nn/modules/conv.py\u001b[0m in \u001b[0;36m_conv_forward\u001b[0;34m(self, input, weight, bias)\u001b[0m\n\u001b[1;32m    457\u001b[0m                             \u001b[0mweight\u001b[0m\u001b[0;34m,\u001b[0m \u001b[0mbias\u001b[0m\u001b[0;34m,\u001b[0m \u001b[0mself\u001b[0m\u001b[0;34m.\u001b[0m\u001b[0mstride\u001b[0m\u001b[0;34m,\u001b[0m\u001b[0;34m\u001b[0m\u001b[0;34m\u001b[0m\u001b[0m\n\u001b[1;32m    458\u001b[0m                             _pair(0), self.dilation, self.groups)\n\u001b[0;32m--> 459\u001b[0;31m         return F.conv2d(input, weight, bias, self.stride,\n\u001b[0m\u001b[1;32m    460\u001b[0m                         self.padding, self.dilation, self.groups)\n\u001b[1;32m    461\u001b[0m \u001b[0;34m\u001b[0m\u001b[0m\n",
            "\u001b[0;31mOutOfMemoryError\u001b[0m: CUDA out of memory. Tried to allocate 50.00 MiB (GPU 0; 14.76 GiB total capacity; 13.37 GiB already allocated; 43.75 MiB free; 13.65 GiB reserved in total by PyTorch) If reserved memory is >> allocated memory try setting max_split_size_mb to avoid fragmentation.  See documentation for Memory Management and PYTORCH_CUDA_ALLOC_CONF"
          ]
        }
      ]
    }
  ],
  "metadata": {
    "kernelspec": {
      "display_name": "Python 3",
      "language": "python",
      "name": "python3"
    },
    "language_info": {
      "codemirror_mode": {
        "name": "ipython",
        "version": 3
      },
      "file_extension": ".py",
      "mimetype": "text/x-python",
      "name": "python",
      "nbconvert_exporter": "python",
      "pygments_lexer": "ipython3",
      "version": "3.7.11"
    },
    "colab": {
      "provenance": [],
      "collapsed_sections": [
        "UlOJKHMkoSrS",
        "tViJjZc_oSrU",
        "7WE3yKRFoSrX"
      ],
      "machine_shape": "hm"
    },
    "accelerator": "GPU",
    "gpuClass": "standard"
  },
  "nbformat": 4,
  "nbformat_minor": 0
}