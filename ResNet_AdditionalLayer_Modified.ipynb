{
  "cells": [
    {
      "cell_type": "markdown",
      "metadata": {
        "id": "RAXykzE9oSrR"
      },
      "source": [
        "## Background\n",
        "\n",
        "\n",
        "The goal of this project is to train a multi-objective image classifier using data from [Kaggle](https://www.kaggle.com/jangedoo/utkface-new).\n",
        "\n",
        "The model should take image as an input and predict the gender and age of the person in the image."
      ]
    },
    {
      "cell_type": "markdown",
      "metadata": {
        "id": "UlOJKHMkoSrS"
      },
      "source": [
        "## Import libraries and read in data"
      ]
    },
    {
      "cell_type": "code",
      "source": [
        "!pip install pytorch_lightning -qqq"
      ],
      "metadata": {
        "id": "PNlsfqflAlVZ",
        "colab": {
          "base_uri": "https://localhost:8080/"
        },
        "outputId": "a64177cd-9495-4bdf-ea9f-db3464d407d1"
      },
      "execution_count": null,
      "outputs": [
        {
          "output_type": "stream",
          "name": "stdout",
          "text": [
            "\u001b[K     |████████████████████████████████| 800 kB 4.9 MB/s \n",
            "\u001b[K     |████████████████████████████████| 512 kB 58.0 MB/s \n",
            "\u001b[K     |████████████████████████████████| 125 kB 83.9 MB/s \n",
            "\u001b[?25h"
          ]
        }
      ]
    },
    {
      "cell_type": "code",
      "source": [
        "!pip install torchsummaryX wandb --quiet"
      ],
      "metadata": {
        "colab": {
          "base_uri": "https://localhost:8080/"
        },
        "id": "l3Dqp4P7M48a",
        "outputId": "a05c3eae-3dc3-46b0-f2e2-b53bd8612a04"
      },
      "execution_count": null,
      "outputs": [
        {
          "output_type": "stream",
          "name": "stdout",
          "text": [
            "\u001b[K     |████████████████████████████████| 1.9 MB 4.5 MB/s \n",
            "\u001b[K     |████████████████████████████████| 182 kB 78.8 MB/s \n",
            "\u001b[K     |████████████████████████████████| 168 kB 13.5 MB/s \n",
            "\u001b[K     |████████████████████████████████| 62 kB 1.3 MB/s \n",
            "\u001b[K     |████████████████████████████████| 168 kB 60.8 MB/s \n",
            "\u001b[K     |████████████████████████████████| 166 kB 62.8 MB/s \n",
            "\u001b[K     |████████████████████████████████| 166 kB 55.5 MB/s \n",
            "\u001b[K     |████████████████████████████████| 162 kB 50.5 MB/s \n",
            "\u001b[K     |████████████████████████████████| 162 kB 56.3 MB/s \n",
            "\u001b[K     |████████████████████████████████| 158 kB 58.9 MB/s \n",
            "\u001b[K     |████████████████████████████████| 157 kB 67.0 MB/s \n",
            "\u001b[K     |████████████████████████████████| 157 kB 21.2 MB/s \n",
            "\u001b[K     |████████████████████████████████| 157 kB 47.9 MB/s \n",
            "\u001b[K     |████████████████████████████████| 157 kB 919 kB/s \n",
            "\u001b[K     |████████████████████████████████| 157 kB 61.1 MB/s \n",
            "\u001b[K     |████████████████████████████████| 157 kB 56.3 MB/s \n",
            "\u001b[K     |████████████████████████████████| 157 kB 72.4 MB/s \n",
            "\u001b[K     |████████████████████████████████| 156 kB 21.0 MB/s \n",
            "\u001b[?25h  Building wheel for pathtools (setup.py) ... \u001b[?25l\u001b[?25hdone\n"
          ]
        }
      ]
    },
    {
      "cell_type": "code",
      "execution_count": null,
      "metadata": {
        "_cell_guid": "b1076dfc-b9ad-4769-8c92-a6c4dae69d19",
        "_uuid": "8f2839f25d086af736a60e9eeb907d3b93b6e0e5",
        "execution": {
          "iopub.execute_input": "2021-07-17T11:51:02.540676Z",
          "iopub.status.busy": "2021-07-17T11:51:02.540234Z",
          "iopub.status.idle": "2021-07-17T11:51:07.159837Z",
          "shell.execute_reply": "2021-07-17T11:51:07.158478Z",
          "shell.execute_reply.started": "2021-07-17T11:51:02.540584Z"
        },
        "id": "DH70Fbg1oSrS"
      },
      "outputs": [],
      "source": [
        "import numpy as np\n",
        "import pandas as pd \n",
        "import matplotlib.pyplot as plt\n",
        "import cv2\n",
        "import seaborn as sns\n",
        "from sklearn.model_selection import train_test_split\n",
        "from typing import List\n",
        "import torch\n",
        "import torchvision\n",
        "import torchvision.transforms as transforms\n",
        "import torch.nn as nn\n",
        "import torch.nn.functional as F\n",
        "from torch.utils.data import DataLoader, Dataset\n",
        "from torchvision import transforms\n",
        "import PIL\n",
        "from PIL import Image, ImageDraw\n",
        "import torchvision.models as models\n",
        "\n",
        "\n",
        "import os"
      ]
    },
    {
      "cell_type": "code",
      "source": [
        "!pip install --upgrade --force-reinstall --no-deps kaggle==1.5.8\n",
        "!mkdir /root/.kaggle/\n",
        "\n",
        "with open(\"/root/.kaggle/kaggle.json\", \"w+\") as f:\n",
        "    f.write('{\"username\":\"yufanlu0522\",\"key\":\"ac71488f8e2043dc0bb1f3ac535a7c9c\"}') # Put your kaggle username & key here\n",
        "\n",
        "!chmod 600 /root/.kaggle/kaggle.json"
      ],
      "metadata": {
        "colab": {
          "base_uri": "https://localhost:8080/"
        },
        "id": "bYa4uQ5d9b2X",
        "outputId": "3d821c9f-a9d0-42b0-dda4-3c783486f5ab"
      },
      "execution_count": null,
      "outputs": [
        {
          "output_type": "stream",
          "name": "stdout",
          "text": [
            "Looking in indexes: https://pypi.org/simple, https://us-python.pkg.dev/colab-wheels/public/simple/\n",
            "Collecting kaggle==1.5.8\n",
            "  Downloading kaggle-1.5.8.tar.gz (59 kB)\n",
            "\u001b[K     |████████████████████████████████| 59 kB 3.3 MB/s \n",
            "\u001b[?25hBuilding wheels for collected packages: kaggle\n",
            "  Building wheel for kaggle (setup.py) ... \u001b[?25l\u001b[?25hdone\n",
            "  Created wheel for kaggle: filename=kaggle-1.5.8-py3-none-any.whl size=73274 sha256=67fcd34fd6ead3652482f9ffc126428b93c0a516c23e29e085e0ae69eb97ea2a\n",
            "  Stored in directory: /root/.cache/pip/wheels/f3/67/7b/a6d668747974998471d29b230e7221dd01330ac34faebe4af4\n",
            "Successfully built kaggle\n",
            "Installing collected packages: kaggle\n",
            "  Attempting uninstall: kaggle\n",
            "    Found existing installation: kaggle 1.5.12\n",
            "    Uninstalling kaggle-1.5.12:\n",
            "      Successfully uninstalled kaggle-1.5.12\n",
            "Successfully installed kaggle-1.5.8\n"
          ]
        }
      ]
    },
    {
      "cell_type": "code",
      "source": [
        "!kaggle datasets download -d jangedoo/utkface-new"
      ],
      "metadata": {
        "colab": {
          "base_uri": "https://localhost:8080/"
        },
        "id": "P1F06FYhh21T",
        "outputId": "ab8327ef-3ca9-4945-8e4b-49e39775b29d"
      },
      "execution_count": null,
      "outputs": [
        {
          "output_type": "stream",
          "name": "stdout",
          "text": [
            "Downloading utkface-new.zip to /content\n",
            " 95% 314M/331M [00:02<00:00, 109MB/s]\n",
            "100% 331M/331M [00:02<00:00, 117MB/s]\n"
          ]
        }
      ]
    },
    {
      "cell_type": "code",
      "source": [
        "!mkdir '/content/data'\n",
        "\n",
        "!unzip -qo 'utkface-new.zip' -d '/content/data'"
      ],
      "metadata": {
        "id": "84d6y3RU9gQy"
      },
      "execution_count": null,
      "outputs": []
    },
    {
      "cell_type": "code",
      "execution_count": null,
      "metadata": {
        "execution": {
          "iopub.execute_input": "2021-07-17T11:51:07.162170Z",
          "iopub.status.busy": "2021-07-17T11:51:07.161794Z",
          "iopub.status.idle": "2021-07-17T11:51:07.585351Z",
          "shell.execute_reply": "2021-07-17T11:51:07.584183Z",
          "shell.execute_reply.started": "2021-07-17T11:51:07.162133Z"
        },
        "colab": {
          "base_uri": "https://localhost:8080/"
        },
        "id": "dek7RyiQoSrT",
        "outputId": "8c910702-d605-4296-8f1c-65ca045e5b97"
      },
      "outputs": [
        {
          "output_type": "stream",
          "name": "stdout",
          "text": [
            "Total samples: 23708\n",
            "5_0_0_20170110213322127.jpg.chip.jpg\n"
          ]
        }
      ],
      "source": [
        "path = \"/content/data/UTKFace/\"\n",
        "files = os.listdir(path)\n",
        "print(\"Total samples:\", len(files))\n",
        "print(files[0])"
      ]
    },
    {
      "cell_type": "markdown",
      "metadata": {
        "id": "4hbAdNk_oSrT"
      },
      "source": [
        "We can extract the needed labels (age and gender) from the file names. The first number in the file name is age, the second number is gender (0 for male, 1 for female)."
      ]
    },
    {
      "cell_type": "code",
      "source": [
        "import random"
      ],
      "metadata": {
        "id": "hu6UAMvs74zs"
      },
      "execution_count": null,
      "outputs": []
    },
    {
      "cell_type": "code",
      "execution_count": null,
      "metadata": {
        "execution": {
          "iopub.execute_input": "2021-07-17T11:51:07.590849Z",
          "iopub.status.busy": "2021-07-17T11:51:07.590537Z",
          "iopub.status.idle": "2021-07-17T11:53:13.370432Z",
          "shell.execute_reply": "2021-07-17T11:53:13.369126Z",
          "shell.execute_reply.started": "2021-07-17T11:51:07.590819Z"
        },
        "id": "NE4KdnvboSrU"
      },
      "outputs": [],
      "source": [
        "import cv2\n",
        "images = []\n",
        "ages = []\n",
        "genders = []\n",
        "files_1=[]\n",
        "for file in files:\n",
        "    image = cv2.imread(path+file,0)\n",
        "    image = cv2.resize(image,dsize=(124,124))\n",
        "    image = image.reshape((image.shape[0],image.shape[1],1))\n",
        "    \n",
        "    split_var = file.split('_')\n",
        "\n",
        "    if (int(split_var[0])<80):\n",
        "      files_1.append(file)\n",
        "      images.append(image)\n",
        "      ages.append(split_var[0])\n",
        "      genders.append(int(split_var[1]) )\n",
        "\n",
        "    #print(split_var[0])\n",
        "    # myRandom=random.randint(0, 3)\n",
        "\n",
        "    # if (int(split_var[0])>55 and int(split_var[0])<75):\n",
        "    #   files.append(file)\n",
        "    #   ages.append(split_var[0])\n",
        "    #   genders.append(int(split_var[1]))\n",
        "\n"
      ]
    },
    {
      "cell_type": "code",
      "source": [
        "files_2=[]\n",
        "for file in files_1:\n",
        "    image = cv2.imread(path+file,0)\n",
        "    image = cv2.resize(image,dsize=(124,124))\n",
        "    image = image.reshape((image.shape[0],image.shape[1],1))\n",
        "    split_var = file.split('_')\n",
        "\n",
        "\n",
        "    if (int(split_var[0])>35 and int(split_var[0])<110):\n",
        "      files_2.append(file)\n",
        "      images.append(image)\n",
        "      ages.append(split_var[0])\n",
        "      genders.append(int(split_var[1]) )\n",
        "      if (int(split_var[0])>50):\n",
        "        files_2.append(file)\n",
        "        images.append(image)\n",
        "        ages.append(split_var[0])\n",
        "        genders.append(int(split_var[1]) )"
      ],
      "metadata": {
        "id": "H26DN6tc9sFk"
      },
      "execution_count": null,
      "outputs": []
    },
    {
      "cell_type": "code",
      "source": [
        "files_3=[]\n",
        "for file in files_1:\n",
        "    image = cv2.imread(path+file,0)\n",
        "    image = cv2.resize(image,dsize=(124,124))\n",
        "    image = image.reshape((image.shape[0],image.shape[1],1))\n",
        "    split_var = file.split('_')\n",
        "\n",
        "\n",
        "    if (int(split_var[0])<20 or int(split_var[0])>60):\n",
        "      files_3.append(file)\n",
        "      images.append(image)\n",
        "      ages.append(split_var[0])\n",
        "      genders.append(int(split_var[1]) )"
      ],
      "metadata": {
        "id": "secpDU-E_No0"
      },
      "execution_count": null,
      "outputs": []
    },
    {
      "cell_type": "code",
      "source": [
        "\n",
        "for file in files_1:\n",
        "    image = cv2.imread(path+file,0)\n",
        "    image = cv2.resize(image,dsize=(124,124))\n",
        "    image = image.reshape((image.shape[0],image.shape[1],1))\n",
        "    split_var = file.split('_')\n",
        "\n",
        "\n",
        "    if ((int(split_var[0])<20 and int(split_var[0])>10) or int(split_var[0])>60):\n",
        "      files_3.append(file)\n",
        "      images.append(image)\n",
        "      ages.append(split_var[0])\n",
        "      genders.append(int(split_var[1]) )\n",
        "      if (int(split_var[0])>60):\n",
        "        files_3.append(file)\n",
        "        images.append(image)\n",
        "        ages.append(split_var[0])\n",
        "        genders.append(int(split_var[1]))\n",
        "        \n"
      ],
      "metadata": {
        "id": "F62cEY9bAsG4"
      },
      "execution_count": null,
      "outputs": []
    },
    {
      "cell_type": "code",
      "source": [
        "files_4=[]\n",
        "for file in files_1:\n",
        "    image = cv2.imread(path+file,0)\n",
        "    image = cv2.resize(image,dsize=(124,124))\n",
        "    image = image.reshape((image.shape[0],image.shape[1],1))\n",
        "    split_var = file.split('_')\n",
        "\n",
        "\n",
        "    if (int(split_var[0])>70):\n",
        "      files_4.append(file)\n",
        "      images.append(image)\n",
        "      ages.append(split_var[0])\n",
        "      genders.append(int(split_var[1]) )\n",
        "\n",
        "      files_4.append(file)\n",
        "      images.append(image)\n",
        "      ages.append(split_var[0])\n",
        "      genders.append(int(split_var[1]) )\n"
      ],
      "metadata": {
        "id": "pRbc5LKxCD1v"
      },
      "execution_count": null,
      "outputs": []
    },
    {
      "cell_type": "code",
      "source": [
        "\n",
        "files_1.extend(files_2)\n",
        "files_1.extend(files_3)\n",
        "files_1.extend(files_4)\n"
      ],
      "metadata": {
        "id": "LHO4596o-TQF"
      },
      "execution_count": null,
      "outputs": []
    },
    {
      "cell_type": "markdown",
      "metadata": {
        "id": "xMFwDLYXoSrU"
      },
      "source": [
        "Now let's put everything into a dataframe and check for missing values."
      ]
    },
    {
      "cell_type": "code",
      "execution_count": null,
      "metadata": {
        "execution": {
          "iopub.execute_input": "2021-07-17T11:53:13.372341Z",
          "iopub.status.busy": "2021-07-17T11:53:13.372017Z",
          "iopub.status.idle": "2021-07-17T11:53:13.434561Z",
          "shell.execute_reply": "2021-07-17T11:53:13.433468Z",
          "shell.execute_reply.started": "2021-07-17T11:53:13.372311Z"
        },
        "colab": {
          "base_uri": "https://localhost:8080/",
          "height": 206
        },
        "id": "ezQfsYBioSrU",
        "outputId": "91641907-46e0-4e49-edf1-1979e4c27aca"
      },
      "outputs": [
        {
          "output_type": "execute_result",
          "data": {
            "text/plain": [
              "                                img_file  gender  age\n",
              "0   5_0_0_20170110213322127.jpg.chip.jpg       0    5\n",
              "1  28_0_1_20170116203348523.jpg.chip.jpg       0   28\n",
              "2  14_1_0_20170109204131257.jpg.chip.jpg       1   14\n",
              "3  16_0_0_20170116235030195.jpg.chip.jpg       0   16\n",
              "4  48_0_0_20170117164541702.jpg.chip.jpg       0   48"
            ],
            "text/html": [
              "\n",
              "  <div id=\"df-b518ce06-68fd-4112-91e7-3b7b59b24a04\">\n",
              "    <div class=\"colab-df-container\">\n",
              "      <div>\n",
              "<style scoped>\n",
              "    .dataframe tbody tr th:only-of-type {\n",
              "        vertical-align: middle;\n",
              "    }\n",
              "\n",
              "    .dataframe tbody tr th {\n",
              "        vertical-align: top;\n",
              "    }\n",
              "\n",
              "    .dataframe thead th {\n",
              "        text-align: right;\n",
              "    }\n",
              "</style>\n",
              "<table border=\"1\" class=\"dataframe\">\n",
              "  <thead>\n",
              "    <tr style=\"text-align: right;\">\n",
              "      <th></th>\n",
              "      <th>img_file</th>\n",
              "      <th>gender</th>\n",
              "      <th>age</th>\n",
              "    </tr>\n",
              "  </thead>\n",
              "  <tbody>\n",
              "    <tr>\n",
              "      <th>0</th>\n",
              "      <td>5_0_0_20170110213322127.jpg.chip.jpg</td>\n",
              "      <td>0</td>\n",
              "      <td>5</td>\n",
              "    </tr>\n",
              "    <tr>\n",
              "      <th>1</th>\n",
              "      <td>28_0_1_20170116203348523.jpg.chip.jpg</td>\n",
              "      <td>0</td>\n",
              "      <td>28</td>\n",
              "    </tr>\n",
              "    <tr>\n",
              "      <th>2</th>\n",
              "      <td>14_1_0_20170109204131257.jpg.chip.jpg</td>\n",
              "      <td>1</td>\n",
              "      <td>14</td>\n",
              "    </tr>\n",
              "    <tr>\n",
              "      <th>3</th>\n",
              "      <td>16_0_0_20170116235030195.jpg.chip.jpg</td>\n",
              "      <td>0</td>\n",
              "      <td>16</td>\n",
              "    </tr>\n",
              "    <tr>\n",
              "      <th>4</th>\n",
              "      <td>48_0_0_20170117164541702.jpg.chip.jpg</td>\n",
              "      <td>0</td>\n",
              "      <td>48</td>\n",
              "    </tr>\n",
              "  </tbody>\n",
              "</table>\n",
              "</div>\n",
              "      <button class=\"colab-df-convert\" onclick=\"convertToInteractive('df-b518ce06-68fd-4112-91e7-3b7b59b24a04')\"\n",
              "              title=\"Convert this dataframe to an interactive table.\"\n",
              "              style=\"display:none;\">\n",
              "        \n",
              "  <svg xmlns=\"http://www.w3.org/2000/svg\" height=\"24px\"viewBox=\"0 0 24 24\"\n",
              "       width=\"24px\">\n",
              "    <path d=\"M0 0h24v24H0V0z\" fill=\"none\"/>\n",
              "    <path d=\"M18.56 5.44l.94 2.06.94-2.06 2.06-.94-2.06-.94-.94-2.06-.94 2.06-2.06.94zm-11 1L8.5 8.5l.94-2.06 2.06-.94-2.06-.94L8.5 2.5l-.94 2.06-2.06.94zm10 10l.94 2.06.94-2.06 2.06-.94-2.06-.94-.94-2.06-.94 2.06-2.06.94z\"/><path d=\"M17.41 7.96l-1.37-1.37c-.4-.4-.92-.59-1.43-.59-.52 0-1.04.2-1.43.59L10.3 9.45l-7.72 7.72c-.78.78-.78 2.05 0 2.83L4 21.41c.39.39.9.59 1.41.59.51 0 1.02-.2 1.41-.59l7.78-7.78 2.81-2.81c.8-.78.8-2.07 0-2.86zM5.41 20L4 18.59l7.72-7.72 1.47 1.35L5.41 20z\"/>\n",
              "  </svg>\n",
              "      </button>\n",
              "      \n",
              "  <style>\n",
              "    .colab-df-container {\n",
              "      display:flex;\n",
              "      flex-wrap:wrap;\n",
              "      gap: 12px;\n",
              "    }\n",
              "\n",
              "    .colab-df-convert {\n",
              "      background-color: #E8F0FE;\n",
              "      border: none;\n",
              "      border-radius: 50%;\n",
              "      cursor: pointer;\n",
              "      display: none;\n",
              "      fill: #1967D2;\n",
              "      height: 32px;\n",
              "      padding: 0 0 0 0;\n",
              "      width: 32px;\n",
              "    }\n",
              "\n",
              "    .colab-df-convert:hover {\n",
              "      background-color: #E2EBFA;\n",
              "      box-shadow: 0px 1px 2px rgba(60, 64, 67, 0.3), 0px 1px 3px 1px rgba(60, 64, 67, 0.15);\n",
              "      fill: #174EA6;\n",
              "    }\n",
              "\n",
              "    [theme=dark] .colab-df-convert {\n",
              "      background-color: #3B4455;\n",
              "      fill: #D2E3FC;\n",
              "    }\n",
              "\n",
              "    [theme=dark] .colab-df-convert:hover {\n",
              "      background-color: #434B5C;\n",
              "      box-shadow: 0px 1px 3px 1px rgba(0, 0, 0, 0.15);\n",
              "      filter: drop-shadow(0px 1px 2px rgba(0, 0, 0, 0.3));\n",
              "      fill: #FFFFFF;\n",
              "    }\n",
              "  </style>\n",
              "\n",
              "      <script>\n",
              "        const buttonEl =\n",
              "          document.querySelector('#df-b518ce06-68fd-4112-91e7-3b7b59b24a04 button.colab-df-convert');\n",
              "        buttonEl.style.display =\n",
              "          google.colab.kernel.accessAllowed ? 'block' : 'none';\n",
              "\n",
              "        async function convertToInteractive(key) {\n",
              "          const element = document.querySelector('#df-b518ce06-68fd-4112-91e7-3b7b59b24a04');\n",
              "          const dataTable =\n",
              "            await google.colab.kernel.invokeFunction('convertToInteractive',\n",
              "                                                     [key], {});\n",
              "          if (!dataTable) return;\n",
              "\n",
              "          const docLinkHtml = 'Like what you see? Visit the ' +\n",
              "            '<a target=\"_blank\" href=https://colab.research.google.com/notebooks/data_table.ipynb>data table notebook</a>'\n",
              "            + ' to learn more about interactive tables.';\n",
              "          element.innerHTML = '';\n",
              "          dataTable['output_type'] = 'display_data';\n",
              "          await google.colab.output.renderOutput(dataTable, element);\n",
              "          const docLink = document.createElement('div');\n",
              "          docLink.innerHTML = docLinkHtml;\n",
              "          element.appendChild(docLink);\n",
              "        }\n",
              "      </script>\n",
              "    </div>\n",
              "  </div>\n",
              "  "
            ]
          },
          "metadata": {},
          "execution_count": 16
        }
      ],
      "source": [
        "data = {'img_file': files_1, 'gender': genders, 'age': ages}\n",
        "df = pd.DataFrame(data=data)\n",
        "df['age'] = df['age'].astype(int)\n",
        "df.head()"
      ]
    },
    {
      "cell_type": "code",
      "execution_count": null,
      "metadata": {
        "execution": {
          "iopub.execute_input": "2021-07-17T11:53:13.436212Z",
          "iopub.status.busy": "2021-07-17T11:53:13.435858Z",
          "iopub.status.idle": "2021-07-17T11:53:13.450068Z",
          "shell.execute_reply": "2021-07-17T11:53:13.448956Z",
          "shell.execute_reply.started": "2021-07-17T11:53:13.436178Z"
        },
        "colab": {
          "base_uri": "https://localhost:8080/"
        },
        "id": "Y3MuNTtwoSrU",
        "outputId": "06b17767-2f8f-4c76-c2d4-b155b7acfaa7"
      },
      "outputs": [
        {
          "output_type": "execute_result",
          "data": {
            "text/plain": [
              "img_file    0\n",
              "gender      0\n",
              "age         0\n",
              "dtype: int64"
            ]
          },
          "metadata": {},
          "execution_count": 17
        }
      ],
      "source": [
        "df.isnull().sum()"
      ]
    },
    {
      "cell_type": "markdown",
      "metadata": {
        "id": "tViJjZc_oSrU"
      },
      "source": [
        "## EDA & Preprocessing"
      ]
    },
    {
      "cell_type": "markdown",
      "metadata": {
        "id": "Onj7k_CqoSrU"
      },
      "source": [
        "Let's start with some simpe EDA and preprocessing: look at some of the images, split age into age groups and look at the age and gender distribution.\n",
        "\n",
        "First, let's create a dictionary for genders where 0 is male, and 1 is female and print some examples."
      ]
    },
    {
      "cell_type": "code",
      "execution_count": null,
      "metadata": {
        "execution": {
          "iopub.execute_input": "2021-07-17T11:53:13.451630Z",
          "iopub.status.busy": "2021-07-17T11:53:13.451312Z",
          "iopub.status.idle": "2021-07-17T11:53:13.461882Z",
          "shell.execute_reply": "2021-07-17T11:53:13.460389Z",
          "shell.execute_reply.started": "2021-07-17T11:53:13.451601Z"
        },
        "id": "wH5liaVRoSrV"
      },
      "outputs": [],
      "source": [
        "gender_map = {\n",
        "    0: \"Male\",\n",
        "    1: \"Female\"\n",
        "}"
      ]
    },
    {
      "cell_type": "code",
      "execution_count": null,
      "metadata": {
        "execution": {
          "iopub.execute_input": "2021-07-17T11:53:13.465631Z",
          "iopub.status.busy": "2021-07-17T11:53:13.465251Z",
          "iopub.status.idle": "2021-07-17T11:53:13.478623Z",
          "shell.execute_reply": "2021-07-17T11:53:13.477306Z",
          "shell.execute_reply.started": "2021-07-17T11:53:13.465600Z"
        },
        "id": "mCtYJKPKoSrV"
      },
      "outputs": [],
      "source": [
        "def show_images(df: pd.DataFrame) -> None:\n",
        "    fig,ax = plt.subplots(2,5)\n",
        "    fig.set_size_inches(10, 6)\n",
        "    k =0\n",
        "    for i in range(2):\n",
        "        for j in range(5):\n",
        "            image = cv2.imread(path+df.img_file[k],0)\n",
        "            image = cv2.resize(image,dsize=(64,64))\n",
        "            #image = image.reshape((image.shape[0],image.shape[1],1))\n",
        "            \n",
        "            ax[i,j].imshow(image , cmap='gray')\n",
        "            ax[i,j].set_title(f'{gender_map[df.gender[k]]}, {df.age[k]}')\n",
        "            k = k+1;\n",
        "            \n",
        "    plt.tight_layout()"
      ]
    },
    {
      "cell_type": "code",
      "execution_count": null,
      "metadata": {
        "execution": {
          "iopub.execute_input": "2021-07-17T11:53:13.480909Z",
          "iopub.status.busy": "2021-07-17T11:53:13.480474Z",
          "iopub.status.idle": "2021-07-17T11:53:15.126181Z",
          "shell.execute_reply": "2021-07-17T11:53:15.125334Z",
          "shell.execute_reply.started": "2021-07-17T11:53:13.480872Z"
        },
        "colab": {
          "base_uri": "https://localhost:8080/",
          "height": 376
        },
        "id": "MvEBUDJZoSrV",
        "outputId": "ab6f32f7-849c-481f-9439-77320d982ff7"
      },
      "outputs": [
        {
          "output_type": "display_data",
          "data": {
            "text/plain": [
              "<Figure size 720x432 with 10 Axes>"
            ],
            "image/png": "[encoded data removed]"
          },
          "metadata": {
            "needs_background": "light"
          }
        }
      ],
      "source": [
        "show_images(df)"
      ]
    },
    {
      "cell_type": "markdown",
      "metadata": {
        "id": "P74yXdvMoSrV"
      },
      "source": [
        "From the first look, the training data seems to be quite diverse, as it includes people of different races, genders and ages. Let's see how many samples there are for both genders."
      ]
    },
    {
      "cell_type": "code",
      "execution_count": null,
      "metadata": {
        "execution": {
          "iopub.execute_input": "2021-07-17T11:53:15.127597Z",
          "iopub.status.busy": "2021-07-17T11:53:15.127207Z",
          "iopub.status.idle": "2021-07-17T11:53:15.284616Z",
          "shell.execute_reply": "2021-07-17T11:53:15.283697Z",
          "shell.execute_reply.started": "2021-07-17T11:53:15.127563Z"
        },
        "colab": {
          "base_uri": "https://localhost:8080/",
          "height": 353
        },
        "id": "3C4weB37oSrV",
        "outputId": "c529af3b-3f71-4826-a01a-2e8b880b7627"
      },
      "outputs": [
        {
          "output_type": "stream",
          "name": "stderr",
          "text": [
            "/usr/local/lib/python3.8/dist-packages/seaborn/_decorators.py:36: FutureWarning: Pass the following variable as a keyword arg: x. From version 0.12, the only valid positional argument will be `data`, and passing other arguments without an explicit keyword will result in an error or misinterpretation.\n",
            "  warnings.warn(\n"
          ]
        },
        {
          "output_type": "display_data",
          "data": {
            "text/plain": [
              "<Figure size 576x288 with 1 Axes>"
            ],
            "image/png": "[encoded data removed]"
          },
          "metadata": {
            "needs_background": "light"
          }
        }
      ],
      "source": [
        "plt.figure(figsize=(8,4))\n",
        "ax = sns.countplot(df.gender, alpha=0.8)\n",
        "plt.title(\"Gender Count\")\n",
        "plt.ylabel('Gender Count', fontsize=12)\n",
        "plt.xlabel('Gender', fontsize=12)\n",
        "\n",
        "positions = (0, 1)\n",
        "labels = (\"Male\", \"Female\")\n",
        "plt.xticks(positions, labels)\n",
        "\n",
        "#adding the text labels\n",
        "labels = df.gender.value_counts().sort_index()\n",
        "rects = ax.patches\n",
        "for rect, label in zip(rects, labels):\n",
        "    height = rect.get_height()\n",
        "    ax.text(rect.get_x() + rect.get_width()/2, height + 5, label, ha='center', va='bottom')\n",
        "\n",
        "plt.show()"
      ]
    },
    {
      "cell_type": "markdown",
      "metadata": {
        "id": "AJMDXOSgoSrV"
      },
      "source": [
        "As we can see, the difference between female and male samples is not that big. Let's see how the age distribution looks. First, we need to find the range of ages and split the ages into age bins."
      ]
    },
    {
      "cell_type": "code",
      "execution_count": null,
      "metadata": {
        "execution": {
          "iopub.execute_input": "2021-07-17T11:53:15.286182Z",
          "iopub.status.busy": "2021-07-17T11:53:15.285894Z",
          "iopub.status.idle": "2021-07-17T11:53:15.293380Z",
          "shell.execute_reply": "2021-07-17T11:53:15.292126Z",
          "shell.execute_reply.started": "2021-07-17T11:53:15.286154Z"
        },
        "colab": {
          "base_uri": "https://localhost:8080/"
        },
        "id": "64FGaltBoSrW",
        "outputId": "35239a73-86aa-4780-d01a-697482218cb0"
      },
      "outputs": [
        {
          "output_type": "stream",
          "name": "stdout",
          "text": [
            "Max age:  79\n",
            "Min age:  1\n"
          ]
        }
      ],
      "source": [
        "print(\"Max age: \", df['age'].max())\n",
        "print(\"Min age: \", df['age'].min())"
      ]
    },
    {
      "cell_type": "code",
      "execution_count": null,
      "metadata": {
        "execution": {
          "iopub.execute_input": "2021-07-17T11:53:15.295745Z",
          "iopub.status.busy": "2021-07-17T11:53:15.295266Z",
          "iopub.status.idle": "2021-07-17T11:53:15.317698Z",
          "shell.execute_reply": "2021-07-17T11:53:15.316420Z",
          "shell.execute_reply.started": "2021-07-17T11:53:15.295675Z"
        },
        "colab": {
          "base_uri": "https://localhost:8080/",
          "height": 206
        },
        "id": "3kuBD3D4oSrW",
        "outputId": "e7b8e396-4e04-4dfc-c87b-2acbb4398217"
      },
      "outputs": [
        {
          "output_type": "execute_result",
          "data": {
            "text/plain": [
              "                                img_file  gender  age bin\n",
              "0   5_0_0_20170110213322127.jpg.chip.jpg       0    5   0\n",
              "1  28_0_1_20170116203348523.jpg.chip.jpg       0   28  20\n",
              "2  14_1_0_20170109204131257.jpg.chip.jpg       1   14  10\n",
              "3  16_0_0_20170116235030195.jpg.chip.jpg       0   16  10\n",
              "4  48_0_0_20170117164541702.jpg.chip.jpg       0   48  40"
            ],
            "text/html": [
              "\n",
              "  <div id=\"df-ac991e94-8eed-4160-8f95-8163ad93e99f\">\n",
              "    <div class=\"colab-df-container\">\n",
              "      <div>\n",
              "<style scoped>\n",
              "    .dataframe tbody tr th:only-of-type {\n",
              "        vertical-align: middle;\n",
              "    }\n",
              "\n",
              "    .dataframe tbody tr th {\n",
              "        vertical-align: top;\n",
              "    }\n",
              "\n",
              "    .dataframe thead th {\n",
              "        text-align: right;\n",
              "    }\n",
              "</style>\n",
              "<table border=\"1\" class=\"dataframe\">\n",
              "  <thead>\n",
              "    <tr style=\"text-align: right;\">\n",
              "      <th></th>\n",
              "      <th>img_file</th>\n",
              "      <th>gender</th>\n",
              "      <th>age</th>\n",
              "      <th>bin</th>\n",
              "    </tr>\n",
              "  </thead>\n",
              "  <tbody>\n",
              "    <tr>\n",
              "      <th>0</th>\n",
              "      <td>5_0_0_20170110213322127.jpg.chip.jpg</td>\n",
              "      <td>0</td>\n",
              "      <td>5</td>\n",
              "      <td>0</td>\n",
              "    </tr>\n",
              "    <tr>\n",
              "      <th>1</th>\n",
              "      <td>28_0_1_20170116203348523.jpg.chip.jpg</td>\n",
              "      <td>0</td>\n",
              "      <td>28</td>\n",
              "      <td>20</td>\n",
              "    </tr>\n",
              "    <tr>\n",
              "      <th>2</th>\n",
              "      <td>14_1_0_20170109204131257.jpg.chip.jpg</td>\n",
              "      <td>1</td>\n",
              "      <td>14</td>\n",
              "      <td>10</td>\n",
              "    </tr>\n",
              "    <tr>\n",
              "      <th>3</th>\n",
              "      <td>16_0_0_20170116235030195.jpg.chip.jpg</td>\n",
              "      <td>0</td>\n",
              "      <td>16</td>\n",
              "      <td>10</td>\n",
              "    </tr>\n",
              "    <tr>\n",
              "      <th>4</th>\n",
              "      <td>48_0_0_20170117164541702.jpg.chip.jpg</td>\n",
              "      <td>0</td>\n",
              "      <td>48</td>\n",
              "      <td>40</td>\n",
              "    </tr>\n",
              "  </tbody>\n",
              "</table>\n",
              "</div>\n",
              "      <button class=\"colab-df-convert\" onclick=\"convertToInteractive('df-ac991e94-8eed-4160-8f95-8163ad93e99f')\"\n",
              "              title=\"Convert this dataframe to an interactive table.\"\n",
              "              style=\"display:none;\">\n",
              "        \n",
              "  <svg xmlns=\"http://www.w3.org/2000/svg\" height=\"24px\"viewBox=\"0 0 24 24\"\n",
              "       width=\"24px\">\n",
              "    <path d=\"M0 0h24v24H0V0z\" fill=\"none\"/>\n",
              "    <path d=\"M18.56 5.44l.94 2.06.94-2.06 2.06-.94-2.06-.94-.94-2.06-.94 2.06-2.06.94zm-11 1L8.5 8.5l.94-2.06 2.06-.94-2.06-.94L8.5 2.5l-.94 2.06-2.06.94zm10 10l.94 2.06.94-2.06 2.06-.94-2.06-.94-.94-2.06-.94 2.06-2.06.94z\"/><path d=\"M17.41 7.96l-1.37-1.37c-.4-.4-.92-.59-1.43-.59-.52 0-1.04.2-1.43.59L10.3 9.45l-7.72 7.72c-.78.78-.78 2.05 0 2.83L4 21.41c.39.39.9.59 1.41.59.51 0 1.02-.2 1.41-.59l7.78-7.78 2.81-2.81c.8-.78.8-2.07 0-2.86zM5.41 20L4 18.59l7.72-7.72 1.47 1.35L5.41 20z\"/>\n",
              "  </svg>\n",
              "      </button>\n",
              "      \n",
              "  <style>\n",
              "    .colab-df-container {\n",
              "      display:flex;\n",
              "      flex-wrap:wrap;\n",
              "      gap: 12px;\n",
              "    }\n",
              "\n",
              "    .colab-df-convert {\n",
              "      background-color: #E8F0FE;\n",
              "      border: none;\n",
              "      border-radius: 50%;\n",
              "      cursor: pointer;\n",
              "      display: none;\n",
              "      fill: #1967D2;\n",
              "      height: 32px;\n",
              "      padding: 0 0 0 0;\n",
              "      width: 32px;\n",
              "    }\n",
              "\n",
              "    .colab-df-convert:hover {\n",
              "      background-color: #E2EBFA;\n",
              "      box-shadow: 0px 1px 2px rgba(60, 64, 67, 0.3), 0px 1px 3px 1px rgba(60, 64, 67, 0.15);\n",
              "      fill: #174EA6;\n",
              "    }\n",
              "\n",
              "    [theme=dark] .colab-df-convert {\n",
              "      background-color: #3B4455;\n",
              "      fill: #D2E3FC;\n",
              "    }\n",
              "\n",
              "    [theme=dark] .colab-df-convert:hover {\n",
              "      background-color: #434B5C;\n",
              "      box-shadow: 0px 1px 3px 1px rgba(0, 0, 0, 0.15);\n",
              "      filter: drop-shadow(0px 1px 2px rgba(0, 0, 0, 0.3));\n",
              "      fill: #FFFFFF;\n",
              "    }\n",
              "  </style>\n",
              "\n",
              "      <script>\n",
              "        const buttonEl =\n",
              "          document.querySelector('#df-ac991e94-8eed-4160-8f95-8163ad93e99f button.colab-df-convert');\n",
              "        buttonEl.style.display =\n",
              "          google.colab.kernel.accessAllowed ? 'block' : 'none';\n",
              "\n",
              "        async function convertToInteractive(key) {\n",
              "          const element = document.querySelector('#df-ac991e94-8eed-4160-8f95-8163ad93e99f');\n",
              "          const dataTable =\n",
              "            await google.colab.kernel.invokeFunction('convertToInteractive',\n",
              "                                                     [key], {});\n",
              "          if (!dataTable) return;\n",
              "\n",
              "          const docLinkHtml = 'Like what you see? Visit the ' +\n",
              "            '<a target=\"_blank\" href=https://colab.research.google.com/notebooks/data_table.ipynb>data table notebook</a>'\n",
              "            + ' to learn more about interactive tables.';\n",
              "          element.innerHTML = '';\n",
              "          dataTable['output_type'] = 'display_data';\n",
              "          await google.colab.output.renderOutput(dataTable, element);\n",
              "          const docLink = document.createElement('div');\n",
              "          docLink.innerHTML = docLinkHtml;\n",
              "          element.appendChild(docLink);\n",
              "        }\n",
              "      </script>\n",
              "    </div>\n",
              "  </div>\n",
              "  "
            ]
          },
          "metadata": {},
          "execution_count": 23
        }
      ],
      "source": [
        "# df['bin'] = pd.cut(df['age'], bins = [0,10,20,30,40,50,60,70,80,90,100,110,120],\n",
        "#                    labels = ['0', '10', '20', '30', '40', '50', '60', '70', '80', '90', '100', '110'])\n",
        "# df.head()\n",
        "\n",
        "\n",
        "df['bin'] = pd.cut(df['age'], bins = [0,10,20,30,40,50,60,70,80],\n",
        "                   labels = ['0', '10', '20', '30', '40', '50', '60', '70'])\n",
        "df.head()"
      ]
    },
    {
      "cell_type": "code",
      "execution_count": null,
      "metadata": {
        "execution": {
          "iopub.execute_input": "2021-07-17T11:53:15.320024Z",
          "iopub.status.busy": "2021-07-17T11:53:15.319488Z",
          "iopub.status.idle": "2021-07-17T11:53:15.579525Z",
          "shell.execute_reply": "2021-07-17T11:53:15.578553Z",
          "shell.execute_reply.started": "2021-07-17T11:53:15.319975Z"
        },
        "colab": {
          "base_uri": "https://localhost:8080/",
          "height": 353
        },
        "id": "GdidGcoboSrW",
        "outputId": "df0e5c95-0629-445d-a113-a6a693bdd626"
      },
      "outputs": [
        {
          "output_type": "stream",
          "name": "stderr",
          "text": [
            "/usr/local/lib/python3.8/dist-packages/seaborn/_decorators.py:36: FutureWarning: Pass the following variable as a keyword arg: x. From version 0.12, the only valid positional argument will be `data`, and passing other arguments without an explicit keyword will result in an error or misinterpretation.\n",
            "  warnings.warn(\n"
          ]
        },
        {
          "output_type": "display_data",
          "data": {
            "text/plain": [
              "<Figure size 576x288 with 1 Axes>"
            ],
            "image/png": "[encoded data removed]"
          },
          "metadata": {
            "needs_background": "light"
          }
        }
      ],
      "source": [
        "plt.figure(figsize=(8,4))\n",
        "ax = sns.countplot(df.bin, alpha=0.8)\n",
        "plt.title(\"Age Count by Group\")\n",
        "plt.ylabel('Age Count', fontsize=12)\n",
        "plt.xlabel('Age Group', fontsize=12)\n",
        "\n",
        "#adding the text labels\n",
        "rects = ax.patches\n",
        "labels = df.bin.value_counts().sort_index()\n",
        "for rect, label in zip(rects, labels):\n",
        "    height = rect.get_height()\n",
        "    ax.text(rect.get_x() + rect.get_width()/2, height + 5, label, ha='center', va='bottom')\n",
        "\n",
        "plt.show()"
      ]
    },
    {
      "cell_type": "markdown",
      "metadata": {
        "id": "PnVq4NMqoSrW"
      },
      "source": [
        "As we can see, the age classes are more imbalanced. The majority of people are between 20 and 40 years old. There are only 540 people that are older than 80. Let's see if how the age distribution looks for each gender."
      ]
    },
    {
      "cell_type": "code",
      "execution_count": null,
      "metadata": {
        "execution": {
          "iopub.execute_input": "2021-07-17T11:53:15.581310Z",
          "iopub.status.busy": "2021-07-17T11:53:15.580994Z",
          "iopub.status.idle": "2021-07-17T11:53:15.883485Z",
          "shell.execute_reply": "2021-07-17T11:53:15.882720Z",
          "shell.execute_reply.started": "2021-07-17T11:53:15.581249Z"
        },
        "colab": {
          "base_uri": "https://localhost:8080/",
          "height": 298
        },
        "id": "UQcXdjTooSrW",
        "outputId": "8fb1eff8-ee74-449d-fbf5-5f1bbcf382ae"
      },
      "outputs": [
        {
          "output_type": "display_data",
          "data": {
            "text/plain": [
              "<Figure size 576x288 with 1 Axes>"
            ],
            "image/png": "[encoded data removed]"
          },
          "metadata": {
            "needs_background": "light"
          }
        }
      ],
      "source": [
        "plt.figure(figsize=(8,4))\n",
        "ax = sns.countplot(df.bin, alpha=0.8, hue=df.gender)\n",
        "plt.title(\"Age Count by Group and Gender\")\n",
        "plt.ylabel('Age Count', fontsize=12)\n",
        "plt.xlabel('Age Group', fontsize=12)\n",
        "plt.legend(labels=[\"Male\",\"Female\"])\n",
        "plt.show()"
      ]
    },
    {
      "cell_type": "markdown",
      "metadata": {
        "id": "etv3Z1CLoSrW"
      },
      "source": [
        "As we can see, the majority of people in their 0s,10s and 20s are women and the majority of people older than 30 are men. Let's split the data into train and validation sets"
      ]
    },
    {
      "cell_type": "code",
      "execution_count": null,
      "metadata": {
        "execution": {
          "iopub.execute_input": "2021-07-17T11:53:15.885023Z",
          "iopub.status.busy": "2021-07-17T11:53:15.884651Z",
          "iopub.status.idle": "2021-07-17T11:53:15.916157Z",
          "shell.execute_reply": "2021-07-17T11:53:15.915080Z",
          "shell.execute_reply.started": "2021-07-17T11:53:15.884992Z"
        },
        "colab": {
          "base_uri": "https://localhost:8080/"
        },
        "id": "kUfi3qh2oSrW",
        "outputId": "f3d73e69-6522-484e-dfb9-c4b946fc8b92"
      },
      "outputs": [
        {
          "output_type": "stream",
          "name": "stdout",
          "text": [
            "Samples in training set: 37713\n",
            "Samples in testing set: 9429\n"
          ]
        }
      ],
      "source": [
        "train, test = train_test_split(files_1, test_size=0.2, random_state=14,shuffle=True)\n",
        "\n",
        "print(\"Samples in training set:\",len(train))\n",
        "print(\"Samples in testing set:\",len(test))"
      ]
    },
    {
      "cell_type": "code",
      "source": [],
      "metadata": {
        "id": "B9DmvF7bRA1d"
      },
      "execution_count": null,
      "outputs": []
    },
    {
      "cell_type": "markdown",
      "metadata": {
        "id": "7WE3yKRFoSrX"
      },
      "source": [
        "## Modeling"
      ]
    },
    {
      "cell_type": "markdown",
      "metadata": {
        "id": "CfZlUhPJoSrX"
      },
      "source": [
        "Now let's define the image transformations (image resize, center crop, normalize, convert to tensor)."
      ]
    },
    {
      "cell_type": "code",
      "execution_count": null,
      "metadata": {
        "execution": {
          "iopub.execute_input": "2021-07-17T11:53:15.917964Z",
          "iopub.status.busy": "2021-07-17T11:53:15.917586Z",
          "iopub.status.idle": "2021-07-17T11:53:15.923218Z",
          "shell.execute_reply": "2021-07-17T11:53:15.922036Z",
          "shell.execute_reply.started": "2021-07-17T11:53:15.917928Z"
        },
        "id": "cH2Dals6oSrX"
      },
      "outputs": [],
      "source": [
        "preprocess_train = transforms.Compose([\n",
        "   transforms.Resize(200),\n",
        "\n",
        "   torchvision.transforms.RandomHorizontalFlip(p=0.5),\n",
        "   torchvision.transforms.RandomRotation(20),\n",
        "   torchvision.transforms.ColorJitter(brightness=0.4, contrast=0.3, saturation=0.3, hue=0.1),\n",
        "\n",
        "   transforms.ToTensor(),\n",
        "   transforms.Normalize(\n",
        "       mean=[0.485, 0.456, 0.406],\n",
        "       std=[0.229, 0.224, 0.225]\n",
        "   )\n",
        "])\n",
        "\n",
        "\n",
        "preprocess_test = transforms.Compose([\n",
        "   transforms.Resize(200),\n",
        "\n",
        "   transforms.ToTensor(),\n",
        "   transforms.Normalize(\n",
        "       mean=[0.485, 0.456, 0.406],\n",
        "       std=[0.229, 0.224, 0.225]\n",
        "   )\n",
        "])"
      ]
    },
    {
      "cell_type": "markdown",
      "metadata": {
        "id": "AYHFRZR8oSrX"
      },
      "source": [
        "Now let's create a custom dataset that applies the transformations to the images and deals with the labels."
      ]
    },
    {
      "cell_type": "code",
      "source": [
        "path = \"/content/data/UTKFace/\"\n",
        "files = os.listdir(path)\n",
        "print(\"Total samples:\", len(files))\n",
        "print(files[3])\n",
        "split_varr=files[3].split('_')"
      ],
      "metadata": {
        "colab": {
          "base_uri": "https://localhost:8080/"
        },
        "id": "-97bnc77xYW6",
        "outputId": "2bf1e074-516c-4bd8-ae26-e89a9efcaf37"
      },
      "execution_count": null,
      "outputs": [
        {
          "output_type": "stream",
          "name": "stdout",
          "text": [
            "Total samples: 23708\n",
            "16_0_0_20170116235030195.jpg.chip.jpg\n"
          ]
        }
      ]
    },
    {
      "cell_type": "code",
      "source": [
        "split_varr"
      ],
      "metadata": {
        "colab": {
          "base_uri": "https://localhost:8080/"
        },
        "id": "ywyk9YySxzGg",
        "outputId": "48112c8a-1334-4c34-adb7-07d708147792"
      },
      "execution_count": null,
      "outputs": [
        {
          "output_type": "execute_result",
          "data": {
            "text/plain": [
              "['16', '0', '0', '20170116235030195.jpg.chip.jpg']"
            ]
          },
          "metadata": {},
          "execution_count": 75
        }
      ]
    },
    {
      "cell_type": "code",
      "execution_count": null,
      "metadata": {
        "execution": {
          "iopub.execute_input": "2021-07-17T11:53:15.925030Z",
          "iopub.status.busy": "2021-07-17T11:53:15.924656Z",
          "iopub.status.idle": "2021-07-17T11:53:15.940165Z",
          "shell.execute_reply": "2021-07-17T11:53:15.938676Z",
          "shell.execute_reply.started": "2021-07-17T11:53:15.924997Z"
        },
        "id": "1RXEmF0moSrX"
      },
      "outputs": [],
      "source": [
        "\n",
        "class MultiTaskDataset(Dataset):\n",
        "    def __init__(self, path: str, files: list, tfms):\n",
        "    #def __init__(self, path: str, files: list):\n",
        "        self.files = files\n",
        "        self.path = path\n",
        "        self.tfms = tfms\n",
        "\n",
        "\n",
        "    def __len__(self): \n",
        "        return len(self.files)\n",
        "    \n",
        "    def __getitem__(self, idx: int):\n",
        "        img_file = self.files[idx]\n",
        "        img = PIL.Image.open(self.path + img_file).convert('RGB')\n",
        "        img = self.tfms(img)\n",
        "        \n",
        "        split_var = self.files[idx].split('_')\n",
        "        age = int(split_var[0])\n",
        "        #age = torch.tensor(age, dtype=torch.float32)\n",
        "        # age = torch.tensor(age, dtype=torch.int64)\n",
        "        age = torch.tensor(age-1,dtype=torch.int64)\n",
        "        #gender = torch.tensor(int(split_var[1]), dtype=torch.int64)\n",
        "        gender = torch.tensor(int(split_var[1]))\n",
        "        #gender=torch.tensor(gender,dtype=torch.int64)\n",
        "\n",
        "        #return img, age.log_()/4.75, gender, img_file\n",
        "        return img, age, gender, img_file\n"
      ]
    },
    {
      "cell_type": "code",
      "source": [
        "config = {\n",
        "    'batch_size': 256, # Increase this if your GPU can handle it.  // i think 512 is best for now, originally 64\n",
        "    'lr': 0.001,\n",
        "    'epochs': 150, \n",
        "}"
      ],
      "metadata": {
        "id": "PF6UDIZLZMLX"
      },
      "execution_count": null,
      "outputs": []
    },
    {
      "cell_type": "code",
      "execution_count": null,
      "metadata": {
        "execution": {
          "iopub.execute_input": "2021-07-17T11:53:15.942021Z",
          "iopub.status.busy": "2021-07-17T11:53:15.941557Z",
          "iopub.status.idle": "2021-07-17T11:53:15.957156Z",
          "shell.execute_reply": "2021-07-17T11:53:15.955784Z",
          "shell.execute_reply.started": "2021-07-17T11:53:15.941984Z"
        },
        "id": "G3R5dGmtoSrX"
      },
      "outputs": [],
      "source": [
        "train_ds = MultiTaskDataset(path, train, preprocess_train)\n",
        "test_ds = MultiTaskDataset(path, test, preprocess_test)"
      ]
    },
    {
      "cell_type": "code",
      "source": [
        "\n",
        "train_ds[10][1]"
      ],
      "metadata": {
        "colab": {
          "base_uri": "https://localhost:8080/"
        },
        "id": "OGHcXAG0oshJ",
        "outputId": "c7575545-18cb-4242-b933-55839c652b0f"
      },
      "execution_count": null,
      "outputs": [
        {
          "output_type": "execute_result",
          "data": {
            "text/plain": [
              "tensor(5)"
            ]
          },
          "metadata": {},
          "execution_count": 79
        }
      ]
    },
    {
      "cell_type": "code",
      "source": [
        "train_loader = torch.utils.data.DataLoader(train_ds, batch_size = config['batch_size'], \n",
        "                                           shuffle = True,num_workers = 2)\n",
        "#val_loader = torch.utils.data.DataLoader(valid_ds, batch_size = config['batch_size'], \n",
        "#                                         shuffle = False, num_workers = 2)\n",
        "test_loader = torch.utils.data.DataLoader(test_ds, batch_size = config['batch_size'], \n",
        "                                          shuffle = True,num_workers = 2)"
      ],
      "metadata": {
        "id": "20-Es4RuZCFM"
      },
      "execution_count": null,
      "outputs": []
    },
    {
      "cell_type": "code",
      "source": [
        "#print(\"Number of classes: \", len(train_dataset.classes))\n",
        "print(\"No. of train images: \", train_ds.__len__())\n",
        "print(\"Shape of image: \", train_ds[100][0].shape)\n",
        "print(\"Batch size: \", config['batch_size'])\n",
        "print(\"Train batches: \", train_loader.__len__())\n",
        "print(\"Val batches: \", test_loader.__len__())"
      ],
      "metadata": {
        "colab": {
          "base_uri": "https://localhost:8080/"
        },
        "id": "15t4fNGZZCyj",
        "outputId": "671905fd-11eb-4bf5-ea21-43a853cbe8d4"
      },
      "execution_count": null,
      "outputs": [
        {
          "output_type": "stream",
          "name": "stdout",
          "text": [
            "No. of train images:  37713\n",
            "Shape of image:  torch.Size([3, 200, 200])\n",
            "Batch size:  256\n",
            "Train batches:  148\n",
            "Val batches:  37\n"
          ]
        }
      ]
    },
    {
      "cell_type": "markdown",
      "metadata": {
        "id": "BdT_qUMAoSrX"
      },
      "source": [
        "Now we can begin the modeling part. We are going to apply [transfer learning](https://pytorch-lightning.readthedocs.io/en/stable/advanced/transfer_learning.html) using ResNet34. We’ll pack everything in [LightningModule](https://pytorch-lightning.readthedocs.io/en/stable/common/lightning_module.html). This is a multi-task learning task, because we have to predict the age and gender based on the input image. Predicting age is a regression problem with a single output, predicting gender is a classification problem with two outputs. With that in mind, we can create the model."
      ]
    },
    {
      "cell_type": "code",
      "source": [
        "# resnet34\n",
        "# resnet block\n",
        "class ResBlock(nn.Module):\n",
        "    def __init__(self, in_channel,out_channel, stride=1, downsample=None):\n",
        "        super().__init__()\n",
        "        self.conv1 = nn.Conv2d(in_channel, out_channel, kernel_size=3, stride=stride, padding=1, bias=False)\n",
        "        self.bn1 = nn.BatchNorm2d(out_channel)\n",
        "        self.relu1 = nn.ReLU()\n",
        "        self.conv2 = nn.Conv2d(out_channel, out_channel, kernel_size=3, stride=1, padding=1, bias=False)\n",
        "        self.bn2 = nn.BatchNorm2d(out_channel)\n",
        "        self.stride = stride\n",
        "        self.relu2 = nn.ReLU()\n",
        "        self.downsample = downsample\n",
        "\n",
        "\n",
        "    def forward(self, x):\n",
        "        shortcut = x\n",
        "        out = self.conv1(x)\n",
        "        out = self.bn1(out)\n",
        "        out = self.relu1(out)\n",
        "\n",
        "        out = self.conv2(out)\n",
        "        out = self.bn2(out)\n",
        "\n",
        "        if self.downsample is not None:\n",
        "          shortcut = self.downsample(x)\n",
        "        \n",
        "        out += shortcut\n",
        "        out = self.relu2(out)\n",
        "\n",
        "        return out"
      ],
      "metadata": {
        "id": "vy6NmDtnXpvs"
      },
      "execution_count": null,
      "outputs": []
    },
    {
      "cell_type": "code",
      "source": [
        "from torch.nn.modules.activation import ReLU\n",
        "class Network_AGE(nn.Module):\n",
        "    def __init__(self, block, num_classes=116):\n",
        "        super().__init__()\n",
        "        self.conv1 = nn.Conv2d(3, 64, kernel_size=7, stride=2, padding=3, bias=False) \n",
        "        self.bn1 = nn.BatchNorm2d(64)\n",
        "        self.relu = nn.ReLU()\n",
        "        self.maxpool = nn.MaxPool2d(3, 2, 1)\n",
        "        self.in_channel = 64\n",
        "        self.layer1 = nn.Sequential(\n",
        "            block(64, 64),\n",
        "            block(64, 64),\n",
        "            block(64, 64)\n",
        "        )       \n",
        "        self.layer2 = self._make_layer(block, 128, 4, stride=2)\n",
        "        self.layer3 = self._make_layer(block, 256, 6, stride=2)\n",
        "        self.layer4 = self._make_layer(block, 512, 3, stride=2)\n",
        "        self.avgpool = nn.AdaptiveAvgPool2d((1,1))\n",
        "\n",
        "        self.linear1 = nn.Linear(512, 512)\n",
        "        self.batch1 = nn.BatchNorm1d(512)\n",
        "        self.gelu1 = nn.GELU()\n",
        "        self.linear2 = nn.Linear(512, 512)\n",
        "        self.batch2 = nn.BatchNorm1d(512)\n",
        "        self.gelu2 = nn.GELU()\n",
        "        self.linear3 =nn.Linear(512, 512)\n",
        "        self.batch3 = nn.BatchNorm1d(512)\n",
        "        self.gelu3 = nn.GELU()\n",
        "\n",
        "        self.cls_layer = nn.Linear(512, num_classes)\n",
        "    \n",
        "    def _make_layer(self, block, outchannel, blocks, stride=1):\n",
        "        downsample = None\n",
        "        if stride != 1 or self.in_channel != outchannel:\n",
        "            downsample = nn.Sequential(\n",
        "                nn.Conv2d(self.in_channel, outchannel, 1, stride, bias=False),\n",
        "                nn.BatchNorm2d(outchannel),\n",
        "            )\n",
        "        layers = []\n",
        "        layers.append(block(self.in_channel, outchannel, stride, downsample))\n",
        "        self.in_channel = outchannel\n",
        "\n",
        "        for i in range(1, blocks):\n",
        "            layers.append(block(self.in_channel, outchannel))\n",
        "        return nn.Sequential(*layers)\n",
        "\n",
        "    \n",
        "    def forward(self, x, return_feats=False):\n",
        "        x = self.conv1(x)\n",
        "        x = self.bn1(x)\n",
        "        x = self.relu(x)\n",
        "        x = self.maxpool(x)\n",
        "\n",
        "        x = self.layer1(x)\n",
        "        x = self.layer2(x)\n",
        "        x = self.layer3(x)\n",
        "\n",
        "        x = self.layer4(x)\n",
        "\n",
        "        x = self.avgpool(x)\n",
        "        # print(x.shape)\n",
        "        x = torch.flatten(x, 1)     # convert 1 X 1 to vector\n",
        "        # print(x.shape)\n",
        "\n",
        "        x = self.linear1(x)\n",
        "        x = self.batch1(x)\n",
        "        x = self.gelu1(x)\n",
        "        x = self.linear2(x)\n",
        "        x = self.batch2(x)\n",
        "        x = self.gelu2(x)\n",
        "        x = self.linear3(x)\n",
        "        x = self.batch3(x)\n",
        "        x = self.gelu3(x)\n",
        "\n",
        "        x = self.cls_layer(x)\n",
        "\n",
        "        return x\n",
        "\n"
      ],
      "metadata": {
        "id": "sgIWdAN3XxTM"
      },
      "execution_count": null,
      "outputs": []
    },
    {
      "cell_type": "code",
      "source": [
        "from torch.nn.modules.activation import ReLU\n",
        "class Network_GENDER(nn.Module):\n",
        "    def __init__(self, block, num_classes=2):\n",
        "        super().__init__()\n",
        "        self.conv1 = nn.Conv2d(3, 64, kernel_size=7, stride=2, padding=3, bias=False) # TODO: Conv group 1\n",
        "        self.bn1 = nn.BatchNorm2d(64)\n",
        "        self.relu = nn.ReLU()\n",
        "        self.maxpool = nn.MaxPool2d(3, 2, 1)\n",
        "        self.in_channel = 64\n",
        "        self.layer1 = nn.Sequential(\n",
        "            block(64, 64),\n",
        "            block(64, 64),\n",
        "            block(64, 64)\n",
        "        )       \n",
        "        self.layer2 = self._make_layer(block, 128, 4, stride=2)\n",
        "        self.layer3 = self._make_layer(block, 256, 6, stride=2)\n",
        "        #self.linear = nn.Linear(512, 512)\n",
        "        #self.dropout = nn.Dropout(0.2)\n",
        "        self.layer4 = self._make_layer(block, 512, 3, stride=2)\n",
        "\n",
        "\n",
        "        self.avgpool = nn.AdaptiveAvgPool2d((1,1))\n",
        "        self.cls_layer = nn.Linear(512, num_classes)\n",
        "    \n",
        "    def _make_layer(self, block, outchannel, blocks, stride=1):\n",
        "        downsample = None\n",
        "        if stride != 1 or self.in_channel != outchannel:\n",
        "            downsample = nn.Sequential(\n",
        "                nn.Conv2d(self.in_channel, outchannel, 1, stride, bias=False),\n",
        "                nn.BatchNorm2d(outchannel),\n",
        "            )\n",
        "        layers = []\n",
        "        layers.append(block(self.in_channel, outchannel, stride, downsample))\n",
        "        self.in_channel = outchannel\n",
        "\n",
        "        for i in range(1, blocks):\n",
        "            layers.append(block(self.in_channel, outchannel))\n",
        "        return nn.Sequential(*layers)\n",
        "\n",
        "    \n",
        "    def forward(self, x, return_feats=False):\n",
        "        x = self.conv1(x)\n",
        "        x = self.bn1(x)\n",
        "        x = self.relu(x)\n",
        "        x = self.maxpool(x)\n",
        "\n",
        "        x = self.layer1(x)\n",
        "        x = self.layer2(x)\n",
        "        x = self.layer3(x)\n",
        "        #x = self.linear(x)\n",
        "        #x = self.dropout(x)\n",
        "        x = self.layer4(x)\n",
        "\n",
        "        x = self.avgpool(x)\n",
        "        x = torch.flatten(x, 1)     # convert 1 X 1 to vector\n",
        "        x = self.cls_layer(x)\n",
        "\n",
        "        return x\n",
        "\n"
      ],
      "metadata": {
        "id": "wC86oerLXxQm"
      },
      "execution_count": null,
      "outputs": []
    },
    {
      "cell_type": "code",
      "source": [
        "model_age=Network_AGE(ResBlock)\n",
        "model_age.cuda()\n",
        "model_gender=Network_GENDER(ResBlock)\n",
        "model_gender.cuda()"
      ],
      "metadata": {
        "colab": {
          "base_uri": "https://localhost:8080/"
        },
        "id": "6ysO4Rq-XxOA",
        "outputId": "d32b6d74-1b14-4ac2-8913-8d7c6ec26334"
      },
      "execution_count": null,
      "outputs": [
        {
          "output_type": "execute_result",
          "data": {
            "text/plain": [
              "Network_GENDER(\n",
              "  (conv1): Conv2d(3, 64, kernel_size=(7, 7), stride=(2, 2), padding=(3, 3), bias=False)\n",
              "  (bn1): BatchNorm2d(64, eps=1e-05, momentum=0.1, affine=True, track_running_stats=True)\n",
              "  (relu): ReLU()\n",
              "  (maxpool): MaxPool2d(kernel_size=3, stride=2, padding=1, dilation=1, ceil_mode=False)\n",
              "  (layer1): Sequential(\n",
              "    (0): ResBlock(\n",
              "      (conv1): Conv2d(64, 64, kernel_size=(3, 3), stride=(1, 1), padding=(1, 1), bias=False)\n",
              "      (bn1): BatchNorm2d(64, eps=1e-05, momentum=0.1, affine=True, track_running_stats=True)\n",
              "      (relu1): ReLU()\n",
              "      (conv2): Conv2d(64, 64, kernel_size=(3, 3), stride=(1, 1), padding=(1, 1), bias=False)\n",
              "      (bn2): BatchNorm2d(64, eps=1e-05, momentum=0.1, affine=True, track_running_stats=True)\n",
              "      (relu2): ReLU()\n",
              "    )\n",
              "    (1): ResBlock(\n",
              "      (conv1): Conv2d(64, 64, kernel_size=(3, 3), stride=(1, 1), padding=(1, 1), bias=False)\n",
              "      (bn1): BatchNorm2d(64, eps=1e-05, momentum=0.1, affine=True, track_running_stats=True)\n",
              "      (relu1): ReLU()\n",
              "      (conv2): Conv2d(64, 64, kernel_size=(3, 3), stride=(1, 1), padding=(1, 1), bias=False)\n",
              "      (bn2): BatchNorm2d(64, eps=1e-05, momentum=0.1, affine=True, track_running_stats=True)\n",
              "      (relu2): ReLU()\n",
              "    )\n",
              "    (2): ResBlock(\n",
              "      (conv1): Conv2d(64, 64, kernel_size=(3, 3), stride=(1, 1), padding=(1, 1), bias=False)\n",
              "      (bn1): BatchNorm2d(64, eps=1e-05, momentum=0.1, affine=True, track_running_stats=True)\n",
              "      (relu1): ReLU()\n",
              "      (conv2): Conv2d(64, 64, kernel_size=(3, 3), stride=(1, 1), padding=(1, 1), bias=False)\n",
              "      (bn2): BatchNorm2d(64, eps=1e-05, momentum=0.1, affine=True, track_running_stats=True)\n",
              "      (relu2): ReLU()\n",
              "    )\n",
              "  )\n",
              "  (layer2): Sequential(\n",
              "    (0): ResBlock(\n",
              "      (conv1): Conv2d(64, 128, kernel_size=(3, 3), stride=(2, 2), padding=(1, 1), bias=False)\n",
              "      (bn1): BatchNorm2d(128, eps=1e-05, momentum=0.1, affine=True, track_running_stats=True)\n",
              "      (relu1): ReLU()\n",
              "      (conv2): Conv2d(128, 128, kernel_size=(3, 3), stride=(1, 1), padding=(1, 1), bias=False)\n",
              "      (bn2): BatchNorm2d(128, eps=1e-05, momentum=0.1, affine=True, track_running_stats=True)\n",
              "      (relu2): ReLU()\n",
              "      (downsample): Sequential(\n",
              "        (0): Conv2d(64, 128, kernel_size=(1, 1), stride=(2, 2), bias=False)\n",
              "        (1): BatchNorm2d(128, eps=1e-05, momentum=0.1, affine=True, track_running_stats=True)\n",
              "      )\n",
              "    )\n",
              "    (1): ResBlock(\n",
              "      (conv1): Conv2d(128, 128, kernel_size=(3, 3), stride=(1, 1), padding=(1, 1), bias=False)\n",
              "      (bn1): BatchNorm2d(128, eps=1e-05, momentum=0.1, affine=True, track_running_stats=True)\n",
              "      (relu1): ReLU()\n",
              "      (conv2): Conv2d(128, 128, kernel_size=(3, 3), stride=(1, 1), padding=(1, 1), bias=False)\n",
              "      (bn2): BatchNorm2d(128, eps=1e-05, momentum=0.1, affine=True, track_running_stats=True)\n",
              "      (relu2): ReLU()\n",
              "    )\n",
              "    (2): ResBlock(\n",
              "      (conv1): Conv2d(128, 128, kernel_size=(3, 3), stride=(1, 1), padding=(1, 1), bias=False)\n",
              "      (bn1): BatchNorm2d(128, eps=1e-05, momentum=0.1, affine=True, track_running_stats=True)\n",
              "      (relu1): ReLU()\n",
              "      (conv2): Conv2d(128, 128, kernel_size=(3, 3), stride=(1, 1), padding=(1, 1), bias=False)\n",
              "      (bn2): BatchNorm2d(128, eps=1e-05, momentum=0.1, affine=True, track_running_stats=True)\n",
              "      (relu2): ReLU()\n",
              "    )\n",
              "    (3): ResBlock(\n",
              "      (conv1): Conv2d(128, 128, kernel_size=(3, 3), stride=(1, 1), padding=(1, 1), bias=False)\n",
              "      (bn1): BatchNorm2d(128, eps=1e-05, momentum=0.1, affine=True, track_running_stats=True)\n",
              "      (relu1): ReLU()\n",
              "      (conv2): Conv2d(128, 128, kernel_size=(3, 3), stride=(1, 1), padding=(1, 1), bias=False)\n",
              "      (bn2): BatchNorm2d(128, eps=1e-05, momentum=0.1, affine=True, track_running_stats=True)\n",
              "      (relu2): ReLU()\n",
              "    )\n",
              "  )\n",
              "  (layer3): Sequential(\n",
              "    (0): ResBlock(\n",
              "      (conv1): Conv2d(128, 256, kernel_size=(3, 3), stride=(2, 2), padding=(1, 1), bias=False)\n",
              "      (bn1): BatchNorm2d(256, eps=1e-05, momentum=0.1, affine=True, track_running_stats=True)\n",
              "      (relu1): ReLU()\n",
              "      (conv2): Conv2d(256, 256, kernel_size=(3, 3), stride=(1, 1), padding=(1, 1), bias=False)\n",
              "      (bn2): BatchNorm2d(256, eps=1e-05, momentum=0.1, affine=True, track_running_stats=True)\n",
              "      (relu2): ReLU()\n",
              "      (downsample): Sequential(\n",
              "        (0): Conv2d(128, 256, kernel_size=(1, 1), stride=(2, 2), bias=False)\n",
              "        (1): BatchNorm2d(256, eps=1e-05, momentum=0.1, affine=True, track_running_stats=True)\n",
              "      )\n",
              "    )\n",
              "    (1): ResBlock(\n",
              "      (conv1): Conv2d(256, 256, kernel_size=(3, 3), stride=(1, 1), padding=(1, 1), bias=False)\n",
              "      (bn1): BatchNorm2d(256, eps=1e-05, momentum=0.1, affine=True, track_running_stats=True)\n",
              "      (relu1): ReLU()\n",
              "      (conv2): Conv2d(256, 256, kernel_size=(3, 3), stride=(1, 1), padding=(1, 1), bias=False)\n",
              "      (bn2): BatchNorm2d(256, eps=1e-05, momentum=0.1, affine=True, track_running_stats=True)\n",
              "      (relu2): ReLU()\n",
              "    )\n",
              "    (2): ResBlock(\n",
              "      (conv1): Conv2d(256, 256, kernel_size=(3, 3), stride=(1, 1), padding=(1, 1), bias=False)\n",
              "      (bn1): BatchNorm2d(256, eps=1e-05, momentum=0.1, affine=True, track_running_stats=True)\n",
              "      (relu1): ReLU()\n",
              "      (conv2): Conv2d(256, 256, kernel_size=(3, 3), stride=(1, 1), padding=(1, 1), bias=False)\n",
              "      (bn2): BatchNorm2d(256, eps=1e-05, momentum=0.1, affine=True, track_running_stats=True)\n",
              "      (relu2): ReLU()\n",
              "    )\n",
              "    (3): ResBlock(\n",
              "      (conv1): Conv2d(256, 256, kernel_size=(3, 3), stride=(1, 1), padding=(1, 1), bias=False)\n",
              "      (bn1): BatchNorm2d(256, eps=1e-05, momentum=0.1, affine=True, track_running_stats=True)\n",
              "      (relu1): ReLU()\n",
              "      (conv2): Conv2d(256, 256, kernel_size=(3, 3), stride=(1, 1), padding=(1, 1), bias=False)\n",
              "      (bn2): BatchNorm2d(256, eps=1e-05, momentum=0.1, affine=True, track_running_stats=True)\n",
              "      (relu2): ReLU()\n",
              "    )\n",
              "    (4): ResBlock(\n",
              "      (conv1): Conv2d(256, 256, kernel_size=(3, 3), stride=(1, 1), padding=(1, 1), bias=False)\n",
              "      (bn1): BatchNorm2d(256, eps=1e-05, momentum=0.1, affine=True, track_running_stats=True)\n",
              "      (relu1): ReLU()\n",
              "      (conv2): Conv2d(256, 256, kernel_size=(3, 3), stride=(1, 1), padding=(1, 1), bias=False)\n",
              "      (bn2): BatchNorm2d(256, eps=1e-05, momentum=0.1, affine=True, track_running_stats=True)\n",
              "      (relu2): ReLU()\n",
              "    )\n",
              "    (5): ResBlock(\n",
              "      (conv1): Conv2d(256, 256, kernel_size=(3, 3), stride=(1, 1), padding=(1, 1), bias=False)\n",
              "      (bn1): BatchNorm2d(256, eps=1e-05, momentum=0.1, affine=True, track_running_stats=True)\n",
              "      (relu1): ReLU()\n",
              "      (conv2): Conv2d(256, 256, kernel_size=(3, 3), stride=(1, 1), padding=(1, 1), bias=False)\n",
              "      (bn2): BatchNorm2d(256, eps=1e-05, momentum=0.1, affine=True, track_running_stats=True)\n",
              "      (relu2): ReLU()\n",
              "    )\n",
              "  )\n",
              "  (layer4): Sequential(\n",
              "    (0): ResBlock(\n",
              "      (conv1): Conv2d(256, 512, kernel_size=(3, 3), stride=(2, 2), padding=(1, 1), bias=False)\n",
              "      (bn1): BatchNorm2d(512, eps=1e-05, momentum=0.1, affine=True, track_running_stats=True)\n",
              "      (relu1): ReLU()\n",
              "      (conv2): Conv2d(512, 512, kernel_size=(3, 3), stride=(1, 1), padding=(1, 1), bias=False)\n",
              "      (bn2): BatchNorm2d(512, eps=1e-05, momentum=0.1, affine=True, track_running_stats=True)\n",
              "      (relu2): ReLU()\n",
              "      (downsample): Sequential(\n",
              "        (0): Conv2d(256, 512, kernel_size=(1, 1), stride=(2, 2), bias=False)\n",
              "        (1): BatchNorm2d(512, eps=1e-05, momentum=0.1, affine=True, track_running_stats=True)\n",
              "      )\n",
              "    )\n",
              "    (1): ResBlock(\n",
              "      (conv1): Conv2d(512, 512, kernel_size=(3, 3), stride=(1, 1), padding=(1, 1), bias=False)\n",
              "      (bn1): BatchNorm2d(512, eps=1e-05, momentum=0.1, affine=True, track_running_stats=True)\n",
              "      (relu1): ReLU()\n",
              "      (conv2): Conv2d(512, 512, kernel_size=(3, 3), stride=(1, 1), padding=(1, 1), bias=False)\n",
              "      (bn2): BatchNorm2d(512, eps=1e-05, momentum=0.1, affine=True, track_running_stats=True)\n",
              "      (relu2): ReLU()\n",
              "    )\n",
              "    (2): ResBlock(\n",
              "      (conv1): Conv2d(512, 512, kernel_size=(3, 3), stride=(1, 1), padding=(1, 1), bias=False)\n",
              "      (bn1): BatchNorm2d(512, eps=1e-05, momentum=0.1, affine=True, track_running_stats=True)\n",
              "      (relu1): ReLU()\n",
              "      (conv2): Conv2d(512, 512, kernel_size=(3, 3), stride=(1, 1), padding=(1, 1), bias=False)\n",
              "      (bn2): BatchNorm2d(512, eps=1e-05, momentum=0.1, affine=True, track_running_stats=True)\n",
              "      (relu2): ReLU()\n",
              "    )\n",
              "  )\n",
              "  (avgpool): AdaptiveAvgPool2d(output_size=(1, 1))\n",
              "  (cls_layer): Linear(in_features=512, out_features=2, bias=True)\n",
              ")"
            ]
          },
          "metadata": {},
          "execution_count": 85
        }
      ]
    },
    {
      "cell_type": "code",
      "source": [
        "device = 'cuda' if torch.cuda.is_available() else 'cpu'\n",
        "print(\"Device: \", device)"
      ],
      "metadata": {
        "colab": {
          "base_uri": "https://localhost:8080/"
        },
        "id": "TaHNaowxOglL",
        "outputId": "3fd7858d-cf02-4004-b323-6ecf9b1f031d"
      },
      "execution_count": null,
      "outputs": [
        {
          "output_type": "stream",
          "name": "stdout",
          "text": [
            "Device:  cuda\n"
          ]
        }
      ]
    },
    {
      "cell_type": "code",
      "source": [
        "#my model\n",
        "from torch.nn.modules.flatten import Flatten\n",
        "from torch.nn.modules.pooling import AdaptiveAvgPool2d\n",
        "from torch.nn.modules.activation import ReLU\n",
        "class Network(torch.nn.Module):\n",
        "    \"\"\"\n",
        "    The Very Low early deadline architecture is a 4-layer CNN.\n",
        "\n",
        "    The first Conv layer has 64 channels, kernel size 7, and stride 4.\n",
        "    The next three have 128, 256, and 512 channels. Each have kernel size 3 and stride 2.\n",
        "    \n",
        "    Think about strided convolutions from the lecture, as convolutioin with stride= 1 and downsampling.\n",
        "    For stride 1 convolution, what padding do you need for preserving the spatial resolution? \n",
        "    (Hint => padding = kernel_size // 2) - Why?)\n",
        "\n",
        "    Each Conv layer is accompanied by a Batchnorm and ReLU layer.\n",
        "    Finally, you want to average pool over the spatial dimensions to reduce them to 1 x 1. Use AdaptiveAvgPool2d.\n",
        "    Then, remove (Flatten?) these trivial 1x1 dimensions away.\n",
        "    Look through https://pytorch.org/docs/stable/nn.html \n",
        "    \n",
        "    TODO: Fill out the model definition below! \n",
        "\n",
        "    Why does a very simple network have 4 convolutions?\n",
        "    Input images are 224x224. Note that each of these convolutions downsample.\n",
        "    Downsampling 2x effectively doubles the receptive field, increasing the spatial\n",
        "    region each pixel extracts features from. Downsampling 32x is standard\n",
        "    for most image models.\n",
        "\n",
        "    Why does a very simple network have high channel sizes?\n",
        "    Every time you downsample 2x, you do 4x less computation (at same channel size).\n",
        "    To maintain the same level of computation, you 2x increase # of channels, which \n",
        "    increases computation by 4x. So, balances out to same computation.\n",
        "    Another intuition is - as you downsample, you lose spatial information. We want\n",
        "    to preserve some of it in the channel dimension.\n",
        "    \"\"\"\n",
        "\n",
        "    # def mobilenet_block(x,filters,strides):\n",
        "    #     x=torch.nn.Conv2d(in_channels=)\n",
        "      \n",
        "\n",
        "    def __init__(self, num_classes=116):\n",
        "        super().__init__()\n",
        "\n",
        "        self.backbone = torch.nn.Sequential(\n",
        " \n",
        "\n",
        "            torch.nn.Conv2d(in_channels=3,out_channels=64,kernel_size=3,stride=2,padding=1),\n",
        "            torch.nn.BatchNorm2d(64),\n",
        "            torch.nn.GELU(),\n",
        "\n",
        "            torch.nn.Conv2d(in_channels=64,out_channels=130,kernel_size=3,stride=2,padding=1),\n",
        "            torch.nn.BatchNorm2d(130),\n",
        "            torch.nn.GELU(),\n",
        "\n",
        "            torch.nn.Conv2d(in_channels=130,out_channels=260,kernel_size=3,stride=2,padding=1),\n",
        "            torch.nn.BatchNorm2d(260),\n",
        "            torch.nn.GELU(),\n",
        "\n",
        "            torch.nn.Conv2d(in_channels=260,out_channels=600,kernel_size=3,stride=2),\n",
        "            torch.nn.BatchNorm2d(600),\n",
        "            torch.nn.GELU(),\n",
        "\n",
        "            torch.nn.Conv2d(in_channels=600,out_channels=1000,kernel_size=3,stride=2),\n",
        "            torch.nn.BatchNorm2d(1000),\n",
        "            torch.nn.GELU(),\n",
        "\n",
        "            torch.nn.Conv2d(in_channels=1000,out_channels=2050,kernel_size=3,stride=2),\n",
        "            torch.nn.BatchNorm2d(2050),\n",
        "            torch.nn.GELU(),\n",
        "\n",
        "            torch.nn.Conv2d(in_channels=2050,out_channels=4000,kernel_size=2,stride=2),\n",
        "            torch.nn.BatchNorm2d(4000),\n",
        "            torch.nn.GELU(),\n",
        "\n",
        "\n",
        "            torch.nn.AdaptiveAvgPool2d((1,1)),\n",
        "            torch.nn.Flatten()\n",
        "            ) \n",
        "        \n",
        "        self.cls_layer = torch.nn.Linear(in_features=4000,out_features=num_classes)\n",
        "    \n",
        "    def forward(self, x, return_feats=False):\n",
        "        \"\"\"\n",
        "        What is return_feats? It essentially returns the second-to-last-layer\n",
        "        features of a given image. It's a \"feature encoding\" of the input image,\n",
        "        and you can use it for the verification task. You would use the outputs\n",
        "        of the final classification layer for the classification task.\n",
        "\n",
        "        You might also find that the classification outputs are sometimes better\n",
        "        for verification too - try both.\n",
        "        \"\"\"\n",
        "        feats = self.backbone(x)\n",
        "        out = self.cls_layer(feats)\n",
        "\n",
        "        if return_feats:\n",
        "            return feats\n",
        "        else:\n",
        "            return out\n",
        "            \n",
        "\n",
        "#summary(model, (3, 200, 200))\n",
        "model=Network_AGE(ResBlock)\n",
        "model.cuda()\n"
      ],
      "metadata": {
        "id": "SVg61NFcOgiq",
        "colab": {
          "base_uri": "https://localhost:8080/"
        },
        "outputId": "aa836885-1c1e-4ebe-e58e-d040ea880b13"
      },
      "execution_count": null,
      "outputs": [
        {
          "output_type": "execute_result",
          "data": {
            "text/plain": [
              "Network_AGE(\n",
              "  (conv1): Conv2d(3, 64, kernel_size=(7, 7), stride=(2, 2), padding=(3, 3), bias=False)\n",
              "  (bn1): BatchNorm2d(64, eps=1e-05, momentum=0.1, affine=True, track_running_stats=True)\n",
              "  (relu): ReLU()\n",
              "  (maxpool): MaxPool2d(kernel_size=3, stride=2, padding=1, dilation=1, ceil_mode=False)\n",
              "  (layer1): Sequential(\n",
              "    (0): ResBlock(\n",
              "      (conv1): Conv2d(64, 64, kernel_size=(3, 3), stride=(1, 1), padding=(1, 1), bias=False)\n",
              "      (bn1): BatchNorm2d(64, eps=1e-05, momentum=0.1, affine=True, track_running_stats=True)\n",
              "      (relu1): ReLU()\n",
              "      (conv2): Conv2d(64, 64, kernel_size=(3, 3), stride=(1, 1), padding=(1, 1), bias=False)\n",
              "      (bn2): BatchNorm2d(64, eps=1e-05, momentum=0.1, affine=True, track_running_stats=True)\n",
              "      (relu2): ReLU()\n",
              "    )\n",
              "    (1): ResBlock(\n",
              "      (conv1): Conv2d(64, 64, kernel_size=(3, 3), stride=(1, 1), padding=(1, 1), bias=False)\n",
              "      (bn1): BatchNorm2d(64, eps=1e-05, momentum=0.1, affine=True, track_running_stats=True)\n",
              "      (relu1): ReLU()\n",
              "      (conv2): Conv2d(64, 64, kernel_size=(3, 3), stride=(1, 1), padding=(1, 1), bias=False)\n",
              "      (bn2): BatchNorm2d(64, eps=1e-05, momentum=0.1, affine=True, track_running_stats=True)\n",
              "      (relu2): ReLU()\n",
              "    )\n",
              "    (2): ResBlock(\n",
              "      (conv1): Conv2d(64, 64, kernel_size=(3, 3), stride=(1, 1), padding=(1, 1), bias=False)\n",
              "      (bn1): BatchNorm2d(64, eps=1e-05, momentum=0.1, affine=True, track_running_stats=True)\n",
              "      (relu1): ReLU()\n",
              "      (conv2): Conv2d(64, 64, kernel_size=(3, 3), stride=(1, 1), padding=(1, 1), bias=False)\n",
              "      (bn2): BatchNorm2d(64, eps=1e-05, momentum=0.1, affine=True, track_running_stats=True)\n",
              "      (relu2): ReLU()\n",
              "    )\n",
              "  )\n",
              "  (layer2): Sequential(\n",
              "    (0): ResBlock(\n",
              "      (conv1): Conv2d(64, 128, kernel_size=(3, 3), stride=(2, 2), padding=(1, 1), bias=False)\n",
              "      (bn1): BatchNorm2d(128, eps=1e-05, momentum=0.1, affine=True, track_running_stats=True)\n",
              "      (relu1): ReLU()\n",
              "      (conv2): Conv2d(128, 128, kernel_size=(3, 3), stride=(1, 1), padding=(1, 1), bias=False)\n",
              "      (bn2): BatchNorm2d(128, eps=1e-05, momentum=0.1, affine=True, track_running_stats=True)\n",
              "      (relu2): ReLU()\n",
              "      (downsample): Sequential(\n",
              "        (0): Conv2d(64, 128, kernel_size=(1, 1), stride=(2, 2), bias=False)\n",
              "        (1): BatchNorm2d(128, eps=1e-05, momentum=0.1, affine=True, track_running_stats=True)\n",
              "      )\n",
              "    )\n",
              "    (1): ResBlock(\n",
              "      (conv1): Conv2d(128, 128, kernel_size=(3, 3), stride=(1, 1), padding=(1, 1), bias=False)\n",
              "      (bn1): BatchNorm2d(128, eps=1e-05, momentum=0.1, affine=True, track_running_stats=True)\n",
              "      (relu1): ReLU()\n",
              "      (conv2): Conv2d(128, 128, kernel_size=(3, 3), stride=(1, 1), padding=(1, 1), bias=False)\n",
              "      (bn2): BatchNorm2d(128, eps=1e-05, momentum=0.1, affine=True, track_running_stats=True)\n",
              "      (relu2): ReLU()\n",
              "    )\n",
              "    (2): ResBlock(\n",
              "      (conv1): Conv2d(128, 128, kernel_size=(3, 3), stride=(1, 1), padding=(1, 1), bias=False)\n",
              "      (bn1): BatchNorm2d(128, eps=1e-05, momentum=0.1, affine=True, track_running_stats=True)\n",
              "      (relu1): ReLU()\n",
              "      (conv2): Conv2d(128, 128, kernel_size=(3, 3), stride=(1, 1), padding=(1, 1), bias=False)\n",
              "      (bn2): BatchNorm2d(128, eps=1e-05, momentum=0.1, affine=True, track_running_stats=True)\n",
              "      (relu2): ReLU()\n",
              "    )\n",
              "    (3): ResBlock(\n",
              "      (conv1): Conv2d(128, 128, kernel_size=(3, 3), stride=(1, 1), padding=(1, 1), bias=False)\n",
              "      (bn1): BatchNorm2d(128, eps=1e-05, momentum=0.1, affine=True, track_running_stats=True)\n",
              "      (relu1): ReLU()\n",
              "      (conv2): Conv2d(128, 128, kernel_size=(3, 3), stride=(1, 1), padding=(1, 1), bias=False)\n",
              "      (bn2): BatchNorm2d(128, eps=1e-05, momentum=0.1, affine=True, track_running_stats=True)\n",
              "      (relu2): ReLU()\n",
              "    )\n",
              "  )\n",
              "  (layer3): Sequential(\n",
              "    (0): ResBlock(\n",
              "      (conv1): Conv2d(128, 256, kernel_size=(3, 3), stride=(2, 2), padding=(1, 1), bias=False)\n",
              "      (bn1): BatchNorm2d(256, eps=1e-05, momentum=0.1, affine=True, track_running_stats=True)\n",
              "      (relu1): ReLU()\n",
              "      (conv2): Conv2d(256, 256, kernel_size=(3, 3), stride=(1, 1), padding=(1, 1), bias=False)\n",
              "      (bn2): BatchNorm2d(256, eps=1e-05, momentum=0.1, affine=True, track_running_stats=True)\n",
              "      (relu2): ReLU()\n",
              "      (downsample): Sequential(\n",
              "        (0): Conv2d(128, 256, kernel_size=(1, 1), stride=(2, 2), bias=False)\n",
              "        (1): BatchNorm2d(256, eps=1e-05, momentum=0.1, affine=True, track_running_stats=True)\n",
              "      )\n",
              "    )\n",
              "    (1): ResBlock(\n",
              "      (conv1): Conv2d(256, 256, kernel_size=(3, 3), stride=(1, 1), padding=(1, 1), bias=False)\n",
              "      (bn1): BatchNorm2d(256, eps=1e-05, momentum=0.1, affine=True, track_running_stats=True)\n",
              "      (relu1): ReLU()\n",
              "      (conv2): Conv2d(256, 256, kernel_size=(3, 3), stride=(1, 1), padding=(1, 1), bias=False)\n",
              "      (bn2): BatchNorm2d(256, eps=1e-05, momentum=0.1, affine=True, track_running_stats=True)\n",
              "      (relu2): ReLU()\n",
              "    )\n",
              "    (2): ResBlock(\n",
              "      (conv1): Conv2d(256, 256, kernel_size=(3, 3), stride=(1, 1), padding=(1, 1), bias=False)\n",
              "      (bn1): BatchNorm2d(256, eps=1e-05, momentum=0.1, affine=True, track_running_stats=True)\n",
              "      (relu1): ReLU()\n",
              "      (conv2): Conv2d(256, 256, kernel_size=(3, 3), stride=(1, 1), padding=(1, 1), bias=False)\n",
              "      (bn2): BatchNorm2d(256, eps=1e-05, momentum=0.1, affine=True, track_running_stats=True)\n",
              "      (relu2): ReLU()\n",
              "    )\n",
              "    (3): ResBlock(\n",
              "      (conv1): Conv2d(256, 256, kernel_size=(3, 3), stride=(1, 1), padding=(1, 1), bias=False)\n",
              "      (bn1): BatchNorm2d(256, eps=1e-05, momentum=0.1, affine=True, track_running_stats=True)\n",
              "      (relu1): ReLU()\n",
              "      (conv2): Conv2d(256, 256, kernel_size=(3, 3), stride=(1, 1), padding=(1, 1), bias=False)\n",
              "      (bn2): BatchNorm2d(256, eps=1e-05, momentum=0.1, affine=True, track_running_stats=True)\n",
              "      (relu2): ReLU()\n",
              "    )\n",
              "    (4): ResBlock(\n",
              "      (conv1): Conv2d(256, 256, kernel_size=(3, 3), stride=(1, 1), padding=(1, 1), bias=False)\n",
              "      (bn1): BatchNorm2d(256, eps=1e-05, momentum=0.1, affine=True, track_running_stats=True)\n",
              "      (relu1): ReLU()\n",
              "      (conv2): Conv2d(256, 256, kernel_size=(3, 3), stride=(1, 1), padding=(1, 1), bias=False)\n",
              "      (bn2): BatchNorm2d(256, eps=1e-05, momentum=0.1, affine=True, track_running_stats=True)\n",
              "      (relu2): ReLU()\n",
              "    )\n",
              "    (5): ResBlock(\n",
              "      (conv1): Conv2d(256, 256, kernel_size=(3, 3), stride=(1, 1), padding=(1, 1), bias=False)\n",
              "      (bn1): BatchNorm2d(256, eps=1e-05, momentum=0.1, affine=True, track_running_stats=True)\n",
              "      (relu1): ReLU()\n",
              "      (conv2): Conv2d(256, 256, kernel_size=(3, 3), stride=(1, 1), padding=(1, 1), bias=False)\n",
              "      (bn2): BatchNorm2d(256, eps=1e-05, momentum=0.1, affine=True, track_running_stats=True)\n",
              "      (relu2): ReLU()\n",
              "    )\n",
              "  )\n",
              "  (layer4): Sequential(\n",
              "    (0): ResBlock(\n",
              "      (conv1): Conv2d(256, 512, kernel_size=(3, 3), stride=(2, 2), padding=(1, 1), bias=False)\n",
              "      (bn1): BatchNorm2d(512, eps=1e-05, momentum=0.1, affine=True, track_running_stats=True)\n",
              "      (relu1): ReLU()\n",
              "      (conv2): Conv2d(512, 512, kernel_size=(3, 3), stride=(1, 1), padding=(1, 1), bias=False)\n",
              "      (bn2): BatchNorm2d(512, eps=1e-05, momentum=0.1, affine=True, track_running_stats=True)\n",
              "      (relu2): ReLU()\n",
              "      (downsample): Sequential(\n",
              "        (0): Conv2d(256, 512, kernel_size=(1, 1), stride=(2, 2), bias=False)\n",
              "        (1): BatchNorm2d(512, eps=1e-05, momentum=0.1, affine=True, track_running_stats=True)\n",
              "      )\n",
              "    )\n",
              "    (1): ResBlock(\n",
              "      (conv1): Conv2d(512, 512, kernel_size=(3, 3), stride=(1, 1), padding=(1, 1), bias=False)\n",
              "      (bn1): BatchNorm2d(512, eps=1e-05, momentum=0.1, affine=True, track_running_stats=True)\n",
              "      (relu1): ReLU()\n",
              "      (conv2): Conv2d(512, 512, kernel_size=(3, 3), stride=(1, 1), padding=(1, 1), bias=False)\n",
              "      (bn2): BatchNorm2d(512, eps=1e-05, momentum=0.1, affine=True, track_running_stats=True)\n",
              "      (relu2): ReLU()\n",
              "    )\n",
              "    (2): ResBlock(\n",
              "      (conv1): Conv2d(512, 512, kernel_size=(3, 3), stride=(1, 1), padding=(1, 1), bias=False)\n",
              "      (bn1): BatchNorm2d(512, eps=1e-05, momentum=0.1, affine=True, track_running_stats=True)\n",
              "      (relu1): ReLU()\n",
              "      (conv2): Conv2d(512, 512, kernel_size=(3, 3), stride=(1, 1), padding=(1, 1), bias=False)\n",
              "      (bn2): BatchNorm2d(512, eps=1e-05, momentum=0.1, affine=True, track_running_stats=True)\n",
              "      (relu2): ReLU()\n",
              "    )\n",
              "  )\n",
              "  (avgpool): AdaptiveAvgPool2d(output_size=(1, 1))\n",
              "  (linear1): Linear(in_features=512, out_features=512, bias=True)\n",
              "  (batch1): BatchNorm1d(512, eps=1e-05, momentum=0.1, affine=True, track_running_stats=True)\n",
              "  (gelu1): GELU(approximate='none')\n",
              "  (linear2): Linear(in_features=512, out_features=512, bias=True)\n",
              "  (batch2): BatchNorm1d(512, eps=1e-05, momentum=0.1, affine=True, track_running_stats=True)\n",
              "  (gelu2): GELU(approximate='none')\n",
              "  (linear3): Linear(in_features=512, out_features=512, bias=True)\n",
              "  (batch3): BatchNorm1d(512, eps=1e-05, momentum=0.1, affine=True, track_running_stats=True)\n",
              "  (gelu3): GELU(approximate='none')\n",
              "  (cls_layer): Linear(in_features=512, out_features=116, bias=True)\n",
              ")"
            ]
          },
          "metadata": {},
          "execution_count": 105
        }
      ]
    },
    {
      "cell_type": "code",
      "source": [
        "#criterion_age = torch.nn.CrossEntropyLoss(label_smoothing=0.5)\n",
        "criterion_age = torch.nn.CrossEntropyLoss()\n",
        "criterion_gender=torch.nn.MSELoss()\n",
        "#criterion=torch.nn.TripletMarginLoss()\n",
        "\n",
        "# TODO: What loss do you need for a multi class classification problem?\n",
        "optimizer_age = torch.optim.SGD(model.parameters(), lr=config['lr'], momentum=0.9, weight_decay=1e-4)\n",
        "#optimizer_age = torch.optim.SGD(model_age.parameters(), lr=config['lr'], momentum=0.9, weight_decay=1e-4)\n",
        "optimizer_gender = torch.optim.SGD(model_gender.parameters(), lr=config['lr'], momentum=0.9, weight_decay=1e-4)\n",
        "\n",
        "#scheduler=torch.optim.lr_scheduler.ReduceLROnPlateau(optimizer,mode='max',factor=0.6,patience=2,threshold=0.01,cooldown=0,eps=0.000000001)\n",
        "scheduler_age=torch.optim.lr_scheduler.ReduceLROnPlateau(optimizer_age, mode='max', factor=0.2, patience=3, threshold=0.0001)\n",
        "scheduler_gender=torch.optim.lr_scheduler.ReduceLROnPlateau(optimizer_age, mode='max', factor=0.2, patience=3, threshold=0.0001)\n",
        "# You can try ReduceLRonPlateau, StepLR, MultistepLR, CosineAnnealing, etc.\n",
        "scaler = torch.cuda.amp.GradScaler() # Good news. We have FP16 (Mixed precision training) implemented for you\n",
        "# It is useful only in the case of compatible GPUs such as T4/V100"
      ],
      "metadata": {
        "id": "PC5zAO19aujS"
      },
      "execution_count": null,
      "outputs": []
    },
    {
      "cell_type": "code",
      "source": [
        "import torch\n",
        "from torchsummary import summary\n",
        "import torchvision #This library is used for image-based operations (Augmentations)\n",
        "import os\n",
        "import gc\n",
        "from tqdm import tqdm\n",
        "from PIL import Image\n",
        "import numpy as np\n",
        "import pandas as pd\n",
        "from sklearn.metrics import accuracy_score\n",
        "import glob\n",
        "#import wandb\n",
        "device = 'cuda' if torch.cuda.is_available() else 'cpu'\n",
        "print(\"Device: \", device)\n",
        "\n",
        "#import torchvision.transforms as ttf"
      ],
      "metadata": {
        "colab": {
          "base_uri": "https://localhost:8080/"
        },
        "id": "Zx8fzMOpblMM",
        "outputId": "d0b55e0c-1e76-4fb9-b5b2-57f83ac37a70"
      },
      "execution_count": null,
      "outputs": [
        {
          "output_type": "stream",
          "name": "stdout",
          "text": [
            "Device:  cuda\n"
          ]
        }
      ]
    },
    {
      "cell_type": "code",
      "source": [
        "def train_age(model, dataloader, optimizer, criterion):\n",
        "    \n",
        "    model.train()\n",
        "\n",
        "    # Progress Bar \n",
        "    batch_bar = tqdm(total=len(dataloader), dynamic_ncols=True, leave=False, position=0, desc='Train', ncols=5) \n",
        "    \n",
        "    num_correct = 0\n",
        "    total_loss = 0.\n",
        "\n",
        "    for i, (images, labels,another_label,fileName) in enumerate(dataloader):\n",
        "        \n",
        "        optimizer.zero_grad() # Zero gradients\n",
        "\n",
        "       # images, labels = images.to(device).type(torch.Tensor), labels.to(device).type(torch.Tensor)\n",
        "        #labels =labels.type(torch.LongTensor)   # casting to long\n",
        "        images, labels = images.to(device), labels.to(device)\n",
        "\n",
        "        #targets.type(torch.LongTensor)\n",
        "        \n",
        "        with torch.cuda.amp.autocast(): # This implements mixed precision. Thats it! \n",
        "            outputs = model(images)\n",
        "            loss = criterion(outputs, labels)\n",
        "\n",
        "        # Update no. of correct predictions & loss as we iterate\n",
        "        # num_correct += int((torch.argmax(outputs, axis=1) == labels).sum())\n",
        "\n",
        "        num_correct += int((torch.argmax(outputs, axis=1) == labels).sum())\n",
        "\n",
        "\n",
        "        total_loss += float(loss.item())\n",
        "        #total_loss += loss.item()\n",
        "\n",
        "        # tqdm lets you add some details so you can monitor training as you train.\n",
        "        batch_bar.set_postfix(\n",
        "            acc=\"{:.04f}%\".format(100 * num_correct / (config['batch_size']*(i + 1))),\n",
        "            loss=\"{:.04f}\".format(float(total_loss / (i + 1))),\n",
        "            num_correct=num_correct,\n",
        "            lr=\"{:.04f}\".format(float(optimizer.param_groups[0]['lr'])))\n",
        "        \n",
        "        scaler.scale(loss).backward() # This is a replacement for loss.backward()\n",
        "        scaler.step(optimizer) # This is a replacement for optimizer.step()\n",
        "        scaler.update() \n",
        "        # loss.backward()\n",
        "        # optimizer.step()\n",
        "\n",
        "        # TODO? Depending on your choice of scheduler,\n",
        "        # You may want to call some schdulers inside the train function. What are these?\n",
        "      \n",
        "        batch_bar.update() # Update tqdm bar\n",
        "\n",
        "    batch_bar.close() # You need this to close the tqdm bar\n",
        "\n",
        "    acc = 100 * num_correct / (config['batch_size']* len(dataloader))\n",
        "    total_loss = float(total_loss / len(dataloader))\n",
        "\n",
        "    return acc, total_loss"
      ],
      "metadata": {
        "id": "0zUk9WLDbcki"
      },
      "execution_count": null,
      "outputs": []
    },
    {
      "cell_type": "code",
      "source": [
        "def train_gender(model, dataloader, optimizer, criterion):\n",
        "    \n",
        "    model.train()\n",
        "\n",
        "    # Progress Bar \n",
        "    batch_bar = tqdm(total=len(dataloader), dynamic_ncols=True, leave=False, position=0, desc='Train', ncols=5) \n",
        "    \n",
        "    num_correct = 0\n",
        "    total_loss = 0\n",
        "\n",
        "    for i, (images, another_label,labels,fileName) in enumerate(dataloader):\n",
        "        \n",
        "        optimizer.zero_grad() # Zero gradients\n",
        "\n",
        "        #labels =labels.type(torch.LongTensor)   # casting to long\n",
        "        images, labels = images.to(device), labels.to(device)\n",
        "        \n",
        "        with torch.cuda.amp.autocast(): # This implements mixed precision. Thats it! \n",
        "            outputs = model(images)\n",
        "            loss = criterion(outputs, labels)\n",
        "\n",
        "        # Update no. of correct predictions & loss as we iterate\n",
        "        num_correct += int((torch.argmax(outputs, axis=1) == labels).sum())\n",
        "        total_loss += float(loss.item())\n",
        "\n",
        "        # tqdm lets you add some details so you can monitor training as you train.\n",
        "        batch_bar.set_postfix(\n",
        "            acc=\"{:.04f}%\".format(100 * num_correct / (config['batch_size']*(i + 1))),\n",
        "            loss=\"{:.04f}\".format(float(total_loss / (i + 1))),\n",
        "            num_correct=num_correct,\n",
        "            lr=\"{:.04f}\".format(float(optimizer.param_groups[0]['lr'])))\n",
        "        \n",
        "        # scaler.scale(loss).backward() # This is a replacement for loss.backward()\n",
        "        # scaler.step(optimizer) # This is a replacement for optimizer.step()\n",
        "        # scaler.update() \n",
        "        loss.backward()\n",
        "        optimizer.step()\n",
        "\n",
        "        # TODO? Depending on your choice of scheduler,\n",
        "        # You may want to call some schdulers inside the train function. What are these?\n",
        "      \n",
        "        batch_bar.update() # Update tqdm bar\n",
        "\n",
        "    batch_bar.close() # You need this to close the tqdm bar\n",
        "\n",
        "    acc = 100 * num_correct / (config['batch_size']* len(dataloader))\n",
        "    total_loss = float(total_loss / len(dataloader))\n",
        "\n",
        "    return acc, total_loss"
      ],
      "metadata": {
        "id": "nL72R5cUfxpt"
      },
      "execution_count": null,
      "outputs": []
    },
    {
      "cell_type": "code",
      "source": [
        "rangerange=0\n",
        "# note"
      ],
      "metadata": {
        "id": "B0_Nq7WNj8-t"
      },
      "execution_count": null,
      "outputs": []
    },
    {
      "cell_type": "code",
      "source": [
        "def calculateEval(index, outputs, labels, rangerange):\n",
        "\n",
        "    # bool_1=(torch.argmax(outputs, axis=1) >= labels-rangerange) and (torch.argmax(outputs, axis=1) <= labels+rangerange) and labels >= index - rangerange and labels <= index + rangerange\n",
        "    # bool_2=(torch.argmax(outputs, axis=1) >= labels-rangerange) and (torch.argmax(outputs, axis=1) <= labels+rangerange) and labels < index - rangerange and labels > index + rangerange\n",
        "    # bool_3=(torch.argmax(outputs, axis=1) >= labels-rangerange-5) and (torch.argmax(outputs, axis=1) <= labels+rangerange+5) and (labels < index - rangerange and labels > index + rangerange)\n",
        "    # bool_4=(torch.argmax(outputs, axis=1) >= labels-rangerange-5) and (torch.argmax(outputs, axis=1) <= labels+rangerange+5) and (labels < index - rangerange and labels > index + rangerange)\n",
        "\n",
        "    # bool_1=torch.logical_and((torch.argmax(outputs, axis=1) == labels), (labels == index))\n",
        "    # bool_2=torch.logical_and((torch.argmax(outputs, axis=1) != labels), (labels != index))\n",
        "    # bool_3=torch.logical_and((torch.argmax(outputs, axis=1) == labels), (labels != index))\n",
        "    # bool_4=torch.logical_and((torch.argmax(outputs, axis=1) != labels), (labels == index))\n",
        "\n",
        "    bool_1=torch.logical_and((torch.argmax(outputs, axis=1) == index), (labels == index))\n",
        "    bool_2=torch.logical_and((torch.argmax(outputs, axis=1) != index), (labels != index))\n",
        "    bool_3=torch.logical_and((torch.argmax(outputs, axis=1) == index), (labels != index))\n",
        "    bool_4=torch.logical_and((torch.argmax(outputs, axis=1) != index), (labels == index))\n",
        "\n",
        "\n",
        "    tp = int((bool_1==True).sum())\n",
        "    tn = int((bool_2==True).sum())\n",
        "    fp = int((bool_3==True).sum())\n",
        "    fn = int((bool_4==True).sum())\n",
        "\n",
        "\n",
        "    return tp, tn, fp, fn\n"
      ],
      "metadata": {
        "id": "wB3R9elOljPJ"
      },
      "execution_count": null,
      "outputs": []
    },
    {
      "cell_type": "code",
      "source": [
        "import math\n",
        "def validate_age(model, dataloader, criterion):\n",
        "    model.eval()\n",
        "    batch_bar = tqdm(total=len(dataloader), dynamic_ncols=True, position=0, leave=False, desc='Val', ncols=5)\n",
        "\n",
        "    num_correct_1=0.0\n",
        "    num_correct_2=0.0\n",
        "    num_correct_3=0.0\n",
        "\n",
        "    num_correct_11=0.0\n",
        "    num_correct_21=0.0\n",
        "    num_correct_31=0.0\n",
        "\n",
        "    num_correct_12=0.0\n",
        "    num_correct_22=0.0\n",
        "    num_correct_32=0.0\n",
        "\n",
        "    num_correct_13=0.0\n",
        "    num_correct_23=0.0\n",
        "    num_correct_33=0.0\n",
        "\n",
        "    num_correct = 0.0\n",
        "    num_correct1 = 0.0\n",
        "    num_correct2 = 0.0\n",
        "    num_correct3 = 0.0\n",
        "    total_loss = 0.0\n",
        "\n",
        "\n",
        "    tps = [0]*79\n",
        "    tns = [0]*79\n",
        "    fps = [0]*79\n",
        "    fns = [0]*79\n",
        "\n",
        "    for i, (images, labels,another_label,fileName) in enumerate(dataloader):\n",
        "        #labels =labels.type(torch.LongTensor)   # casting to long\n",
        "        # Move images to device\n",
        "        images, labels = images.to(device), labels.to(device)\n",
        "        \n",
        "        # Get model outputs\n",
        "        with torch.inference_mode():\n",
        "        #with torch.no_grad():\n",
        "            outputs = model(images)\n",
        "            loss = criterion(outputs, labels)\n",
        "\n",
        "\n",
        "\n",
        "        # for i in range(79):\n",
        "        #   tp, tn, fp, fn = calculateEval(i, outputs, labels, 0)\n",
        "        #   tps[i] += tp\n",
        "        #   tns[i] += tn\n",
        "        #   fps[i] += fp\n",
        "        #   fns[i] += fn\n",
        "\n",
        "        #num_correct += int((torch.argmax(outputs, axis=1) == labels).sum())\n",
        "\n",
        "        bool_1=(torch.argmax(outputs, axis=1) >= labels-rangerange)\n",
        "        bool_2=(torch.argmax(outputs, axis=1) <= labels+rangerange)\n",
        "        bool_3=bool_1+bool_2\n",
        "\n",
        "        #num_correct += int(((bool_1 and bool_2)==True).sum())\n",
        "        #num_correct += int(((bool_1+bool_2) == True).sum())\n",
        "        #num_correct += int((bool_3==True).sum())\n",
        "\n",
        "        \n",
        "        num_correct_1+= int((bool_1==True).sum())\n",
        "        num_correct_2+= int((bool_2==True).sum())\n",
        "        num_correct_3+= int((bool_3==True).sum())\n",
        "        \n",
        "        num_correct   = (num_correct_1+num_correct_2-num_correct_3)\n",
        "        #num_correct  += int((bool_3==True).sum())\n",
        "\n",
        "        bool_1=(torch.argmax(outputs, axis=1) >= labels-rangerange - 5)\n",
        "        bool_2=(torch.argmax(outputs, axis=1) <= labels+rangerange + 5)\n",
        "        bool_3=bool_1+bool_2\n",
        "\n",
        "        #num_correct += int(((bool_1 and bool_2)==True).sum())\n",
        "        #num_correct += int(((bool_1+bool_2) == True).sum())\n",
        "        #num_correct += int((bool_3==True).sum())\n",
        "        \n",
        "        num_correct_11+= int((bool_1==True).sum())\n",
        "        num_correct_21+= int((bool_2==True).sum())\n",
        "        num_correct_31+= int((bool_3==True).sum())\n",
        "        \n",
        "        num_correct1   = (num_correct_11+num_correct_21-num_correct_31)\n",
        "\n",
        "        bool_1=(torch.argmax(outputs, axis=1) >= labels-rangerange - 10)\n",
        "        bool_2=(torch.argmax(outputs, axis=1) <= labels+rangerange + 10)\n",
        "        bool_3=bool_1+bool_2\n",
        "\n",
        "        #num_correct += int(((bool_1 and bool_2)==True).sum())\n",
        "        #num_correct += int(((bool_1+bool_2) == True).sum())\n",
        "        #num_correct += int((bool_3==True).sum())\n",
        "        \n",
        "        num_correct_12+= int((bool_1==True).sum())\n",
        "        num_correct_22+= int((bool_2==True).sum())\n",
        "        num_correct_32+= int((bool_3==True).sum())\n",
        "        \n",
        "        num_correct2   = (num_correct_12+num_correct_22-num_correct_32)\n",
        "\n",
        "\n",
        "        bool_1=(torch.argmax(outputs, axis=1) >= labels-rangerange - 15)\n",
        "        bool_2=(torch.argmax(outputs, axis=1) <= labels+rangerange + 15)\n",
        "        bool_3=bool_1+bool_2\n",
        "\n",
        "        #num_correct += int(((bool_1 and bool_2)==True).sum())\n",
        "        #num_correct += int(((bool_1+bool_2) == True).sum())\n",
        "        #num_correct += int((bool_3==True).sum())\n",
        "        \n",
        "        num_correct_13+= int((bool_1==True).sum())\n",
        "        num_correct_23+= int((bool_2==True).sum())\n",
        "        num_correct_33+= int((bool_3==True).sum())\n",
        "        \n",
        "        num_correct3   = (num_correct_13+num_correct_23-num_correct_33)\n",
        "\n",
        "        # num_correct += int((torch.argmax(outputs, axis=1) == labels).sum())\n",
        "        # if (torch.argmax(outputs,axis=1)>=labels-5 and torch.argmax(outputs,axis=1)<=labels+5):\n",
        "        #   num_correct=num_correct+1\n",
        "        # print(labels)\n",
        "        # print(bool_1+bool_2)\n",
        "\n",
        "        total_loss += float(loss.item())\n",
        "\n",
        "        batch_bar.set_postfix(\n",
        "            acc=\"{:.04f}%\".format(100 * num_correct / (config['batch_size']*(i + 1))),\n",
        "            loss=\"{:.04f}\".format(float(total_loss / (i + 1))),\n",
        "            num_correct=num_correct)\n",
        "\n",
        "        batch_bar.update()\n",
        "\n",
        "\n",
        "    # print(\"tps:\")\n",
        "    # print(tps)\n",
        "    # print(\"fps:\")\n",
        "    # print(fps)\n",
        "    # print(\"tns:\")\n",
        "    # print(tns)\n",
        "    # print(\"fns:\")\n",
        "    # print(fns)\n",
        "    # # print(tps + fps + tns + fns)\n",
        "\n",
        "\n",
        "    # percisions = np.array(tps)/(np.array(tps) + np.array(fps) + 1)\n",
        "    # print(\"Percisions:\")\n",
        "    # print(percisions)\n",
        "\n",
        "    # recalls = np.array(tps)/(np.array(tps) + np.array(fns) + 1)\n",
        "    # print(\"Recalls:\")\n",
        "    # print(recalls)\n",
        "\n",
        "    # f1s = 2 * percisions * recalls / (percisions + recalls)\n",
        "    # print(\"F1-scores:\")\n",
        "    # print(f1s)\n",
        "\n",
        "    # percision = np.mean(percisions)\n",
        "    # print(\"Ave Percisions:\")\n",
        "    # print(percision)\n",
        "\n",
        "    # recall = np.mean(recalls)\n",
        "    # print(\"Ave Recalls:\")\n",
        "    # print(recall)\n",
        "\n",
        "    # f1 = np.nanmean(f1s)\n",
        "    # print(\"Ave F1-scores:\")\n",
        "    # print(f1)\n",
        "    \n",
        "\n",
        "        \n",
        "    batch_bar.close()\n",
        "    acc = 100 * num_correct / (config['batch_size']* len(dataloader))\n",
        "    acc1 = 100 * num_correct1 / (config['batch_size']* len(dataloader))\n",
        "    acc2 = 100 * num_correct2 / (config['batch_size']* len(dataloader))\n",
        "    acc3 = 100 * num_correct3 / (config['batch_size']* len(dataloader))\n",
        "    total_loss = float(total_loss / len(dataloader))\n",
        "    return acc, acc1, acc2, acc3, total_loss"
      ],
      "metadata": {
        "id": "iL0hGgrdfNY_"
      },
      "execution_count": null,
      "outputs": []
    },
    {
      "cell_type": "code",
      "source": [
        "\n",
        "def validate_gender(model, dataloader, criterion):\n",
        "    model.eval()\n",
        "    batch_bar = tqdm(total=len(dataloader), dynamic_ncols=True, position=0, leave=False, desc='Val', ncols=5)\n",
        "\n",
        "    num_correct = 0.0\n",
        "    total_loss = 0.0\n",
        "\n",
        "    for i, (images, another_label,labels,fileName) in enumerate(dataloader):\n",
        "        #labels =labels.type(torch.LongTensor)   # casting to long\n",
        "        # Move images to device\n",
        "        images, labels = images.to(device), labels.to(device)\n",
        "        \n",
        "        # Get model outputs\n",
        "        with torch.inference_mode():\n",
        "        #with torch.no_grad():\n",
        "            outputs = model(images)\n",
        "            loss = criterion(outputs, labels)\n",
        "\n",
        "\n",
        "        num_correct += int((torch.argmax(outputs, axis=1) == labels).sum())\n",
        "        total_loss += float(loss.item())\n",
        "\n",
        "        batch_bar.set_postfix(\n",
        "            acc=\"{:.04f}%\".format(100 * num_correct / (config['batch_size']*(i + 1))),\n",
        "            loss=\"{:.04f}\".format(float(total_loss / (i + 1))),\n",
        "            num_correct=num_correct)\n",
        "\n",
        "        batch_bar.update()\n",
        "        \n",
        "    batch_bar.close()\n",
        "    acc = 100 * num_correct / (config['batch_size']* len(dataloader))\n",
        "    total_loss = float(total_loss / len(dataloader))\n",
        "    return acc, total_loss"
      ],
      "metadata": {
        "id": "egwHfnYgf7Oq"
      },
      "execution_count": null,
      "outputs": []
    },
    {
      "cell_type": "code",
      "source": [
        "gc.collect() # These commands help you when you face CUDA OOM error\n",
        "torch.cuda.empty_cache()\n"
      ],
      "metadata": {
        "id": "WZyg6jSEbch9",
        "colab": {
          "base_uri": "https://localhost:8080/"
        },
        "outputId": "5be56254-87ab-4ab1-ab7c-7a4c11515931"
      },
      "execution_count": null,
      "outputs": [
        {
          "output_type": "stream",
          "name": "stderr",
          "text": []
        }
      ]
    },
    {
      "cell_type": "code",
      "source": [
        "best_valacc = 0.00\n",
        "\n",
        "for epoch in range(config['epochs']):\n",
        "\n",
        "    curr_lr_age = float(optimizer_age.param_groups[0]['lr'])\n",
        "    #curr_lr_gender = float(optimizer_gender.param_groups[0]['lr'])\n",
        "\n",
        "    train_acc_age, train_loss_age = train_age(model, train_loader, optimizer_age, criterion_age)\n",
        "   #train_acc_age, train_loss_age = train_age(model_age, train_loader, optimizer_age, criterion_age)\n",
        "    #train_acc_gender, train_loss_gender = train_gender(model_gender, train_loader, optimizer_gender, criterion_gender)\n",
        "\n",
        "\n",
        "\n",
        "    print(\"\\nEpoch {}/{}: \\nTrain Acc {:.04f}%\\t Train Loss age {:.04f}\\t Learning Rate age {:.04f}\".format(\n",
        "        epoch + 1,\n",
        "        config['epochs'],\n",
        "        train_acc_age,\n",
        "        train_loss_age,\n",
        "        curr_lr_age))\n",
        "    \n",
        "    # print(\"\\nEpoch {}/{}: \\nTrain Acc {:.04f}%\\t Train Loss gender {:.04f}\\t Learning Rate gender {:.04f}\".format(\n",
        "    #     epoch + 1,\n",
        "    #     config['epochs'],\n",
        "    #     train_acc_gender,\n",
        "    #     train_loss_gender,\n",
        "    #     curr_lr_gender))\n",
        "    \n",
        "    val_acc_age, val_acc_age1, val_acc_age2, val_acc_age3, val_loss_age = validate_age(model, test_loader, criterion_age)\n",
        "    #val_acc_age, val_loss_age = validate_age(model_age, test_loader, criterion_age)\n",
        "    # val_acc_age, val_loss_age = validate_age(model_age, val_loader, criterion_age)\n",
        "    #val_acc_gender, val_loss_gender = validate_gender(model_gender, val_loader, criterion_gender)\n",
        "    \n",
        "    \n",
        "    scheduler_age.step(train_acc_age)\n",
        "    \n",
        "    #scheduler_age.step(val_acc_age)\n",
        "    #scheduler_gender.step(val_acc_gender)\n",
        "    \n",
        "    #scheduler.step()\n",
        "\n",
        "    print(\"Val Acc age 0 {:.04f}%\\t Val Acc age 5 {:.04f}%\\t Val Acc age 10 {:.04f}%\\t Val Acc age 15 {:.04f}%\\t Val Loss age {:.04f}\".format(val_acc_age, val_acc_age1, val_acc_age2, val_acc_age3, val_loss_age))\n",
        "    #print(\"Val Acc gender {:.04f}%\\t Val Loss gender {:.04f}\".format(val_acc_gender, val_loss_gender))\n",
        "\n",
        "    # wandb.log({\"train_loss\":train_loss, 'train_Acc': train_acc, 'validation_Acc':val_acc, \n",
        "    #            'validation_loss': val_loss, \"learning_Rate\": curr_lr})\n",
        "    \n",
        "    # If you are using a scheduler in your train function within your iteration loop, you may want to log\n",
        "    # your learning rate differently \n",
        "\n",
        "    # #Save model in drive location if val_acc is better than best recorded val_acc\n",
        "    # if val_acc >= best_valacc:\n",
        "    #   #path = os.path.join(root, model_directory, 'checkpoint' + '.pth')\n",
        "    #   print(\"Saving model\")\n",
        "    #   torch.save({'model_state_dict':model.state_dict(),\n",
        "    #               'optimizer_state_dict':optimizer.state_dict(),\n",
        "    #               #'scheduler_state_dict':scheduler.state_dict(),\n",
        "    #               'val_acc': val_acc, \n",
        "    #               'epoch': epoch}, './checkpoint.pth')\n",
        "    #   best_valacc = val_acc\n",
        "    #   wandb.save('checkpoint.pth')\n",
        "      # You may find it interesting to exlplore Wandb Artifcats to version your models\n",
        "#run.finish()"
      ],
      "metadata": {
        "colab": {
          "base_uri": "https://localhost:8080/"
        },
        "id": "4y0yjPGcbcfX",
        "outputId": "e3934aa6-960b-4061-9475-0f5d4abc5a85"
      },
      "execution_count": null,
      "outputs": [
        {
          "metadata": {
            "tags": null
          },
          "name": "stderr",
          "output_type": "stream",
          "text": [
            ""
          ]
        },
        {
          "metadata": {
            "tags": null
          },
          "name": "stdout",
          "output_type": "stream",
          "text": [
            "\n",
            "Epoch 1/150: \n",
            "Train Acc 97.5164%\t Train Loss age 0.0731\t Learning Rate age 0.0010\n"
          ]
        },
        {
          "metadata": {
            "tags": null
          },
          "name": "stderr",
          "output_type": "stream",
          "text": [
            ""
          ]
        },
        {
          "metadata": {
            "tags": null
          },
          "name": "stdout",
          "output_type": "stream",
          "text": [
            "Val Acc age 0 73.4481%\t Val Acc age 5 88.6085%\t Val Acc age 10 94.6157%\t Val Acc age 15 97.2656%\t Val Loss age 1.4665\n"
          ]
        },
        {
          "metadata": {
            "tags": null
          },
          "name": "stderr",
          "output_type": "stream",
          "text": [
            ""
          ]
        },
        {
          "metadata": {
            "tags": null
          },
          "name": "stdout",
          "output_type": "stream",
          "text": [
            "\n",
            "Epoch 2/150: \n",
            "Train Acc 97.6140%\t Train Loss age 0.0687\t Learning Rate age 0.0010\n"
          ]
        },
        {
          "metadata": {
            "tags": null
          },
          "name": "stderr",
          "output_type": "stream",
          "text": [
            ""
          ]
        },
        {
          "metadata": {
            "tags": null
          },
          "name": "stdout",
          "output_type": "stream",
          "text": [
            "Val Acc age 0 73.0785%\t Val Acc age 5 88.3024%\t Val Acc age 10 95.0486%\t Val Acc age 15 97.6457%\t Val Loss age 1.4602\n"
          ]
        },
        {
          "metadata": {
            "tags": null
          },
          "name": "stderr",
          "output_type": "stream",
          "text": [
            ""
          ]
        },
        {
          "metadata": {
            "tags": null
          },
          "name": "stdout",
          "output_type": "stream",
          "text": [
            "\n",
            "Epoch 3/150: \n",
            "Train Acc 97.6694%\t Train Loss age 0.0653\t Learning Rate age 0.0010\n"
          ]
        },
        {
          "metadata": {
            "tags": null
          },
          "name": "stderr",
          "output_type": "stream",
          "text": [
            ""
          ]
        },
        {
          "metadata": {
            "tags": null
          },
          "name": "stdout",
          "output_type": "stream",
          "text": [
            "Val Acc age 0 73.2475%\t Val Acc age 5 88.4502%\t Val Acc age 10 94.9958%\t Val Acc age 15 97.3501%\t Val Loss age 1.4808\n"
          ]
        },
        {
          "metadata": {
            "tags": null
          },
          "name": "stderr",
          "output_type": "stream",
          "text": [
            ""
          ]
        },
        {
          "metadata": {
            "tags": null
          },
          "name": "stdout",
          "output_type": "stream",
          "text": [
            "\n",
            "Epoch 4/150: \n",
            "Train Acc 97.5692%\t Train Loss age 0.0693\t Learning Rate age 0.0010\n"
          ]
        },
        {
          "metadata": {
            "tags": null
          },
          "name": "stderr",
          "output_type": "stream",
          "text": [
            ""
          ]
        },
        {
          "metadata": {
            "tags": null
          },
          "name": "stdout",
          "output_type": "stream",
          "text": [
            "Val Acc age 0 73.5642%\t Val Acc age 5 88.5874%\t Val Acc age 10 95.0274%\t Val Acc age 15 97.4451%\t Val Loss age 1.4884\n"
          ]
        },
        {
          "metadata": {
            "tags": null
          },
          "name": "stderr",
          "output_type": "stream",
          "text": [
            ""
          ]
        },
        {
          "metadata": {
            "tags": null
          },
          "name": "stdout",
          "output_type": "stream",
          "text": [
            "\n",
            "Epoch 5/150: \n",
            "Train Acc 97.6008%\t Train Loss age 0.0675\t Learning Rate age 0.0010\n"
          ]
        },
        {
          "metadata": {
            "tags": null
          },
          "name": "stderr",
          "output_type": "stream",
          "text": [
            ""
          ]
        },
        {
          "metadata": {
            "tags": null
          },
          "name": "stdout",
          "output_type": "stream",
          "text": [
            "Val Acc age 0 72.5507%\t Val Acc age 5 88.4291%\t Val Acc age 10 95.0802%\t Val Acc age 15 97.5929%\t Val Loss age 1.4672\n"
          ]
        },
        {
          "metadata": {
            "tags": null
          },
          "name": "stderr",
          "output_type": "stream",
          "text": [
            ""
          ]
        },
        {
          "metadata": {
            "tags": null
          },
          "name": "stdout",
          "output_type": "stream",
          "text": [
            "\n",
            "Epoch 6/150: \n",
            "Train Acc 97.6087%\t Train Loss age 0.0683\t Learning Rate age 0.0010\n"
          ]
        },
        {
          "metadata": {
            "tags": null
          },
          "name": "stderr",
          "output_type": "stream",
          "text": [
            ""
          ]
        },
        {
          "metadata": {
            "tags": null
          },
          "name": "stdout",
          "output_type": "stream",
          "text": [
            "Val Acc age 0 72.4662%\t Val Acc age 5 87.9962%\t Val Acc age 10 95.2069%\t Val Acc age 15 97.8252%\t Val Loss age 1.5072\n"
          ]
        },
        {
          "metadata": {
            "tags": null
          },
          "name": "stderr",
          "output_type": "stream",
          "text": [
            ""
          ]
        },
        {
          "metadata": {
            "tags": null
          },
          "name": "stdout",
          "output_type": "stream",
          "text": [
            "\n",
            "Epoch 7/150: \n",
            "Train Acc 97.6193%\t Train Loss age 0.0651\t Learning Rate age 0.0010\n"
          ]
        },
        {
          "metadata": {
            "tags": null
          },
          "name": "stderr",
          "output_type": "stream",
          "text": [
            ""
          ]
        },
        {
          "metadata": {
            "tags": null
          },
          "name": "stdout",
          "output_type": "stream",
          "text": [
            "Val Acc age 0 72.9307%\t Val Acc age 5 88.3657%\t Val Acc age 10 94.8163%\t Val Acc age 15 97.2656%\t Val Loss age 1.4822\n"
          ]
        },
        {
          "metadata": {
            "tags": null
          },
          "name": "stderr",
          "output_type": "stream",
          "text": [
            ""
          ]
        },
        {
          "metadata": {
            "tags": null
          },
          "name": "stdout",
          "output_type": "stream",
          "text": [
            "\n",
            "Epoch 8/150: \n",
            "Train Acc 98.0310%\t Train Loss age 0.0498\t Learning Rate age 0.0002\n"
          ]
        },
        {
          "metadata": {
            "tags": null
          },
          "name": "stderr",
          "output_type": "stream",
          "text": [
            ""
          ]
        },
        {
          "metadata": {
            "tags": null
          },
          "name": "stdout",
          "output_type": "stream",
          "text": [
            "Val Acc age 0 73.0046%\t Val Acc age 5 88.7247%\t Val Acc age 10 95.1330%\t Val Acc age 15 97.6985%\t Val Loss age 1.4462\n"
          ]
        },
        {
          "metadata": {
            "tags": null
          },
          "name": "stderr",
          "output_type": "stream",
          "text": [
            ""
          ]
        },
        {
          "metadata": {
            "tags": null
          },
          "name": "stdout",
          "output_type": "stream",
          "text": [
            "\n",
            "Epoch 9/150: \n",
            "Train Acc 98.0627%\t Train Loss age 0.0440\t Learning Rate age 0.0002\n"
          ]
        },
        {
          "metadata": {
            "tags": null
          },
          "name": "stderr",
          "output_type": "stream",
          "text": [
            ""
          ]
        },
        {
          "metadata": {
            "tags": null
          },
          "name": "stdout",
          "output_type": "stream",
          "text": [
            "Val Acc age 0 73.1313%\t Val Acc age 5 88.7774%\t Val Acc age 10 95.2597%\t Val Acc age 15 97.7513%\t Val Loss age 1.4514\n"
          ]
        },
        {
          "metadata": {
            "tags": null
          },
          "name": "stderr",
          "output_type": "stream",
          "text": [
            ""
          ]
        },
        {
          "metadata": {
            "tags": null
          },
          "name": "stdout",
          "output_type": "stream",
          "text": [
            "\n",
            "Epoch 10/150: \n",
            "Train Acc 98.2079%\t Train Loss age 0.0409\t Learning Rate age 0.0002\n"
          ]
        },
        {
          "metadata": {
            "tags": null
          },
          "name": "stderr",
          "output_type": "stream",
          "text": [
            ""
          ]
        },
        {
          "metadata": {
            "tags": null
          },
          "name": "stdout",
          "output_type": "stream",
          "text": [
            "Val Acc age 0 73.0997%\t Val Acc age 5 89.0097%\t Val Acc age 10 95.4286%\t Val Acc age 15 97.8674%\t Val Loss age 1.4486\n"
          ]
        },
        {
          "metadata": {
            "tags": null
          },
          "name": "stderr",
          "output_type": "stream",
          "text": [
            ""
          ]
        },
        {
          "metadata": {
            "tags": null
          },
          "name": "stdout",
          "output_type": "stream",
          "text": [
            "\n",
            "Epoch 11/150: \n",
            "Train Acc 98.1868%\t Train Loss age 0.0396\t Learning Rate age 0.0002\n"
          ]
        },
        {
          "metadata": {
            "tags": null
          },
          "name": "stderr",
          "output_type": "stream",
          "text": [
            ""
          ]
        },
        {
          "metadata": {
            "tags": null
          },
          "name": "stdout",
          "output_type": "stream",
          "text": [
            "Val Acc age 0 73.2475%\t Val Acc age 5 88.9569%\t Val Acc age 10 95.5131%\t Val Acc age 15 97.8357%\t Val Loss age 1.4437\n"
          ]
        },
        {
          "metadata": {
            "tags": null
          },
          "name": "stderr",
          "output_type": "stream",
          "text": [
            ""
          ]
        },
        {
          "metadata": {
            "tags": null
          },
          "name": "stdout",
          "output_type": "stream",
          "text": [
            "\n",
            "Epoch 12/150: \n",
            "Train Acc 98.2923%\t Train Loss age 0.0364\t Learning Rate age 0.0002\n"
          ]
        },
        {
          "metadata": {
            "tags": null
          },
          "name": "stderr",
          "output_type": "stream",
          "text": [
            ""
          ]
        },
        {
          "metadata": {
            "tags": null
          },
          "name": "stdout",
          "output_type": "stream",
          "text": [
            "Val Acc age 0 73.3003%\t Val Acc age 5 88.7352%\t Val Acc age 10 95.2175%\t Val Acc age 15 97.6668%\t Val Loss age 1.4344\n"
          ]
        },
        {
          "metadata": {
            "tags": null
          },
          "name": "stderr",
          "output_type": "stream",
          "text": [
            ""
          ]
        },
        {
          "metadata": {
            "tags": null
          },
          "name": "stdout",
          "output_type": "stream",
          "text": [
            "\n",
            "Epoch 13/150: \n",
            "Train Acc 98.2132%\t Train Loss age 0.0369\t Learning Rate age 0.0002\n"
          ]
        },
        {
          "metadata": {
            "tags": null
          },
          "name": "stderr",
          "output_type": "stream",
          "text": [
            ""
          ]
        },
        {
          "metadata": {
            "tags": null
          },
          "name": "stdout",
          "output_type": "stream",
          "text": [
            "Val Acc age 0 73.3425%\t Val Acc age 5 89.0836%\t Val Acc age 10 95.3970%\t Val Acc age 15 97.8146%\t Val Loss age 1.4397\n"
          ]
        },
        {
          "metadata": {
            "tags": null
          },
          "name": "stderr",
          "output_type": "stream",
          "text": [
            ""
          ]
        },
        {
          "metadata": {
            "tags": null
          },
          "name": "stdout",
          "output_type": "stream",
          "text": [
            "\n",
            "Epoch 14/150: \n",
            "Train Acc 98.2211%\t Train Loss age 0.0357\t Learning Rate age 0.0002\n"
          ]
        },
        {
          "metadata": {
            "tags": null
          },
          "name": "stderr",
          "output_type": "stream",
          "text": [
            ""
          ]
        },
        {
          "metadata": {
            "tags": null
          },
          "name": "stdout",
          "output_type": "stream",
          "text": [
            "Val Acc age 0 73.1630%\t Val Acc age 5 88.6296%\t Val Acc age 10 95.0697%\t Val Acc age 15 97.5718%\t Val Loss age 1.4342\n"
          ]
        },
        {
          "output_type": "stream",
          "name": "stderr",
          "text": []
        },
        {
          "output_type": "stream",
          "name": "stdout",
          "text": [
            "\n",
            "Epoch 15/150: \n",
            "Train Acc 98.2422%\t Train Loss age 0.0343\t Learning Rate age 0.0002\n"
          ]
        },
        {
          "output_type": "stream",
          "name": "stderr",
          "text": []
        },
        {
          "output_type": "stream",
          "name": "stdout",
          "text": [
            "Val Acc age 0 73.2897%\t Val Acc age 5 88.9147%\t Val Acc age 10 95.2386%\t Val Acc age 15 97.7090%\t Val Loss age 1.4393\n"
          ]
        },
        {
          "output_type": "stream",
          "name": "stderr",
          "text": []
        },
        {
          "output_type": "stream",
          "name": "stdout",
          "text": [
            "\n",
            "Epoch 16/150: \n",
            "Train Acc 98.3794%\t Train Loss age 0.0328\t Learning Rate age 0.0002\n"
          ]
        },
        {
          "output_type": "stream",
          "name": "stderr",
          "text": []
        },
        {
          "output_type": "stream",
          "name": "stdout",
          "text": [
            "Val Acc age 0 73.2158%\t Val Acc age 5 88.8091%\t Val Acc age 10 95.2069%\t Val Acc age 15 97.6140%\t Val Loss age 1.4359\n"
          ]
        },
        {
          "output_type": "stream",
          "name": "stderr",
          "text": []
        },
        {
          "output_type": "stream",
          "name": "stdout",
          "text": [
            "\n",
            "Epoch 17/150: \n",
            "Train Acc 98.2659%\t Train Loss age 0.0336\t Learning Rate age 0.0002\n"
          ]
        },
        {
          "output_type": "stream",
          "name": "stderr",
          "text": []
        },
        {
          "output_type": "stream",
          "name": "stdout",
          "text": [
            "Val Acc age 0 73.2052%\t Val Acc age 5 88.8091%\t Val Acc age 10 95.1436%\t Val Acc age 15 97.6035%\t Val Loss age 1.4382\n"
          ]
        },
        {
          "output_type": "stream",
          "name": "stderr",
          "text": []
        },
        {
          "output_type": "stream",
          "name": "stdout",
          "text": [
            "\n",
            "Epoch 18/150: \n",
            "Train Acc 98.2343%\t Train Loss age 0.0341\t Learning Rate age 0.0002\n"
          ]
        },
        {
          "output_type": "stream",
          "name": "stderr",
          "text": []
        },
        {
          "output_type": "stream",
          "name": "stdout",
          "text": [
            "Val Acc age 0 73.3108%\t Val Acc age 5 88.8725%\t Val Acc age 10 95.1964%\t Val Acc age 15 97.5929%\t Val Loss age 1.4370\n"
          ]
        },
        {
          "output_type": "stream",
          "name": "stderr",
          "text": []
        },
        {
          "output_type": "stream",
          "name": "stdout",
          "text": [
            "\n",
            "Epoch 19/150: \n",
            "Train Acc 98.3266%\t Train Loss age 0.0317\t Learning Rate age 0.0002\n"
          ]
        },
        {
          "output_type": "stream",
          "name": "stderr",
          "text": []
        },
        {
          "output_type": "stream",
          "name": "stdout",
          "text": [
            "Val Acc age 0 73.4481%\t Val Acc age 5 88.9464%\t Val Acc age 10 95.2280%\t Val Acc age 15 97.6140%\t Val Loss age 1.4358\n"
          ]
        },
        {
          "output_type": "stream",
          "name": "stderr",
          "text": []
        },
        {
          "output_type": "stream",
          "name": "stdout",
          "text": [
            "\n",
            "Epoch 20/150: \n",
            "Train Acc 98.3715%\t Train Loss age 0.0320\t Learning Rate age 0.0002\n"
          ]
        },
        {
          "output_type": "stream",
          "name": "stderr",
          "text": []
        },
        {
          "output_type": "stream",
          "name": "stdout",
          "text": [
            "Val Acc age 0 73.2052%\t Val Acc age 5 88.7563%\t Val Acc age 10 95.1647%\t Val Acc age 15 97.6140%\t Val Loss age 1.4416\n"
          ]
        },
        {
          "output_type": "stream",
          "name": "stderr",
          "text": []
        },
        {
          "output_type": "stream",
          "name": "stdout",
          "text": [
            "\n",
            "Epoch 21/150: \n",
            "Train Acc 98.3847%\t Train Loss age 0.0304\t Learning Rate age 0.0000\n"
          ]
        },
        {
          "output_type": "stream",
          "name": "stderr",
          "text": []
        },
        {
          "output_type": "stream",
          "name": "stdout",
          "text": [
            "Val Acc age 0 73.3108%\t Val Acc age 5 88.8830%\t Val Acc age 10 95.2175%\t Val Acc age 15 97.6035%\t Val Loss age 1.4385\n"
          ]
        },
        {
          "output_type": "stream",
          "name": "stderr",
          "text": [
            "Train:  77%|███████▋  | 114/148 [02:39<00:42,  1.26s/it, acc=98.8418%, loss=0.0299, lr=0.0000, num_correct=28846]"
          ]
        }
      ]
    },
    {
      "cell_type": "code",
      "source": [
        "val_acc_age, val_acc_age1, val_acc_age2, val_acc_age3, val_loss_age = validate_age(model, test_loader, criterion_age)\n"
      ],
      "metadata": {
        "id": "60wp4HPRKH-Q",
        "colab": {
          "base_uri": "https://localhost:8080/"
        },
        "outputId": "5067a71e-e24f-4705-9348-7a51443ff579"
      },
      "execution_count": null,
      "outputs": [
        {
          "output_type": "stream",
          "name": "stderr",
          "text": [
            "                                                                                                   "
          ]
        },
        {
          "output_type": "stream",
          "name": "stdout",
          "text": [
            "tps:\n",
            "[419, 163, 105, 85, 70, 46, 47, 80, 60, 61, 35, 64, 46, 82, 106, 139, 86, 150, 54, 3, 6, 7, 2, 33, 12, 90, 7, 47, 9, 16, 5, 8, 2, 6, 18, 150, 105, 99, 84, 175, 32, 96, 46, 34, 120, 49, 51, 46, 63, 124, 65, 137, 126, 207, 148, 129, 51, 165, 44, 167, 204, 131, 121, 53, 308, 108, 108, 111, 76, 170, 52, 164, 99, 51, 200, 86, 36, 90, 41]\n",
            "fps:\n",
            "[20, 56, 12, 3, 31, 5, 5, 3, 9, 9, 1, 6, 2, 4, 17, 20, 10, 15, 8, 18, 39, 55, 17, 229, 86, 242, 60, 492, 82, 121, 26, 120, 4, 51, 136, 40, 20, 15, 19, 100, 6, 60, 11, 10, 39, 7, 7, 26, 5, 8, 6, 16, 5, 13, 10, 11, 0, 18, 0, 9, 7, 7, 0, 0, 2, 6, 3, 3, 0, 9, 6, 9, 4, 1, 2, 0, 0, 4, 0]\n",
            "tns:\n",
            "[8952, 9189, 9296, 9313, 9320, 9368, 9373, 9332, 9345, 9343, 9393, 9356, 9374, 9340, 9301, 9262, 9330, 9251, 9364, 9345, 9320, 9302, 9324, 9015, 9196, 8762, 9243, 8747, 9238, 9169, 9339, 9184, 9398, 9284, 9108, 9199, 9277, 9265, 9295, 9115, 9377, 9259, 9358, 9378, 9230, 9358, 9349, 9338, 9348, 9268, 9357, 9276, 9296, 9197, 9265, 9275, 9376, 9244, 9379, 9236, 9216, 9283, 9302, 9376, 9119, 9314, 9315, 9314, 9353, 9250, 9368, 9252, 9320, 9377, 9218, 9341, 9392, 9335, 9388]\n",
            "fns:\n",
            "[38, 21, 16, 28, 8, 10, 4, 14, 15, 16, 0, 3, 7, 3, 5, 8, 3, 13, 3, 63, 64, 65, 86, 152, 135, 335, 119, 143, 100, 123, 59, 117, 25, 88, 167, 40, 27, 50, 31, 39, 14, 14, 14, 7, 40, 15, 22, 19, 13, 29, 1, 0, 2, 12, 6, 14, 2, 2, 6, 17, 2, 8, 6, 0, 0, 1, 3, 1, 0, 0, 3, 4, 6, 0, 9, 2, 1, 0, 0]\n",
            "Percisions:\n",
            "[0.95227273 0.74090909 0.88983051 0.95505618 0.68627451 0.88461538\n",
            " 0.88679245 0.95238095 0.85714286 0.85915493 0.94594595 0.90140845\n",
            " 0.93877551 0.94252874 0.85483871 0.86875    0.88659794 0.90361446\n",
            " 0.85714286 0.13636364 0.13043478 0.11111111 0.1        0.12547529\n",
            " 0.12121212 0.27027027 0.10294118 0.08703704 0.09782609 0.11594203\n",
            " 0.15625    0.0620155  0.28571429 0.10344828 0.11612903 0.78534031\n",
            " 0.83333333 0.86086957 0.80769231 0.63405797 0.82051282 0.61146497\n",
            " 0.79310345 0.75555556 0.75       0.85964912 0.86440678 0.63013699\n",
            " 0.91304348 0.93233083 0.90277778 0.88961039 0.95454545 0.93665158\n",
            " 0.93081761 0.91489362 0.98076923 0.89673913 0.97777778 0.94350282\n",
            " 0.96226415 0.94244604 0.99180328 0.98148148 0.9903537  0.93913043\n",
            " 0.96428571 0.96521739 0.98701299 0.94444444 0.88135593 0.94252874\n",
            " 0.95192308 0.96226415 0.98522167 0.98850575 0.97297297 0.94736842\n",
            " 0.97619048]\n",
            "Recalls:\n",
            "[0.91484716 0.88108108 0.86065574 0.74561404 0.88607595 0.80701754\n",
            " 0.90384615 0.84210526 0.78947368 0.78205128 0.97222222 0.94117647\n",
            " 0.85185185 0.95348837 0.94642857 0.93918919 0.95555556 0.91463415\n",
            " 0.93103448 0.04477612 0.08450704 0.09589041 0.02247191 0.17741935\n",
            " 0.08108108 0.21126761 0.05511811 0.2460733  0.08181818 0.11428571\n",
            " 0.07692308 0.06349206 0.07142857 0.06315789 0.09677419 0.78534031\n",
            " 0.78947368 0.66       0.72413793 0.81395349 0.68085106 0.86486486\n",
            " 0.75409836 0.80952381 0.74534161 0.75384615 0.68918919 0.6969697\n",
            " 0.81818182 0.80519481 0.97014925 0.99275362 0.97674419 0.94090909\n",
            " 0.95483871 0.89583333 0.94444444 0.98214286 0.8627451  0.9027027\n",
            " 0.98550725 0.93571429 0.9453125  0.98148148 0.99676375 0.98181818\n",
            " 0.96428571 0.98230088 0.98701299 0.99415205 0.92857143 0.9704142\n",
            " 0.93396226 0.98076923 0.95238095 0.96629213 0.94736842 0.98901099\n",
            " 0.97619048]\n",
            "F1-scores:\n",
            "[0.93318486 0.80493827 0.875      0.83743842 0.77348066 0.8440367\n",
            " 0.8952381  0.89385475 0.82191781 0.81879195 0.95890411 0.92086331\n",
            " 0.89320388 0.94797688 0.89830508 0.9025974  0.9197861  0.90909091\n",
            " 0.89256198 0.06741573 0.1025641  0.10294118 0.03669725 0.14699332\n",
            " 0.09716599 0.23715415 0.07179487 0.12859097 0.08910891 0.11510791\n",
            " 0.10309278 0.0627451  0.11428571 0.07843137 0.10557185 0.78534031\n",
            " 0.81081081 0.74716981 0.76363636 0.71283096 0.74418605 0.71641791\n",
            " 0.77310924 0.7816092  0.74766355 0.80327869 0.76691729 0.6618705\n",
            " 0.8630137  0.8641115  0.9352518  0.93835616 0.96551724 0.93877551\n",
            " 0.94267516 0.90526316 0.96226415 0.9375     0.91666667 0.92265193\n",
            " 0.97374702 0.9390681  0.968      0.98148148 0.99354839 0.96\n",
            " 0.96428571 0.97368421 0.98701299 0.96866097 0.90434783 0.95626822\n",
            " 0.94285714 0.97142857 0.968523   0.97727273 0.96       0.96774194\n",
            " 0.97619048]\n",
            "Ave Percisions:\n",
            "0.7385133736493522\n",
            "Ave Recalls:\n",
            "0.7293464893404276\n",
            "Ave F1-scores:\n",
            "0.729643529199069\n"
          ]
        },
        {
          "output_type": "stream",
          "name": "stderr",
          "text": [
            "\r"
          ]
        }
      ]
    }
  ],
  "metadata": {
    "kernelspec": {
      "display_name": "Python 3",
      "language": "python",
      "name": "python3"
    },
    "language_info": {
      "codemirror_mode": {
        "name": "ipython",
        "version": 3
      },
      "file_extension": ".py",
      "mimetype": "text/x-python",
      "name": "python",
      "nbconvert_exporter": "python",
      "pygments_lexer": "ipython3",
      "version": "3.7.11"
    },
    "colab": {
      "provenance": [],
      "collapsed_sections": [
        "hAAWGVhboSrY",
        "osqh2hR6oSra",
        "hY4T7WfdoSrc"
      ]
    },
    "accelerator": "GPU",
    "gpuClass": "standard"
  },
  "nbformat": 4,
  "nbformat_minor": 0
}